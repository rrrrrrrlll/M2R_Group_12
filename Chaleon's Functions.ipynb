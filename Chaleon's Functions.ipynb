{
 "cells": [
  {
   "cell_type": "code",
   "execution_count": null,
   "metadata": {},
   "outputs": [],
   "source": [
    "import scipy.stats as st\n",
    "#df=dataframe, index_list=list of names of the 13 genes, lam = parameter for the poisson \n",
    "def expected_count_pois(df, index_list, lam):\n",
    "    expected_vals=[] #frequency\n",
    "    expected_ranges=[] #corresponding ranges\n",
    "    n=len(df)\n",
    "    for j in index_list:\n",
    "        li=[]\n",
    "        ind=[]\n",
    "        p=uem14_list_n1[j]\n",
    "        m=floor(min(p14_n1[j]))\n",
    "        M=ceil(max(p14_n1[j]))\n",
    "        low=m\n",
    "        upp=m+1\n",
    "        if m==0:\n",
    "            coun=n*st.poisson.cdf(m+1,lam) \n",
    "        else: \n",
    "            coun=n*(st.poisson.cdf(m+1,lam)-st.poisson.cdf(m-1,lam))\n",
    "        if coun>=5:\n",
    "            ind.append([low,upp])\n",
    "            li.append(coun)\n",
    "            low=upp\n",
    "            upp+=1\n",
    "            coun=0\n",
    "        else:\n",
    "            pass\n",
    "        for i in range(m+1,M-1,1):\n",
    "            coun+=n*(st.poisson.cdf(i+1,lam)-st.poisson.cdf(i,lam))\n",
    "            if coun>=5: \n",
    "                upp=i+1\n",
    "                ind.append([low,upp])\n",
    "                li.append(coun)\n",
    "                coun=0\n",
    "                low=upp\n",
    "            else:\n",
    "                pass\n",
    "        upp=M\n",
    "        coun+=n*(st.poisson.cdf(M,lam)-st.poisson.cdf(M-1,lam))\n",
    "        if coun>=5:\n",
    "            ind.append([low,upp])\n",
    "            li.append(coun)\n",
    "        else:\n",
    "            li[-1]=li[-1]+coun\n",
    "            ind[-1][1]=upp\n",
    "        expected_vals.append(li)\n",
    "        expected_ranges.append(ind)\n",
    "    expected_vals=dict(zip(index_list,expected_vals))\n",
    "    expected_ranges=dict(zip(index_list,expected_ranges))"
   ]
  }
 ],
 "metadata": {
  "language_info": {
   "name": "python"
  }
 },
 "nbformat": 4,
 "nbformat_minor": 2
}
