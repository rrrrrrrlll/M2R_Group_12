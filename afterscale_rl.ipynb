{
 "cells": [
  {
   "cell_type": "code",
   "execution_count": 1,
   "metadata": {},
   "outputs": [
    {
     "name": "stderr",
     "output_type": "stream",
     "text": [
      "WARNING (pytensor.configdefaults): g++ not detected!  PyTensor will be unable to compile C-implementations and will default to Python. Performance may be severely degraded. To remove this warning, set PyTensor flags cxx to an empty string.\n",
      "WARNING (pytensor.tensor.blas): Using NumPy C-API based implementation for BLAS functions.\n"
     ]
    },
    {
     "name": "stdout",
     "output_type": "stream",
     "text": [
      "5.15.1\n"
     ]
    }
   ],
   "source": [
    "try: \n",
    "    import seaborn as sns\n",
    "except:\n",
    "    %pip install seaborn\n",
    "    import seaborn as sns\n",
    "try:\n",
    "    import pymc as pm # For MCMC\n",
    "except:\n",
    "    %pip install pymc\n",
    "    import pymc as pm\n",
    "try:\n",
    "    import arviz as az # For MCMC package\n",
    "except:\n",
    "    %pip install arviz\n",
    "    import arviz as az\n",
    "import numpy as np\n",
    "import matplotlib.pyplot as plt\n",
    "import seaborn as sns\n",
    "import pandas as pd\n",
    "try:\n",
    "    import corner\n",
    "except:\n",
    "    %pip install corner\n",
    "    import corner\n",
    "\n",
    "import iz\n",
    "\n",
    "print(pm.__version__)"
   ]
  },
  {
   "cell_type": "code",
   "execution_count": 22,
   "metadata": {},
   "outputs": [
    {
     "name": "stdout",
     "output_type": "stream",
     "text": [
      "Estimated parameters: r = 4.551250214259007, p = 0.14797146223604726\n",
      "Observed frequencies:\n",
      " [  1   4   7  11  11  12  26  35  32  36  39  54  74  79  68  88  92 107\n",
      " 101  82  98  84 120  78 111  89  91 103 101  82  76  70  60  63  60  48\n",
      "  50  45  42  56  44  30  37  24  37  23  19  20  18  14  13  15  11  10\n",
      "   6   8   4   8   7   8   5   4   2   2   2   3   4   1   1   1   2   3\n",
      "   4   1   1   1   1   1   1   1   1   1   1   1   1]\n",
      "Expected frequencies:\n",
      " [4.85034310e-01 1.88086365e+00 4.44807665e+00 8.27616872e+00\n",
      " 1.33119705e+01 1.93979617e+01 2.63099008e+01 3.37893031e+01\n",
      " 4.15692683e+01 4.93936363e+01 5.70301488e+01 6.42785794e+01\n",
      " 7.09748485e+01 7.69920826e+01 8.22394563e+01 8.66595233e+01\n",
      " 9.02246047e+01 9.29326785e+01 9.48031047e+01 9.58724275e+01\n",
      " 9.61904233e+01 9.58164983e+01 9.48164979e+01 9.32599527e+01\n",
      " 9.12177596e+01 8.87602801e+01 8.59558257e+01 8.28694928e+01\n",
      " 7.95623062e+01 7.60906300e+01 7.25058043e+01 6.88539704e+01\n",
      " 6.51760489e+01 6.15078387e+01 5.78802092e+01 5.43193614e+01\n",
      " 5.08471379e+01 4.74813630e+01 4.42362005e+01 4.11225159e+01\n",
      " 3.81482354e+01 3.53186938e+01 3.26369665e+01 3.01041813e+01\n",
      " 2.77198085e+01 2.54819272e+01 2.33874675e+01 2.14324284e+01\n",
      " 1.96120723e+01 1.79210974e+01 1.63537876e+01 1.49041436e+01\n",
      " 1.35659952e+01 1.23330969e+01 1.11992074e+01 1.01581568e+01\n",
      " 9.20390036e+00 8.33056214e+00 7.53246868e+00 6.80417475e+00\n",
      " 6.14048180e+00 5.53645039e+00 4.98740738e+00 4.48894882e+00\n",
      " 3.62750798e+00 3.25704323e+00 2.92218412e+00 2.61981142e+00\n",
      " 2.34703725e+00 2.10119395e+00 1.87982260e+00 1.50163276e+00\n",
      " 1.34083383e+00 1.06710830e+00 7.54371141e-01 4.18740127e-01\n",
      " 3.71684536e-01 2.92436229e-01 2.59219056e-01 2.29674801e-01\n",
      " 1.59351915e-01 9.73347260e-02 7.59016177e-02 3.56953387e-02\n",
      " 3.14842795e-09]\n",
      "Chi-Square Statistic: 317618979.3727475\n",
      "p-value: 0.0\n",
      "Reject the null hypothesis: The data does not follow a negative binomial distribution.\n"
     ]
    },
    {
     "data": {
      "text/plain": [
       "(317618979.3727475, 0.0, 4.551250214259007, 0.14797146223604726)"
      ]
     },
     "execution_count": 22,
     "metadata": {},
     "output_type": "execute_result"
    }
   ],
   "source": [
    "df1 = iz.dfg(1,4).astype('int64')\n",
    "iz.negative_binomial_gof(df1[\"MT-CO3\"])"
   ]
  },
  {
   "cell_type": "code",
   "execution_count": 23,
   "metadata": {},
   "outputs": [
    {
     "name": "stderr",
     "output_type": "stream",
     "text": [
      "/Users/liuruoque/Desktop/M2R/M2R_Group_12/iz/iz.py:36: FutureWarning: Setting an item of incompatible dtype is deprecated and will raise an error in a future version of pandas. Value '51.948051948051955' has dtype incompatible with int64, please explicitly cast to a compatible dtype first.\n",
      "  df1.iloc[i] = df1.iloc[i] / listfinal[i] * s_n\n",
      "/Users/liuruoque/Desktop/M2R/M2R_Group_12/iz/iz.py:36: FutureWarning: Setting an item of incompatible dtype is deprecated and will raise an error in a future version of pandas. Value '12.987012987012989' has dtype incompatible with int64, please explicitly cast to a compatible dtype first.\n",
      "  df1.iloc[i] = df1.iloc[i] / listfinal[i] * s_n\n",
      "/Users/liuruoque/Desktop/M2R/M2R_Group_12/iz/iz.py:36: FutureWarning: Setting an item of incompatible dtype is deprecated and will raise an error in a future version of pandas. Value '99.56709956709956' has dtype incompatible with int64, please explicitly cast to a compatible dtype first.\n",
      "  df1.iloc[i] = df1.iloc[i] / listfinal[i] * s_n\n",
      "/Users/liuruoque/Desktop/M2R/M2R_Group_12/iz/iz.py:36: FutureWarning: Setting an item of incompatible dtype is deprecated and will raise an error in a future version of pandas. Value '229.43722943722943' has dtype incompatible with int64, please explicitly cast to a compatible dtype first.\n",
      "  df1.iloc[i] = df1.iloc[i] / listfinal[i] * s_n\n",
      "/Users/liuruoque/Desktop/M2R/M2R_Group_12/iz/iz.py:36: FutureWarning: Setting an item of incompatible dtype is deprecated and will raise an error in a future version of pandas. Value '147.1861471861472' has dtype incompatible with int64, please explicitly cast to a compatible dtype first.\n",
      "  df1.iloc[i] = df1.iloc[i] / listfinal[i] * s_n\n",
      "/Users/liuruoque/Desktop/M2R/M2R_Group_12/iz/iz.py:36: FutureWarning: Setting an item of incompatible dtype is deprecated and will raise an error in a future version of pandas. Value '12.987012987012989' has dtype incompatible with int64, please explicitly cast to a compatible dtype first.\n",
      "  df1.iloc[i] = df1.iloc[i] / listfinal[i] * s_n\n",
      "/Users/liuruoque/Desktop/M2R/M2R_Group_12/iz/iz.py:36: FutureWarning: Setting an item of incompatible dtype is deprecated and will raise an error in a future version of pandas. Value '164.5021645021645' has dtype incompatible with int64, please explicitly cast to a compatible dtype first.\n",
      "  df1.iloc[i] = df1.iloc[i] / listfinal[i] * s_n\n",
      "/Users/liuruoque/Desktop/M2R/M2R_Group_12/iz/iz.py:36: FutureWarning: Setting an item of incompatible dtype is deprecated and will raise an error in a future version of pandas. Value '25.974025974025977' has dtype incompatible with int64, please explicitly cast to a compatible dtype first.\n",
      "  df1.iloc[i] = df1.iloc[i] / listfinal[i] * s_n\n",
      "/Users/liuruoque/Desktop/M2R/M2R_Group_12/iz/iz.py:36: FutureWarning: Setting an item of incompatible dtype is deprecated and will raise an error in a future version of pandas. Value '86.58008658008657' has dtype incompatible with int64, please explicitly cast to a compatible dtype first.\n",
      "  df1.iloc[i] = df1.iloc[i] / listfinal[i] * s_n\n",
      "/Users/liuruoque/Desktop/M2R/M2R_Group_12/iz/iz.py:36: FutureWarning: Setting an item of incompatible dtype is deprecated and will raise an error in a future version of pandas. Value '21.645021645021643' has dtype incompatible with int64, please explicitly cast to a compatible dtype first.\n",
      "  df1.iloc[i] = df1.iloc[i] / listfinal[i] * s_n\n",
      "/Users/liuruoque/Desktop/M2R/M2R_Group_12/iz/iz.py:36: FutureWarning: Setting an item of incompatible dtype is deprecated and will raise an error in a future version of pandas. Value '30.303030303030305' has dtype incompatible with int64, please explicitly cast to a compatible dtype first.\n",
      "  df1.iloc[i] = df1.iloc[i] / listfinal[i] * s_n\n",
      "/Users/liuruoque/Desktop/M2R/M2R_Group_12/iz/iz.py:36: FutureWarning: Setting an item of incompatible dtype is deprecated and will raise an error in a future version of pandas. Value '30.303030303030305' has dtype incompatible with int64, please explicitly cast to a compatible dtype first.\n",
      "  df1.iloc[i] = df1.iloc[i] / listfinal[i] * s_n\n",
      "/Users/liuruoque/Desktop/M2R/M2R_Group_12/iz/iz.py:36: FutureWarning: Setting an item of incompatible dtype is deprecated and will raise an error in a future version of pandas. Value '86.58008658008657' has dtype incompatible with int64, please explicitly cast to a compatible dtype first.\n",
      "  df1.iloc[i] = df1.iloc[i] / listfinal[i] * s_n\n"
     ]
    },
    {
     "name": "stdout",
     "output_type": "stream",
     "text": [
      "Estimated parameters: r = 19.352504477245475, p = 0.1057003571656948\n",
      "Observed frequencies:\n",
      " [1 1 1 ... 1 1 1]\n",
      "Expected frequencies:\n",
      " [1.00000000e-10 1.00000000e-10 1.00000000e-10 ... 1.00000000e-10\n",
      " 1.00000000e-10 1.42296447e-01]\n",
      "Chi-Square Statistic: 112819999997139.78\n",
      "p-value: 0.0\n",
      "Reject the null hypothesis: The data does not follow a negative binomial distribution.\n"
     ]
    },
    {
     "data": {
      "text/plain": [
       "(112819999997139.78, 0.0, 19.352504477245475, 0.1057003571656948)"
      ]
     },
     "execution_count": 23,
     "metadata": {},
     "output_type": "execute_result"
    }
   ],
   "source": [
    "iz.negative_binomial_gof(iz.norm2(df1)[\"MT-CO3\"])"
   ]
  },
  {
   "cell_type": "code",
   "execution_count": 24,
   "metadata": {},
   "outputs": [
    {
     "name": "stdout",
     "output_type": "stream",
     "text": [
      "250070.22420512204\n",
      "Estimated parameters: r = 1.145982649715101, p = 0.0003417475442269378\n",
      "Observed frequencies:\n",
      " [53  1  1 ...  1  1  1]\n",
      "Expected frequencies:\n",
      " [2.887e+03 1.000e-10 1.000e-10 ... 1.000e-10 1.000e-10 1.000e-10]\n",
      "Chi-Square Statistic: 28399999997113.973\n",
      "p-value: 0.0\n",
      "Reject the null hypothesis: The data does not follow a negative binomial distribution.\n"
     ]
    },
    {
     "data": {
      "text/plain": [
       "(28399999997113.973, 0.0, 1.145982649715101, 0.0003417475442269378)"
      ]
     },
     "execution_count": 24,
     "metadata": {},
     "output_type": "execute_result"
    }
   ],
   "source": [
    "file_path = 'datasets/Donor1_CD4_Genes.csv'\n",
    "df2 = pd.read_csv(file_path)\n",
    "\n",
    "file_path_meta = 'datasets/mt_genes_metadata.csv'\n",
    "dfmeta = pd.read_csv(file_path_meta)\n",
    "\n",
    "protein_coding_genes = dfmeta[dfmeta['gene_type'] == 'protein_coding']\n",
    "protein_names = protein_coding_genes['gene_name'].tolist()\n",
    "tRNA_coding_genes = dfmeta[dfmeta['gene_type']=='Mt_tRNA']\n",
    "tRNA_names = tRNA_coding_genes['gene_name'].tolist()\n",
    "rRNA_coding_genes = dfmeta[dfmeta['gene_type']=='Mt_rRNA']\n",
    "rRNA_names = rRNA_coding_genes['gene_name'].tolist()\n",
    "\n",
    "umi = df2[\"non-MT\"]\n",
    "\n",
    "iz.negative_binomial_gof(iz.norm1(df1, umi)[\"MT-ND1\"])"
   ]
  },
  {
   "cell_type": "code",
   "execution_count": null,
   "metadata": {},
   "outputs": [],
   "source": []
  }
 ],
 "metadata": {
  "kernelspec": {
   "display_name": "Python 3",
   "language": "python",
   "name": "python3"
  },
  "language_info": {
   "codemirror_mode": {
    "name": "ipython",
    "version": 3
   },
   "file_extension": ".py",
   "mimetype": "text/x-python",
   "name": "python",
   "nbconvert_exporter": "python",
   "pygments_lexer": "ipython3",
   "version": "3.11.4"
  }
 },
 "nbformat": 4,
 "nbformat_minor": 2
}
