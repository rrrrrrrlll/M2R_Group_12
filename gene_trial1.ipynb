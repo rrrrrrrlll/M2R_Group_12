{
 "cells": [
  {
   "cell_type": "markdown",
   "metadata": {},
   "source": [
    "## This time I would try the linear fit between the genes, only for interesting ones."
   ]
  },
  {
   "cell_type": "markdown",
   "metadata": {},
   "source": [
    "## Import the package"
   ]
  },
  {
   "cell_type": "code",
   "execution_count": null,
   "metadata": {},
   "outputs": [],
   "source": [
    "try:\n",
    "    import pymc as pm # For MCMC\n",
    "except:\n",
    "    !pip install pymc\n",
    "    import pymc as pm\n",
    "try:\n",
    "    import arviz as az # For MCMC package\n",
    "except:\n",
    "    !pip install arviz\n",
    "    import arviz as az\n",
    "import numpy as np\n",
    "import matplotlib.pyplot as plt\n",
    "import seaborn as sns\n",
    "import pandas as pd\n",
    "try:\n",
    "    import corner\n",
    "except:\n",
    "    !pip install corner\n",
    "    import corner\n",
    "\n",
    "print(pm.__version__)"
   ]
  },
  {
   "cell_type": "markdown",
   "metadata": {},
   "source": [
    "## Data from csv"
   ]
  },
  {
   "cell_type": "code",
   "execution_count": 4,
   "metadata": {},
   "outputs": [
    {
     "name": "stdout",
     "output_type": "stream",
     "text": [
      "Requirement already satisfied: pandas in /home/gitpod/.pyenv/versions/3.12.3/lib/python3.12/site-packages (2.2.2)\n",
      "Requirement already satisfied: numpy>=1.26.0 in /home/gitpod/.pyenv/versions/3.12.3/lib/python3.12/site-packages (from pandas) (1.26.4)\n",
      "Requirement already satisfied: python-dateutil>=2.8.2 in /home/gitpod/.pyenv/versions/3.12.3/lib/python3.12/site-packages (from pandas) (2.9.0.post0)\n",
      "Requirement already satisfied: pytz>=2020.1 in /home/gitpod/.pyenv/versions/3.12.3/lib/python3.12/site-packages (from pandas) (2024.1)\n",
      "Requirement already satisfied: tzdata>=2022.7 in /home/gitpod/.pyenv/versions/3.12.3/lib/python3.12/site-packages (from pandas) (2024.1)\n",
      "Requirement already satisfied: six>=1.5 in /home/gitpod/.pyenv/versions/3.12.3/lib/python3.12/site-packages (from python-dateutil>=2.8.2->pandas) (1.16.0)\n",
      "   Unnamed: 0 gene_name          gene_id  start   end gene_type  gene_version  \\\n",
      "0           0     MT-TF  ENSG00000210049    577   647   Mt_tRNA             1   \n",
      "1           0   MT-RNR1  ENSG00000211459    648  1601   Mt_rRNA             2   \n",
      "2           0     MT-TV  ENSG00000210077   1602  1670   Mt_tRNA             1   \n",
      "3           0   MT-RNR2  ENSG00000210082   1671  3229   Mt_rRNA             2   \n",
      "4           0    MT-TL1  ENSG00000209082   3230  3304   Mt_tRNA             1   \n",
      "\n",
      "     hgnc_id  \n",
      "0  HGNC:7481  \n",
      "1  HGNC:7470  \n",
      "2  HGNC:7500  \n",
      "3  HGNC:7471  \n",
      "4  HGNC:7490  \n"
     ]
    }
   ],
   "source": [
    "!pip install pandas\n",
    "import pandas as pd\n",
    "\n",
    "file_path = 'datasets/mt_genes_metadata.csv'\n",
    "\n",
    "dfmeta = pd.read_csv(file_path)\n",
    "\n",
    "print(dfmeta.head())"
   ]
  },
  {
   "cell_type": "code",
   "execution_count": 8,
   "metadata": {},
   "outputs": [],
   "source": [
    "protein_coding_genes = dfmeta[dfmeta['gene_type'] == 'protein_coding']\n",
    "protein_names = protein_coding_genes['gene_name'].tolist()\n",
    "tRNA_coding_genes = dfmeta[dfmeta['gene_type']=='Mt_tRNA']\n",
    "tRNA_names = tRNA_coding_genes['gene_name'].tolist()\n",
    "rRNA_coding_genes = dfmeta[dfmeta['gene_type']=='Mt_rRNA']\n",
    "rRNA_names = rRNA_coding_genes['gene_name'].tolist()"
   ]
  },
  {
   "cell_type": "code",
   "execution_count": 10,
   "metadata": {},
   "outputs": [
    {
     "data": {
      "text/plain": [
       "13"
      ]
     },
     "execution_count": 10,
     "metadata": {},
     "output_type": "execute_result"
    }
   ],
   "source": [
    "len(protein_names)"
   ]
  },
  {
   "cell_type": "markdown",
   "metadata": {
    "vscode": {
     "languageId": "latex"
    }
   },
   "source": [
    "It's the 13 genes we want."
   ]
  },
  {
   "cell_type": "code",
   "execution_count": 11,
   "metadata": {},
   "outputs": [
    {
     "name": "stdout",
     "output_type": "stream",
     "text": [
      "           Unnamed: 0  MT-TF  MT-RNR1  MT-TV  MT-RNR2  MT-TL1  MT-ND1  MT-TI  \\\n",
      "0  AAACCTGCAAACTGTC.1      0        6      0       60       0      12      0   \n",
      "1  AAACCTGCACAGCGTC.1      0        2      0       21       0       8      0   \n",
      "2  AAACGGGAGACTGGGT.1      0       19      0       84       0       7      0   \n",
      "3  AAACGGGAGGTGTTAA.1      0       27      0      115       0       3      0   \n",
      "4  AAACGGGCATGGGACA.1      0       43      1      119       0       6      0   \n",
      "\n",
      "   MT-TQ  MT-TM  ...  MT-TH  MT-TS2  MT-TL2  MT-ND5  MT-ND6  MT-TE  MT-CYB  \\\n",
      "0      0      0  ...      0       0       0       7       7      0      20   \n",
      "1      0      0  ...      0       0       0       6       1      0      17   \n",
      "2      0      0  ...      0       0       0       7       0      0      15   \n",
      "3      0      0  ...      0       0       0       6       3      0      14   \n",
      "4      0      0  ...      0       0       0       2       0      0       7   \n",
      "\n",
      "   MT-TT  MT-TP  non-MT  \n",
      "0      0      0    1250  \n",
      "1      0      0    2389  \n",
      "2      0      0    2685  \n",
      "3      0      0    2456  \n",
      "4      0      0    4060  \n",
      "\n",
      "[5 rows x 39 columns]\n"
     ]
    }
   ],
   "source": [
    "import pandas as pd\n",
    "\n",
    "file_path = 'datasets/Donor1_CD4_Genes.csv'\n",
    "\n",
    "df = pd.read_csv(file_path)\n",
    "\n",
    "print(df.head())"
   ]
  },
  {
   "cell_type": "code",
   "execution_count": 12,
   "metadata": {},
   "outputs": [
    {
     "name": "stdout",
     "output_type": "stream",
     "text": [
      "<bound method NDFrame.head of          0     1     2     3     4     5     6     7     8     9     ...  \\\n",
      "MT-ND1     12     8     7     3     6     7     4     8     1     7  ...   \n",
      "MT-ND2      3     4     2     2     3     1     1     3     3     3  ...   \n",
      "MT-CO1     23    24    16    25     6    43    16    22    18    16  ...   \n",
      "MT-CO2     53    35    30    23    26    53    17    26    12    31  ...   \n",
      "MT-ATP8    34    10     8    14    14    18     0    12     3    29  ...   \n",
      "MT-ATP6     3     2     1     5     1     4     1     0     0     1  ...   \n",
      "MT-CO3     38    34    19    23    11    46    10    19    15    26  ...   \n",
      "MT-ND3      6     3     6     2     4     5     1     4     1     6  ...   \n",
      "MT-ND4L    20    15    20    13    14    18     8    10     1    12  ...   \n",
      "MT-ND4      5     7     3     4     0     6     1     5     3     7  ...   \n",
      "MT-ND5      7     6     7     6     2     8     3     3     2     8  ...   \n",
      "MT-ND6      7     1     0     3     0     0     0     1     1     1  ...   \n",
      "MT-CYB     20    17    15    14     7    42     7    17     7    21  ...   \n",
      "\n",
      "         2878  2879  2880  2881  2882  2883  2884  2885  2886  2887  \n",
      "MT-ND1      3     3     5     5    12     4     2     5     6     7  \n",
      "MT-ND2      1     1     3     2     3     0     5     0    12     1  \n",
      "MT-CO1     10     6    10    10    20    20    13    10    36     9  \n",
      "MT-CO2     15    24    25    29    32    15    28    22    45    24  \n",
      "MT-ATP8    16    23    15    15    29    11    12    13    19    11  \n",
      "MT-ATP6     1     2     1     1     1     3     2     1     2     0  \n",
      "MT-CO3     16     8    17    30    24    11    18    14    40    22  \n",
      "MT-ND3      3     2     3     8     5     2     6     4     5     1  \n",
      "MT-ND4L     9     7     8    13    14     5    14     6    20     7  \n",
      "MT-ND4      3     2     2     1     3     2     2     7     8     2  \n",
      "MT-ND5      2     3     2     6     8     3     2     5     7     7  \n",
      "MT-ND6      1     1     2     2     1     0     1     1     0     1  \n",
      "MT-CYB     11    16    17    21    24     4     8    20    37    17  \n",
      "\n",
      "[13 rows x 2888 columns]>\n"
     ]
    }
   ],
   "source": [
    "df2 = pd.DataFrame([df[i] for i in protein_names])\n",
    "print(df2.head)"
   ]
  },
  {
   "cell_type": "markdown",
   "metadata": {},
   "source": [
    "Now we get the gene expression levels of the 13 genes in 2888 cells, hell yeah"
   ]
  },
  {
   "cell_type": "markdown",
   "metadata": {},
   "source": []
  }
 ],
 "metadata": {
  "kernelspec": {
   "display_name": "Python 3",
   "language": "python",
   "name": "python3"
  },
  "language_info": {
   "codemirror_mode": {
    "name": "ipython",
    "version": 3
   },
   "file_extension": ".py",
   "mimetype": "text/x-python",
   "name": "python",
   "nbconvert_exporter": "python",
   "pygments_lexer": "ipython3",
   "version": "3.12.3"
  }
 },
 "nbformat": 4,
 "nbformat_minor": 2
}
