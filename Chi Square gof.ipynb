{
 "cells": [
  {
   "cell_type": "code",
   "execution_count": null,
   "metadata": {},
   "outputs": [],
   "source": [
    "import numpy as np\n",
    "import matplotlib.pyplot as plt\n",
    "import seaborn as sns\n",
    "import pandas as pd\n",
    "import arviz as az\n",
    "import pymc as pm\n",
    "import corner\n",
    "import scipy.stats as st\n",
    "from statistics import mean, stdev\n",
    "from collections import Counter"
   ]
  },
  {
   "cell_type": "code",
   "execution_count": null,
   "metadata": {},
   "outputs": [],
   "source": [
    "file_path = 'Datasets/mt_genes_metadata.csv'\n",
    "\n",
    "met = pd.read_csv(file_path)\n",
    "\n",
    "pro_code=met[met['gene_type']=='protein_coding']\n",
    "intpro=pro_code['gene_name'].tolist()\n",
    "intpro=['MT-ND1','MT-ND2','MT-ND3','MT-ND4','MT-ND4L','MT-ND5','MT-ND6', 'MT-CO1', 'MT-CO2','MT-CO3', 'MT-ATP6', 'MT-ATP8', 'MT-CYB']\n",
    "intpro"
   ]
  },
  {
   "cell_type": "code",
   "execution_count": null,
   "metadata": {},
   "outputs": [],
   "source": [
    "file_path = 'Datasets/Donor1_CD4_Genes.csv'\n",
    "\n",
    "p14 = pd.read_csv(file_path)\n",
    "\n",
    "p14.drop(columns=p14.columns[0], axis=1, inplace=True)\n",
    "\n",
    "p14_int=pd.DataFrame([p14[i] for i in intpro]).T\n",
    "\n",
    "file_path = 'Datasets/Donor1_CD8_Genes.csv'\n",
    "\n",
    "p18 = pd.read_csv(file_path)\n",
    "\n",
    "p18.drop(columns=p18.columns[0], axis=1, inplace=True)\n",
    "\n",
    "p18_int=pd.DataFrame([p18[i] for i in intpro]).T\n",
    "\n",
    "file_path = 'Datasets/Donor2_CD4_Genes.csv'\n",
    "\n",
    "p24 = pd.read_csv(file_path)\n",
    "\n",
    "p24.drop(columns=p24.columns[0], axis=1, inplace=True)\n",
    "\n",
    "p24_int=pd.DataFrame([p24[i] for i in intpro]).T\n",
    "\n",
    "file_path = 'Datasets/Donor2_CD8_Genes.csv'\n",
    "\n",
    "p28 = pd.read_csv(file_path)\n",
    "\n",
    "p28.drop(columns=p28.columns[0], axis=1, inplace=True)\n",
    "\n",
    "p28_int=pd.DataFrame([p28[i] for i in intpro]).T\n",
    "\n",
    "total=pd.concat([p14,p18,p24,p28])\n",
    "\n",
    "total_int=pd.concat([p14_int,p18_int, p24_int,p28_int])\n",
    "\n",
    "totaln=len(total_int)\n"
   ]
  },
  {
   "cell_type": "code",
   "execution_count": null,
   "metadata": {},
   "outputs": [],
   "source": [
    "total_sampto=total.sum() #total number of each gene\n",
    "totalgene=total_sampto.sum() #total number of genes\n"
   ]
  },
  {
   "cell_type": "code",
   "execution_count": null,
   "metadata": {},
   "outputs": [],
   "source": [
    "#number of DNA strands in each file\n",
    "p14n=len(p14_int)\n",
    "p18n=len(p18_int)\n",
    "p24n=len(p24_int)\n",
    "p28n=len(p28_int)"
   ]
  },
  {
   "cell_type": "code",
   "execution_count": null,
   "metadata": {},
   "outputs": [],
   "source": [
    "#Calculates the number of genes for each DNA\n",
    "p14_allsampto=p14.sum(axis=1)\n",
    "p18_allsampto=p18.sum(axis=1)\n",
    "p24_allsampto=p24.sum(axis=1)\n",
    "p28_allsampto=p28.sum(axis=1)"
   ]
  },
  {
   "cell_type": "code",
   "execution_count": null,
   "metadata": {},
   "outputs": [],
   "source": [
    "#Calculates the total number of interested genes for each DNA\n",
    "p14_intsampto=p14_int.sum(axis=1)\n",
    "p18_intsampto=p18_int.sum(axis=1)\n",
    "p24_intsampto=p24_int.sum(axis=1)\n",
    "p28_intsampto=p28_int.sum(axis=1)"
   ]
  },
  {
   "cell_type": "markdown",
   "metadata": {},
   "source": [
    "Normalising data by 100/(total interested genes - tested gene) "
   ]
  },
  {
   "cell_type": "code",
   "execution_count": null,
   "metadata": {},
   "outputs": [],
   "source": [
    "r=100\n",
    "uem14int_list=[]\n",
    "for j in intpro:\n",
    "    uem14int_sample_list=[]\n",
    "    for i in range(p14n): \n",
    "        if p14_intsampto[i]==0:\n",
    "            pass\n",
    "        else:\n",
    "            norm_cons=(p14_intsampto[i]-p14_int[j][i])/r #inidividual normalisation constant\n",
    "            x=p14_int[j][i]/norm_cons\n",
    "            uem=(r-1)/(x+r-1)\n",
    "            uem14int_sample_list.append(uem)\n",
    "    uem14int_list.append(mean(uem14int_sample_list))\n",
    "    #the following plots the distribution of the UEM \n",
    "    fig, ax = plt.subplots(1, 1) \n",
    "    ax.set_title('pat1_4'+''+j)\n",
    "    ax.hist(uem14int_sample_list,bins=100)\n",
    "    ax.axvline(mean(uem14int_sample_list), color='pink')\n",
    "    plt.show()\n",
    "uem14int_list=dict(zip(intpro,uem14int_list))\n",
    "df14int=len(uem14int_sample_list)-1\n",
    "\n",
    "uem18int_list=[]\n",
    "for j in intpro:\n",
    "    uem18int_sample_list=[]\n",
    "    for i in range(p18n): \n",
    "        if p18_intsampto[i]==0:\n",
    "            pass\n",
    "        else:\n",
    "            norm_cons=(p18_intsampto[i]-p18_int[j][i])/r #inidividual normalisation constant\n",
    "            x=p18_int[j][i]/norm_cons\n",
    "            uem=(r-1)/(x+r-1)\n",
    "            uem18int_sample_list.append(uem)\n",
    "    uem18int_list.append(mean(uem18int_sample_list))\n",
    "    #the following plots the distribution of the UEM \n",
    "    fig, ax = plt.subplots(1, 1) \n",
    "    ax.set_title('pat1_8'+''+j)\n",
    "    ax.hist(uem18int_sample_list,bins=100)\n",
    "    ax.axvline(mean(uem18int_sample_list), color='pink')\n",
    "    plt.show()\n",
    "uem18int_list=dict(zip(intpro,uem18int_list))\n",
    "df18int=len(uem18int_sample_list)-1\n",
    "\n",
    "uem24int_list=[]\n",
    "for j in intpro:\n",
    "    uem24int_sample_list=[]\n",
    "    for i in range(p24n): \n",
    "        if p24_intsampto[i]==0:\n",
    "            pass\n",
    "        else:\n",
    "            norm_cons=(p24_intsampto[i]-p24_int[j][i])/r #inidividual normalisation constant\n",
    "            x=p24_int[j][i]/norm_cons\n",
    "            uem=(r-1)/(x+r-1)\n",
    "            uem24int_sample_list.append(uem)\n",
    "    uem24int_list.append(mean(uem24int_sample_list))\n",
    "    #the following plots the distribution of the UEM \n",
    "    fig, ax = plt.subplots(1, 1) \n",
    "    ax.set_title('pat2_4'+''+j)\n",
    "    ax.hist(uem24int_sample_list,bins=100)\n",
    "    ax.axvline(mean(uem24int_sample_list), color='pink')\n",
    "    plt.show()\n",
    "uem24int_list=dict(zip(intpro,uem24int_list))\n",
    "df24int=len(uem24int_sample_list)-1\n",
    "\n",
    "uem28int_list=[]\n",
    "for j in intpro:\n",
    "    uem28int_sample_list=[]\n",
    "    for i in range(p28n): \n",
    "        if p28_intsampto[i]==0:\n",
    "            pass\n",
    "        else:\n",
    "            norm_cons=(p28_intsampto[i]-p28_int[j][i])/r #inidividual normalisation constant\n",
    "            x=p28_int[j][i]/norm_cons\n",
    "            uem=(r-1)/(x+r-1)\n",
    "            uem28int_sample_list.append(uem)\n",
    "    uem28int_list.append(mean(uem28int_sample_list))\n",
    "    #the following plots the distribution of the UEM \n",
    "    fig, ax = plt.subplots(1, 1) \n",
    "    ax.set_title('pat2_8'+''+j)\n",
    "    ax.hist(uem28int_sample_list,bins=100)\n",
    "    ax.axvline(mean(uem28int_sample_list), color='pink')\n",
    "    plt.show()\n",
    "uem28int_list=dict(zip(intpro,uem28int_list))\n",
    "df28int=len(uem28int_sample_list)-1"
   ]
  },
  {
   "cell_type": "code",
   "execution_count": 35,
   "metadata": {},
   "outputs": [
    {
     "data": {
      "text/plain": [
       "219"
      ]
     },
     "execution_count": 35,
     "metadata": {},
     "output_type": "execute_result"
    }
   ],
   "source": [
    "\n",
    "p14_intsampto[0]-p14_int['MT-ND1'][0]"
   ]
  },
  {
   "cell_type": "markdown",
   "metadata": {},
   "source": [
    "χ² test: H0: Follows nbin, H1: Doesn't Follow"
   ]
  },
  {
   "cell_type": "code",
   "execution_count": 36,
   "metadata": {},
   "outputs": [
    {
     "data": {
      "text/plain": [
       "{'MT-ND1': 188.13309573386096,\n",
       " 'MT-ND2': 235.4059107760031,\n",
       " 'MT-ND3': -515.8589575636356,\n",
       " 'MT-ND4': -177.4493335216589,\n",
       " 'MT-ND4L': 465.75660927061745,\n",
       " 'MT-ND5': -89.96436570265541,\n",
       " 'MT-ND6': -334.6154003048682,\n",
       " 'MT-CO1': 6579.478205871395,\n",
       " 'MT-CO2': 3987.817528848831,\n",
       " 'MT-CO3': 1743.1417288763705,\n",
       " 'MT-ATP6': -301.62476398443505,\n",
       " 'MT-ATP8': 2881.5967976359025,\n",
       " 'MT-CYB': 1360.6901137776713}"
      ]
     },
     "execution_count": 36,
     "metadata": {},
     "output_type": "execute_result"
    }
   ],
   "source": [
    "#p1_4_int\n",
    "cv=st.chi2.ppf(0.99,df14int)\n",
    "chi1_p14int_ts=[]\n",
    "chi1_p14int_res=[]\n",
    "for j in intpro:\n",
    "    ts=0\n",
    "    p=uem14int_list[j]\n",
    "    for i in range(p14n):\n",
    "        if p14_intsampto[i]==0:\n",
    "            pass\n",
    "        else:\n",
    "            r=100\n",
    "            norm_cons=(p14_intsampto[i]-p14_int[j][i])/r #inidividual normalisation constant\n",
    "            o=p14_int[j][i]/norm_cons\n",
    "            e=r*(1-p)/p\n",
    "            ts+=(e-o)**2/e\n",
    "    chi1_p14int_ts.append(ts)\n",
    "    chi1_p14int_res.append(ts-cv)\n",
    "chi_p14int_res=dict(zip(intpro,chi1_p14int_res))\n",
    "chi_p14int_res"
   ]
  },
  {
   "cell_type": "code",
   "execution_count": 38,
   "metadata": {},
   "outputs": [
    {
     "data": {
      "text/plain": [
       "{'MT-ND1': -400.8239397629927,\n",
       " 'MT-ND2': -523.0948209476733,\n",
       " 'MT-ND3': -928.0234415859977,\n",
       " 'MT-ND4': -737.7250526281971,\n",
       " 'MT-ND4L': -483.8478235965688,\n",
       " 'MT-ND5': -498.055638605234,\n",
       " 'MT-ND6': -577.3353386718879,\n",
       " 'MT-CO1': 4206.06636339176,\n",
       " 'MT-CO2': 1097.9205846850905,\n",
       " 'MT-CO3': 426.8717768070528,\n",
       " 'MT-ATP6': -844.8878225330782,\n",
       " 'MT-ATP8': 1306.0738377252915,\n",
       " 'MT-CYB': 293.72321453059294}"
      ]
     },
     "execution_count": 38,
     "metadata": {},
     "output_type": "execute_result"
    }
   ],
   "source": [
    "#p1_8_int\n",
    "cv=st.chi2.ppf(0.99,df18int)\n",
    "chi1_p18int_ts=[]\n",
    "chi1_p18int_res=[]\n",
    "for j in intpro:\n",
    "    ts=0\n",
    "    p=uem18int_list[j]\n",
    "    for i in range(p18n):\n",
    "        if p18_intsampto[i]==0:\n",
    "            pass\n",
    "        else:\n",
    "            r=100\n",
    "            norm_cons=(p18_intsampto[i]-p18_int[j][i])/r #inidividual normalisation constant\n",
    "            o=p18_int[j][i]/norm_cons\n",
    "            e=r*(1-p)/p\n",
    "            ts+=(e-o)**2/e\n",
    "    chi1_p18int_ts.append(ts)\n",
    "    chi1_p18int_res.append(ts-cv)\n",
    "chi_p18int_res=dict(zip(intpro,chi1_p18int_res))\n",
    "chi_p18int_res"
   ]
  },
  {
   "cell_type": "code",
   "execution_count": 45,
   "metadata": {},
   "outputs": [
    {
     "data": {
      "text/plain": [
       "{'MT-ND1': 1773.5286007159775,\n",
       " 'MT-ND2': 1588.816660793328,\n",
       " 'MT-ND3': 118.90738769486416,\n",
       " 'MT-ND4': 278.42666224593177,\n",
       " 'MT-ND4L': 506.2069354833775,\n",
       " 'MT-ND5': 1308.777439063243,\n",
       " 'MT-ND6': 3746.270959062792,\n",
       " 'MT-CO1': 9896.85842052882,\n",
       " 'MT-CO2': 2644.7522835677537,\n",
       " 'MT-CO3': 1752.0831990236884,\n",
       " 'MT-ATP6': 336.08017458125687,\n",
       " 'MT-ATP8': 2539.3549424613475,\n",
       " 'MT-CYB': 1982.8789236602288}"
      ]
     },
     "execution_count": 45,
     "metadata": {},
     "output_type": "execute_result"
    }
   ],
   "source": [
    "#p2_4_int\n",
    "cv=st.chi2.ppf(0.99,df24int)\n",
    "chi1_p24int_ts=[]\n",
    "chi1_p24int_res=[]\n",
    "for j in intpro:\n",
    "    ts=0\n",
    "    p=uem24int_list[j]\n",
    "    for i in range(p24n):\n",
    "        if p24_intsampto[i]==0:\n",
    "            pass\n",
    "        else:\n",
    "            r=100\n",
    "            norm_cons=(p24_intsampto[i]-p24_int[j][i])/r #inidividual normalisation constant\n",
    "            o=p24_int[j][i]/norm_cons\n",
    "            e=r*(1-p)/p\n",
    "            ts+=(e-o)**2/e\n",
    "    chi1_p24int_ts.append(ts)\n",
    "    chi1_p24int_res.append(ts-cv)\n",
    "chi_p24int_res=dict(zip(intpro,chi1_p24int_res))\n",
    "chi_p24int_res"
   ]
  },
  {
   "cell_type": "code",
   "execution_count": 40,
   "metadata": {},
   "outputs": [
    {
     "data": {
      "text/plain": [
       "{'MT-ND1': 336.86994018607515,\n",
       " 'MT-ND2': -161.10527533567983,\n",
       " 'MT-ND3': -162.5061471830502,\n",
       " 'MT-ND4': -172.20962730353222,\n",
       " 'MT-ND4L': -269.92991451957505,\n",
       " 'MT-ND5': -1.3499787470334468,\n",
       " 'MT-ND6': 1327.1850098594466,\n",
       " 'MT-CO1': 3432.822658214908,\n",
       " 'MT-CO2': 875.8190210510154,\n",
       " 'MT-CO3': 240.38474418187138,\n",
       " 'MT-ATP6': -598.3571687561042,\n",
       " 'MT-ATP8': 543.2387239914858,\n",
       " 'MT-CYB': 296.3294203761777}"
      ]
     },
     "execution_count": 40,
     "metadata": {},
     "output_type": "execute_result"
    }
   ],
   "source": [
    "#p2_8_int\n",
    "cv=st.chi2.ppf(0.99,df28int)\n",
    "chi1_p28int_ts=[]\n",
    "chi1_p28int_res=[]\n",
    "for j in intpro:\n",
    "    ts=0\n",
    "    p=uem28int_list[j]\n",
    "    for i in range(p28n):\n",
    "        if p28_intsampto[i]==0:\n",
    "            pass\n",
    "        else:\n",
    "            r=100\n",
    "            norm_cons=(p28_intsampto[i]-p28_int[j][i])/r #inidividual normalisation constant\n",
    "            o=p28_int[j][i]/norm_cons\n",
    "            e=r*(1-p)/p\n",
    "            ts+=(e-o)**2/e\n",
    "    chi1_p28int_ts.append(ts)\n",
    "    chi1_p28int_res.append(ts-cv)\n",
    "chi_p28int_res=dict(zip(intpro,chi1_p28int_res))\n",
    "chi_p28int_res"
   ]
  },
  {
   "cell_type": "markdown",
   "metadata": {},
   "source": [
    "Normalising data: Normalising data by 1000/(total genes - tested gene) \n",
    "\n",
    "and then computing Unbiased estimate of neg binom proportion\n",
    "\n",
    "Plotting the histograms of the UEM to estimate a prior for the UEM for posterior checks."
   ]
  },
  {
   "cell_type": "code",
   "execution_count": null,
   "metadata": {},
   "outputs": [],
   "source": [
    "r=1000\n",
    "uem14_list=[]\n",
    "for j in intpro:\n",
    "    uem_sample_list=[]\n",
    "    for i in range(p14n):   \n",
    "        norm_cons=(p14_allsampto[i]-p14[j][i])/r #inidividual normalisation constant\n",
    "        x=p14[j][i]/norm_cons\n",
    "        uem=(r-1)/(x+r-1)\n",
    "        uem_sample_list.append(uem)\n",
    "    uem14_list.append(mean(uem_sample_list))\n",
    "    #the following plots the distribution of the UEM \n",
    "    fig, ax = plt.subplots(1, 1) \n",
    "    ax.set_title('pat1_4'+''+j)\n",
    "    ax.hist(uem_sample_list,bins=100)\n",
    "    ax.axvline(mean(uem_sample_list), color='pink')\n",
    "    plt.show()\n",
    "uem14_list=dict(zip(intpro,uem14_list))\n",
    "\n",
    "uem18_list=[]\n",
    "for j in intpro:\n",
    "    uem_sample_list=[]\n",
    "    for i in range(p18n):   \n",
    "        norm_cons=(p18_allsampto[i]-p18[j][i])/r #inidividual normalisation constant\n",
    "        x=p18[j][i]/norm_cons\n",
    "        uem=(r-1)/(x+r-1)\n",
    "        uem_sample_list.append(uem)\n",
    "    #the following plots the distribution of the UEM \n",
    "    fig, ax = plt.subplots(1, 1) \n",
    "    ax.set_title('pat1_8'+''+j)\n",
    "    ax.hist(uem_sample_list,bins=100)\n",
    "    ax.axvline(mean(uem_sample_list), color='pink')\n",
    "    plt.show()\n",
    "    uem18_list.append(mean(uem_sample_list))\n",
    "uem18_list=dict(zip(intpro,uem18_list))\n",
    "\n",
    "uem24_list=[]\n",
    "for j in intpro:\n",
    "    uem_sample_list=[]\n",
    "    for i in range(p24n):   \n",
    "        norm_cons=(p24_allsampto[i]-p24[j][i])/r #inidividual normalisation constant\n",
    "        x=p24[j][i]/norm_cons\n",
    "        uem=(r-1)/(x+r-1)\n",
    "        uem_sample_list.append(uem)\n",
    "    uem24_list.append(mean(uem_sample_list))\n",
    "    #the following plots the distribution of the UEM \n",
    "    fig, ax = plt.subplots(1, 1) \n",
    "    ax.set_title('pat2_4'+''+j)\n",
    "    ax.hist(uem_sample_list,bins=100)\n",
    "    ax.axvline(mean(uem_sample_list), color='pink')\n",
    "    plt.show()\n",
    "uem24_list=dict(zip(intpro,uem24_list))\n",
    "\n",
    "uem28_list=[]\n",
    "for j in intpro:\n",
    "    uem_sample_list=[]\n",
    "    for i in range(p28n):   \n",
    "        norm_cons=(p28_allsampto[i]-p28[j][i])/r #inidividual normalisation constant\n",
    "        x=p28[j][i]/norm_cons\n",
    "        uem=(r-1)/(x+r-1)\n",
    "        uem_sample_list.append(uem)\n",
    "    uem28_list.append(mean(uem_sample_list))\n",
    "    #the following plots the distribution of the UEM \n",
    "    fig, ax = plt.subplots(1, 1) \n",
    "    ax.set_title('pat2_8'+''+j)\n",
    "    ax.hist(uem_sample_list,bins=100)\n",
    "    ax.axvline(mean(uem_sample_list), color='pink')\n",
    "    plt.show()\n",
    "uem28_list=dict(zip(intpro,uem28_list))\n",
    "uem28_list"
   ]
  },
  {
   "cell_type": "markdown",
   "metadata": {},
   "source": [
    "χ² test: H0: Follows nbin, H1: Doesn't Follow"
   ]
  },
  {
   "cell_type": "code",
   "execution_count": null,
   "metadata": {},
   "outputs": [],
   "source": [
    "#p1_4\n",
    "df14=p14n-1\n",
    "cv=st.chi2.ppf(0.99,df14)\n",
    "chi1_p14_ts=[]\n",
    "chi1_p14_res=[]\n",
    "for j in intpro:\n",
    "    ts=0\n",
    "    p=uem14_list[j]\n",
    "    for i in range(p14n):\n",
    "        r=1000\n",
    "        norm_cons=(p14_allsampto[i]-p14[j][i])/r #inidividual normalisation constant\n",
    "        o=p14[j][i]/norm_cons\n",
    "        e=r*(1-p)/p\n",
    "        ts+=(e-o)**2/e\n",
    "    chi1_p14_ts.append(ts)\n",
    "    chi1_p14_res.append(ts-cv)\n",
    "chi_p14_res=dict(zip(intpro,chi1_p14_res))\n",
    "chi_p14_res"
   ]
  },
  {
   "cell_type": "code",
   "execution_count": null,
   "metadata": {},
   "outputs": [],
   "source": [
    "#p1_8\n",
    "df18=p18n-1\n",
    "cv=st.chi2.ppf(0.99,df18)\n",
    "chi1_p18_ts=[]\n",
    "chi1_p18_res=[]\n",
    "for j in intpro:\n",
    "    ts=0\n",
    "    p=uem18_list[j]\n",
    "    for i in range(p18n):\n",
    "        r=1000\n",
    "        norm_cons=(p18_allsampto[i]-p18[j][i])/r #inidividual normalisation constant\n",
    "        o=p18[j][i]/norm_cons\n",
    "        e=r*(1-p)/p\n",
    "        ts+=(e-o)**2/e\n",
    "    chi1_p18_ts.append(ts)\n",
    "    chi1_p18_res.append(ts-cv)\n",
    "chi_p18_res=dict(zip(intpro,chi1_p18_res))\n",
    "chi_p18_res"
   ]
  },
  {
   "cell_type": "code",
   "execution_count": null,
   "metadata": {},
   "outputs": [],
   "source": [
    "#p2_4\n",
    "df24=p24n-1\n",
    "cv=st.chi2.ppf(0.99,df24)\n",
    "chi1_p24_ts=[]\n",
    "chi1_p24_res=[]\n",
    "for j in intpro:\n",
    "    ts=0\n",
    "    p=uem24_list[j]\n",
    "    for i in range(p24n):\n",
    "        r=1000\n",
    "        norm_cons=(p24_allsampto[i]-p24[j][i])/r #inidividual normalisation constant\n",
    "        o=p24[j][i]/norm_cons\n",
    "        e=r*(1-p)/p\n",
    "        ts+=(e-o)**2/e\n",
    "    chi1_p24_ts.append(ts)\n",
    "    chi1_p24_res.append(ts-cv)\n",
    "chi_p24_res=dict(zip(intpro,chi1_p24_res))\n",
    "chi_p24_res"
   ]
  },
  {
   "cell_type": "code",
   "execution_count": null,
   "metadata": {},
   "outputs": [],
   "source": [
    "#p2_8\n",
    "df28=p28n-1\n",
    "cv=st.chi2.ppf(0.99,df28)\n",
    "chi1_p28_ts=[]\n",
    "chi1_p28_res=[]\n",
    "for j in intpro:\n",
    "    ts=0\n",
    "    p=uem28_list[j]\n",
    "    for i in range(p28n):\n",
    "        r=1000\n",
    "        norm_cons=(p28_allsampto[i]-p28[j][i])/r #inidividual normalisation constant\n",
    "        o=p28[j][i]/norm_cons\n",
    "        e=r*(1-p)/p\n",
    "        ts+=(e-o)**2/e\n",
    "    chi1_p28_ts.append(ts)\n",
    "    chi1_p28_res.append(ts-cv)\n",
    "chi_p28_res=dict(zip(intpro,chi1_p28_res))\n",
    "chi_p28_res"
   ]
  },
  {
   "cell_type": "code",
   "execution_count": null,
   "metadata": {},
   "outputs": [],
   "source": [
    "chi_p14_resdf=pd.Series(chi_p14_res)\n",
    "chi_p14_resdf=pd.DataFrame(chi_p14_resdf,columns=['P1_4'])\n",
    "chi_p18_resdf=pd.Series(chi_p18_res)\n",
    "chi_p18_resdf=pd.DataFrame(chi_p18_resdf,columns=['P1_8'])\n",
    "chi_p24_resdf=pd.Series(chi_p24_res)\n",
    "chi_p24_resdf=pd.DataFrame(chi_p24_resdf,columns=['P2_4'])\n",
    "chi_p28_resdf=pd.Series(chi_p28_res)\n",
    "chi_p28_resdf=pd.DataFrame(chi_p28_resdf,columns=['P2_8'])\n",
    "overall_chi_res=pd.concat([chi_p14_resdf,chi_p18_resdf,chi_p24_resdf, chi_p28_resdf], axis=1)"
   ]
  },
  {
   "cell_type": "code",
   "execution_count": null,
   "metadata": {},
   "outputs": [],
   "source": [
    "overall_chi_res"
   ]
  },
  {
   "cell_type": "markdown",
   "metadata": {},
   "source": [
    "The following started with trying a Partial correlation analysis by plotting each gene against 'non-MT' UMI. but the rvalues were rather low.\n",
    "\n",
    "Instead, I experimented a bit and plotted the y against √xy where y=interested gene, x='non-MT'"
   ]
  },
  {
   "cell_type": "code",
   "execution_count": null,
   "metadata": {},
   "outputs": [],
   "source": [
    "x=p14['non-MT']\n",
    "r14_l=[]\n",
    "for i in intpro:\n",
    "    fig, ax = plt.subplots(1, 1) \n",
    "    y=p14[i]\n",
    "    ax.set_title('p14'+''+i)\n",
    "    lin_x=np.sqrt(x*y)\n",
    "    lin_y=y\n",
    "    ax.scatter(lin_x,lin_y, s=1)\n",
    "    M=max(lin_x)\n",
    "    m=min(lin_x)\n",
    "    lin=st.linregress(lin_x,lin_y)\n",
    "    l=np.array([m,M])\n",
    "    ax.plot(l,lin.intercept+lin.slope*l,color='red')\n",
    "    r14_l.append(lin.rvalue)\n",
    "    plt.show()\n",
    "r14_l\n"
   ]
  },
  {
   "cell_type": "code",
   "execution_count": null,
   "metadata": {},
   "outputs": [],
   "source": [
    "x=p18['non-MT']\n",
    "r18_l=[]\n",
    "for i in intpro:\n",
    "    fig, ax = plt.subplots(1, 1) \n",
    "    y=p18[i]\n",
    "    ax.set_title('p18'+''+i)\n",
    "    lin_x=np.sqrt(x*y)\n",
    "    lin_y=y\n",
    "    ax.scatter(lin_x,lin_y, s=1)\n",
    "    M=max(lin_x)\n",
    "    m=min(lin_x)\n",
    "    lin=st.linregress(lin_x,lin_y)\n",
    "    l=np.array([m,M])\n",
    "    ax.plot(l,lin.intercept+lin.slope*l,color='red')\n",
    "    r18_l.append(lin.rvalue)\n",
    "    plt.show()\n",
    "r18_l\n"
   ]
  },
  {
   "cell_type": "code",
   "execution_count": null,
   "metadata": {},
   "outputs": [],
   "source": [
    "x=p24['non-MT']\n",
    "r24_l=[]\n",
    "for i in intpro:\n",
    "    fig, ax = plt.subplots(1, 1) \n",
    "    y=p24[i]\n",
    "    ax.set_title('p24'+''+i)\n",
    "    lin_x=np.sqrt(x*y)\n",
    "    lin_y=y\n",
    "    ax.scatter(lin_x,lin_y, s=1)\n",
    "    M=max(lin_x)\n",
    "    m=min(lin_x)\n",
    "    lin=st.linregress(lin_x,lin_y)\n",
    "    l=np.array([m,M])\n",
    "    ax.plot(l,lin.intercept+lin.slope*l,color='red')\n",
    "    r24_l.append(lin.rvalue)\n",
    "    plt.show()\n",
    "r24_l\n"
   ]
  },
  {
   "cell_type": "code",
   "execution_count": null,
   "metadata": {},
   "outputs": [],
   "source": [
    "x=p28['non-MT']\n",
    "r28_l=[] #rvalues\n",
    "for i in intpro:\n",
    "    fig, ax = plt.subplots(1, 1) \n",
    "    y=p28[i]\n",
    "    ax.set_title('p28'+''+i)\n",
    "    lin_x=np.sqrt(x*y)\n",
    "    lin_y=y\n",
    "    ax.scatter(lin_x,lin_y, s=1)\n",
    "    M=max(lin_x)\n",
    "    m=min(lin_x)\n",
    "    lin=st.linregress(lin_x,lin_y)\n",
    "    l=np.array([m,M])\n",
    "    ax.plot(l,lin.intercept+lin.slope*l,color='red')\n",
    "    r28_l.append(lin.rvalue)\n",
    "    plt.show()\n",
    "r28_l\n"
   ]
  },
  {
   "cell_type": "code",
   "execution_count": null,
   "metadata": {},
   "outputs": [],
   "source": [
    "x=p14['non-MT']\n",
    "resi14=pd.DataFrame()\n",
    "i='MT-ND1'\n",
    "fig, ax = plt.subplots(1, 1) \n",
    "y=p14[i]\n",
    "lin_x=x\n",
    "lin_y=y\n",
    "lin=st.linregress(lin_x,lin_y)\n",
    "fit=lin.intercept+lin.slope*lin_x\n",
    "resdf=pd.DataFrame(lin_y-fit)\n",
    "resdf.columns=[i]\n",
    "resi14=resi14.join(resdf,how='outer')\n",
    "ax.set_title('p14'+i)\n",
    "ax.scatter(lin_x,lin_y)\n",
    "ax.plot(lin_x,fit, color='red',label=lin.rvalue)\n",
    "plt.legend()\n",
    "plt.show()\n",
    "resi14"
   ]
  },
  {
   "cell_type": "markdown",
   "metadata": {},
   "source": [
    "Calculating the residuals as part of the analysis (and also plotting to check residuals)"
   ]
  },
  {
   "cell_type": "code",
   "execution_count": null,
   "metadata": {},
   "outputs": [],
   "source": [
    "x=p14['non-MT']\n",
    "resi14=pd.DataFrame()\n",
    "for i in intpro:\n",
    "    fig, ax = plt.subplots(1, 1) \n",
    "    y=p14[i]\n",
    "    lin_x=x\n",
    "    lin_y=y\n",
    "    lin=st.linregress(lin_x,lin_y)\n",
    "    fit=lin.intercept+lin.slope*lin_x\n",
    "    resdf=pd.DataFrame(lin_y-fit)\n",
    "    resdf.columns=[i]\n",
    "    resi14=resi14.join(resdf,how='outer')\n",
    "    ax.scatter(lin_x,lin_y)\n",
    "    ax.plot(lin_x,fit, color='red',label=lin.rvalue)\n",
    "    ax.set_title('p14'+i)\n",
    "    plt.legend()\n",
    "    plt.show()\n",
    "resi14"
   ]
  },
  {
   "cell_type": "markdown",
   "metadata": {},
   "source": [
    "Following are the plots of the (untransformed) residuals against another, with the linear regression plotted and corresponding r-value "
   ]
  },
  {
   "cell_type": "code",
   "execution_count": null,
   "metadata": {},
   "outputs": [],
   "source": [
    "tet=[]\n",
    "j='MT-ND1'\n",
    "res_x=resi14[j]\n",
    "res_col=[]\n",
    "for i in intpro:\n",
    "    fig, ax = plt.subplots(1, 1) \n",
    "    res_y=resi14[i]\n",
    "    ax.set_title('p14'+i+'vs'+j)\n",
    "    lin_x=res_x\n",
    "    lin_y=res_y\n",
    "    ax.scatter(lin_x,lin_y, s=1)\n",
    "    M=max(lin_x)\n",
    "    m=min(lin_x)\n",
    "    lin=st.linregress(lin_x,lin_y)\n",
    "    l=np.array([m,M])\n",
    "    ax.plot(l,lin.intercept+lin.slope*l,color='red',label=lin.rvalue)\n",
    "    plt.legend()\n",
    "    plt.show()"
   ]
  },
  {
   "cell_type": "code",
   "execution_count": null,
   "metadata": {},
   "outputs": [],
   "source": [
    "res_x=resi14['MT-ND1']\n",
    "res_y=resi14['MT-ND2']\n",
    "lin_x=np.sqrt(np.abs((res_x*res_y)**2/(0.01)**2-1))\n",
    "lin_y=np.abs(res_y)\n"
   ]
  },
  {
   "cell_type": "code",
   "execution_count": null,
   "metadata": {},
   "outputs": [],
   "source": []
  },
  {
   "cell_type": "markdown",
   "metadata": {},
   "source": [
    "Checkpoint: 060624\n",
    "\n",
    "To do next: Normalise the residuals somehow (the one where you log, refer to checkpoint"
   ]
  },
  {
   "cell_type": "code",
   "execution_count": null,
   "metadata": {},
   "outputs": [],
   "source": [
    "#plotting |y| against ln(|xy|/k+1)\n",
    "j='MT-ND1'\n",
    "res_x=resi14[j]\n",
    "i='MT-ND2'\n",
    "fig, ax = plt.subplots(1, 1) \n",
    "res_y=resi14[i]\n",
    "ax.set_title('p14'+i+'against'+i+'*'+j)\n",
    "lin_x=np.abs(res_x*res_y)\n",
    "lin_y=np.abs(res_y)\n",
    "ax.scatter(lin_x,lin_y, s=1)\n",
    "M=max(lin_x)\n",
    "m=min(lin_x)\n",
    "lin=st.linregress(lin_x,lin_y)\n",
    "l=np.array([m,M])\n",
    "ax.plot(l,lin.intercept+lin.slope*l,color='red',label=lin.rvalue)\n",
    "hyp_x=np.linspace(m,M,1000)\n",
    "hyp_y=np.log(hyp_x/(res14_D2_sd**1.5)+1)\n",
    "ax.plot(hyp_x,hyp_y*res14_D2_sd,color='pink')\n",
    "plt.legend()\n",
    "plt.show()"
   ]
  },
  {
   "cell_type": "code",
   "execution_count": null,
   "metadata": {},
   "outputs": [],
   "source": [
    "#linreg |y| against ln(|xy|/k+1)\n",
    "j='MT-ND1'\n",
    "res_x=resi14[j]\n",
    "i='MT-ND2'\n",
    "fig, ax = plt.subplots(1, 1) \n",
    "res_y=resi14[i]\n",
    "ax.set_title('p14'+i+'against'+i+'*'+j)\n",
    "lin_x1=np.abs(res_x*res_y)\n",
    "lin_y=np.abs(res_y)\n",
    "lin_x=np.log(lin_x1/(res14_D2_sd**2)+2)\n",
    "ax.scatter(lin_x,lin_y, s=1)\n",
    "M=max(lin_x)\n",
    "m=min(lin_x)\n",
    "lin=st.linregress(lin_x,lin_y)\n",
    "l=np.array([m,M])\n",
    "ax.plot(l,lin.intercept+lin.slope*l,color='red',label=lin.rvalue)\n",
    "plt.legend()\n",
    "plt.show()"
   ]
  },
  {
   "cell_type": "code",
   "execution_count": null,
   "metadata": {},
   "outputs": [],
   "source": [
    "#linreg |y| against -1/x^n\n",
    "j='MT-ND1'\n",
    "res_x=resi14[j]\n",
    "i='MT-ND2'\n",
    "fig, ax = plt.subplots(1, 1) \n",
    "res_y=resi14[i]\n",
    "ax.set_title('p14'+i+'against'+i+'*'+j)\n",
    "lin_x1=np.abs(res_x*res_y)\n",
    "lin_y=np.abs(res_y)\n",
    "lin_x=1/(x+1)**2\n",
    "ax.scatter(lin_x,lin_y, s=1)\n",
    "M=max(lin_x)\n",
    "m=min(lin_x)\n",
    "lin=st.linregress(lin_x,lin_y)\n",
    "l=np.array([m,M])\n",
    "ax.plot(l,lin.intercept+lin.slope*l,color='red',label=lin.rvalue)\n",
    "plt.legend()\n",
    "plt.show()"
   ]
  },
  {
   "cell_type": "code",
   "execution_count": null,
   "metadata": {},
   "outputs": [],
   "source": [
    "#test plotting |y| against -1/|xy|\n",
    "j='MT-ND1'\n",
    "res_x=resi14[j]\n",
    "i='MT-ND2'\n",
    "fig, ax = plt.subplots(1, 1) \n",
    "res_y=resi14[i]\n",
    "ax.set_title('p14'+i+'against'+i+'*'+j)\n",
    "lin_x=np.abs(res_x*res_y)\n",
    "lin_y=np.abs(res_y)\n",
    "ax.scatter(lin_x,lin_y, s=1)\n",
    "M=max(lin_x)\n",
    "m=min(lin_x)\n",
    "#lin=st.linregress(lin_x,lin_y)\n",
    "l=np.array([m,M])\n",
    "#ax.plot(l,lin.intercept+lin.slope*l,color='red',label=lin.rvalue)\n",
    "hyp_x=np.linspace(m,M,1000)\n",
    "hyp_y=-500/((hyp_x+10*res14_D2_sd)**1.1)+12\n",
    "ax.plot(hyp_x,hyp_y,color='pink')\n",
    "#plt.legend()\n",
    "plt.show()"
   ]
  },
  {
   "cell_type": "code",
   "execution_count": null,
   "metadata": {},
   "outputs": [],
   "source": [
    "#test plotting |y| against -1/|xy|\n",
    "j='MT-ND1'\n",
    "res_x=resi14[j]\n",
    "i='MT-ND6'\n",
    "fig, ax = plt.subplots(1, 1) \n",
    "res_y=resi14[i]\n",
    "ax.set_title('p14'+i+'against'+i+'*'+j)\n",
    "lin_x=np.abs(res_x*res_y)\n",
    "lin_y=np.abs(res_y)\n",
    "ax.scatter(lin_x,lin_y, s=1)\n",
    "M=max(lin_x)\n",
    "m=min(lin_x)\n",
    "#lin=st.linregress(lin_x,lin_y)\n",
    "l=np.array([m,M])\n",
    "#ax.plot(l,lin.intercept+lin.slope*l,color='red',label=lin.rvalue)\n",
    "hyp_x=np.linspace(m,M,1000)\n",
    "hyp_y=-100/((hyp_x+12)**1.1)+6\n",
    "ax.plot(hyp_x,hyp_y,color='pink')\n",
    "#plt.legend()\n",
    "plt.show()"
   ]
  },
  {
   "cell_type": "markdown",
   "metadata": {},
   "source": [
    "With hyp_y=-500/((hyp_x+30)**1.1)+12 ≡ -β/((hyp_x+a)^n)+γ, all that's left is to fine a good value/formula for a & n for the linreg\n",
    "\n",
    "After some testing, we can put a=10*s.d\n",
    "n=1.1 for now"
   ]
  },
  {
   "cell_type": "code",
   "execution_count": null,
   "metadata": {},
   "outputs": [],
   "source": [
    "#lin reg |y| against -1/(|xy|+k)\n",
    "j='MT-ND1'\n",
    "res_x=resi14[j]\n",
    "for i in intpro:\n",
    "    sd=stdev(resi14[i])\n",
    "    fig, ax = plt.subplots(1, 1) \n",
    "    res_y=resi14[i]\n",
    "    ax.set_title('p14'+i+'against'+i+'*'+j)\n",
    "    lin_x1=np.abs(res_x*res_y)\n",
    "    lin_y=np.abs(res_y)\n",
    "    lin_x=-1/((lin_x1+10*sd)**1.2)\n",
    "    ax.scatter(lin_x,lin_y, s=1)\n",
    "    M=max(lin_x)\n",
    "    m=min(lin_x)\n",
    "    lin=st.linregress(lin_x,lin_y)\n",
    "    l=np.array([m,M])\n",
    "    ax.plot(l,lin.intercept+lin.slope*l,color='red',label=lin.rvalue)\n",
    "    plt.legend()\n",
    "    plt.show()"
   ]
  },
  {
   "cell_type": "code",
   "execution_count": null,
   "metadata": {},
   "outputs": [],
   "source": [
    "#test plotting |y| against |xy|\n",
    "j='MT-ND1'\n",
    "res_x=resi14[j]\n",
    "for i in intpro:\n",
    "    fig, ax = plt.subplots(1, 1) \n",
    "    res_y=resi14[i]\n",
    "    ax.set_title('p14'+i+'against'+i+'*'+j)\n",
    "    lin_x=np.abs(res_x*res_y)\n",
    "    lin_y=np.abs(res_y)\n",
    "    ax.scatter(lin_x,lin_y, s=1)\n",
    "    M=max(lin_x)\n",
    "    m=min(lin_x)\n",
    "    lin=st.linregress(lin_x,lin_y)\n",
    "    l=np.array([m,M])\n",
    "    ax.plot(l,lin.intercept+lin.slope*l,color='red',label=lin.rvalue)\n",
    "    hyp_x=np.linspace(m,M,1000)\n",
    "    hyp_y=np.log(hyp_x+1)\n",
    "    ax.plot(hyp_x,hyp_y,color='pink')\n",
    "    plt.legend()\n",
    "    plt.show()"
   ]
  },
  {
   "cell_type": "code",
   "execution_count": null,
   "metadata": {},
   "outputs": [],
   "source": [
    "#lin reg |y| against √|xy^2/k-1|\n",
    "j='MT-ND1'\n",
    "res_x=resi14[j]\n",
    "for i in intpro:\n",
    "    fig, ax = plt.subplots(1, 1) \n",
    "    res_y=resi14[i]\n",
    "    ax.set_title('p14'+i+'against'+i+'*'+j)\n",
    "    lin_x=\n",
    "    lin_y=np.abs(res_y)\n",
    "    ax.scatter(lin_x,lin_y, s=1)\n",
    "    M=max(lin_x)\n",
    "    m=min(lin_x)\n",
    "    lin=st.linregress(lin_x,lin_y)\n",
    "    l=np.array([m,M])\n",
    "    ax.plot(l,lin.intercept+lin.slope*l,color='red',label=lin.rvalue)\n",
    "    plt.legend()\n",
    "    plt.show()\n"
   ]
  },
  {
   "cell_type": "code",
   "execution_count": null,
   "metadata": {},
   "outputs": [],
   "source": [
    "#plotting |y| against √|xy|\n",
    "j='MT-ND1'\n",
    "res_x=resi14[j]\n",
    "for i in intpro:\n",
    "    fig, ax = plt.subplots(1, 1) \n",
    "    res_y=resi14[i]\n",
    "    ax.set_title('p14'+i+'against'+i+'*'+j)\n",
    "    lin_x=np.sqrt(np.abs(res_x*res_y))\n",
    "    lin_y=np.abs(res_y)\n",
    "    ax.scatter(lin_x,lin_y, s=1)\n",
    "    M=max(lin_x)\n",
    "    m=min(lin_x)\n",
    "    lin=st.linregress(lin_x,lin_y)\n",
    "    l=np.array([m,M])\n",
    "    ax.plot(l,lin.intercept+lin.slope*l,color='red',label=lin.rvalue)\n",
    "    plt.legend()\n",
    "    plt.show()\n"
   ]
  },
  {
   "cell_type": "code",
   "execution_count": null,
   "metadata": {},
   "outputs": [],
   "source": [
    "#plotting |y| against sigmoid(|xy|)\n",
    "j='MT-ND1'\n",
    "res_x=resi14[j]\n",
    "for i in intpro:\n",
    "    fig, ax = plt.subplots(1, 1) \n",
    "    res_y=resi14[i]\n",
    "    ax.set_title('p14'+i+'against'+i+'*'+j)\n",
    "    trans_x=np.abs(res_x*res_y)\n",
    "    lin_x=\n",
    "    lin_y=np.abs(res_y)\n",
    "    ax.scatter(lin_x,lin_y, s=1)\n",
    "    M=max(lin_x)\n",
    "    m=min(lin_x)\n",
    "    lin=st.linregress(lin_x,lin_y)\n",
    "    l=np.array([m,M])\n",
    "    ax.plot(l,lin.intercept+lin.slope*l,color='red',label=lin.rvalue)\n",
    "    plt.legend()\n",
    "    plt.show()"
   ]
  },
  {
   "cell_type": "markdown",
   "metadata": {},
   "source": [
    "Residuals plot: y against x*y"
   ]
  },
  {
   "cell_type": "code",
   "execution_count": null,
   "metadata": {},
   "outputs": [],
   "source": [
    "r_resi14_l=[] #r-values for transformed residuals\n",
    "for j in intpro:\n",
    "    res_x=resi14[j]\n",
    "    res_col=[]\n",
    "    for i in intpro:\n",
    "        fig, ax = plt.subplots(1, 1) \n",
    "        res_y=resi14[i]\n",
    "        ax.set_title('p14'+i+'against'+i+'*'+j)\n",
    "        lin_x=res_x*res_y\n",
    "        lin_y=res_y\n",
    "        ax.scatter(lin_x,lin_y, s=1)\n",
    "        M=max(lin_x)\n",
    "        m=min(lin_x)\n",
    "        lin=st.linregress(lin_x,lin_y)\n",
    "        l=np.array([m,M])\n",
    "        ax.plot(l,lin.intercept+lin.slope*l,color='red',label=lin.rvalue)\n",
    "        res_col.append(lin.rvalue)\n",
    "        plt.legend()\n",
    "        plt.show()\n",
    "    r_resi14_l.append(res_col)  "
   ]
  },
  {
   "cell_type": "markdown",
   "metadata": {},
   "source": [
    "Plotting residuals: y against |xy|"
   ]
  },
  {
   "cell_type": "code",
   "execution_count": null,
   "metadata": {},
   "outputs": [],
   "source": [
    "r_resi14_l=[] #r-values for transformed residuals\n",
    "for j in intpro:\n",
    "    res_x=resi14[j]\n",
    "    res_col=[]\n",
    "    for i in intpro:\n",
    "        fig, ax = plt.subplots(1, 1) \n",
    "        res_y=resi14[i]\n",
    "        ax.set_title('p14'+i+'against'+i+'*'+j)\n",
    "        lin_x=res_x\n",
    "        lin_y=np.abs(res_y*res_x)\n",
    "        ax.scatter(lin_x,lin_y, s=1)\n",
    "        M=max(lin_x)\n",
    "        m=min(lin_x)\n",
    "        lin=st.linregress(lin_x,lin_y)\n",
    "        l=np.array([m,M])\n",
    "        ax.plot(l,lin.intercept+lin.slope*l,color='red',label=lin.rvalue)\n",
    "        res_col.append(lin.rvalue)\n",
    "        plt.legend()\n",
    "        plt.show()\n",
    "    r_resi14_l.append(res_col)  "
   ]
  },
  {
   "cell_type": "code",
   "execution_count": null,
   "metadata": {},
   "outputs": [],
   "source": [
    "resi18=pd.DataFrame()\n",
    "x=p18['non-MT']\n",
    "for i in intpro:\n",
    "    y=p18[i]\n",
    "    lin_x=np.sqrt(x*y)\n",
    "    lin_y=y\n",
    "    lin=st.linregress(lin_x,lin_y)\n",
    "    fit=lin.intercept+lin.slope*lin_x\n",
    "    resi18=resi18.join(pd.DataFrame(lin_y-fit), how='outer')\n",
    "resi18"
   ]
  },
  {
   "cell_type": "code",
   "execution_count": null,
   "metadata": {},
   "outputs": [],
   "source": [
    "resi14['MT-ND1']"
   ]
  },
  {
   "cell_type": "code",
   "execution_count": null,
   "metadata": {},
   "outputs": [],
   "source": [
    "#function to calc and include r-value onto the plots\n",
    "def rval(x, y, ax=None, **kws):\n",
    "    \"\"\"Plot the correlation coefficient in the top left hand corner of a plot.\"\"\"\n",
    "    r, _ = st.pearsonr(x, y)\n",
    "    ax = ax or plt.gca()\n",
    "    ax.annotate(f'ρ = {r:.2f}', xy=(.1, .9), xycoords=ax.transAxes)"
   ]
  },
  {
   "cell_type": "code",
   "execution_count": null,
   "metadata": {},
   "outputs": [],
   "source": [
    "res_plot=sns.pairplot(resi14,kind='reg', diag_kind='kde',plot_kws={'line_kws':{'color':'red'}},corner=True)\n",
    "res_plot.map_lower(rval)\n",
    "plt.show()"
   ]
  },
  {
   "cell_type": "markdown",
   "metadata": {},
   "source": [
    "rvalue looks very bleak...\n",
    "Transforming the residuals to a similar way to above"
   ]
  },
  {
   "cell_type": "code",
   "execution_count": null,
   "metadata": {},
   "outputs": [],
   "source": [
    "r_resi14_l=[] #r-values for transformed residuals\n",
    "for j in intpro:\n",
    "    res_x=resi14[j]\n",
    "    res_col=[]\n",
    "    for i in intpro:\n",
    "        fig, ax = plt.subplots(1, 1) \n",
    "        y=resi14[i]\n",
    "        ax.set_title('p14'+j+'against'+'sqrt'+'('+i+j+')')\n",
    "        lin_x=x*y\n",
    "        lin_y=y\n",
    "        ax.scatter(lin_x,lin_y, s=1)\n",
    "        M=max(lin_x)\n",
    "        m=min(lin_x)\n",
    "        lin=st.linregress(lin_x,lin_y)\n",
    "        l=np.array([m,M])\n",
    "        ax.plot(l,lin.intercept+lin.slope*l,color='red')\n",
    "        res_col.append(lin.rvalue)\n",
    "        plt.show()\n",
    "    r_resi14_l.append(res_col)  "
   ]
  },
  {
   "cell_type": "code",
   "execution_count": null,
   "metadata": {},
   "outputs": [],
   "source": [
    "tex=resi14['MT-ND1']*resi14['MT-ND2']\n",
    "tey=resi14['MT-ND1']\n",
    "plt.scatter(tex,tey)\n",
    "telin=st.linregress(tex,tey)\n",
    "M=max(tex)\n",
    "m=min(tex)\n",
    "tel=np.array([m,M])\n",
    "plt.plot(tel,telin.intercept+telin.slope*tel,color='red')\n",
    "plt.show()\n",
    "telin.rvalue"
   ]
  },
  {
   "cell_type": "markdown",
   "metadata": {},
   "source": [
    "Log?"
   ]
  },
  {
   "cell_type": "code",
   "execution_count": null,
   "metadata": {},
   "outputs": [],
   "source": [
    "tex=np.log(resi14['MT-ND1']*resi14['MT-ND2']+4)\n",
    "tey=resi14['MT-ND1']\n",
    "plt.scatter(tex,tey)\n",
    "telin=st.linregress(tex,tey)\n",
    "M=max(tex)\n",
    "m=min(tex)\n",
    "tel=np.array([m,M])\n",
    "plt.plot(tel,telin.intercept+telin.slope*tel,color='red')\n",
    "plt.show()\n",
    "telin.rvalue"
   ]
  },
  {
   "cell_type": "markdown",
   "metadata": {},
   "source": [
    "Hyperbola idea but instead, consider reciprocal function and take negative, then translate upwards. \n",
    "\n",
    "i.e: -β_1 (xy-k)**(-n) + β_0"
   ]
  },
  {
   "cell_type": "code",
   "execution_count": null,
   "metadata": {},
   "outputs": [],
   "source": [
    "tex=-1/(resi14['MT-ND1']*resi14['MT-ND2']+0.1)\n",
    "tey=resi14['MT-ND1']\n",
    "plt.scatter(tex,tey)\n",
    "telin=st.linregress(tex,tey)\n",
    "M=max(tex)\n",
    "m=min(tex)\n",
    "tel=np.array([m,M])\n",
    "plt.plot(tel,telin.intercept+telin.slope*tel,color='red')\n",
    "plt.show()\n",
    "telin.rvalue"
   ]
  },
  {
   "cell_type": "markdown",
   "metadata": {},
   "source": [
    "Below are a few code trying to fit a hyperbola (incomplete)"
   ]
  },
  {
   "cell_type": "code",
   "execution_count": null,
   "metadata": {},
   "outputs": [],
   "source": [
    "np.sqrt((resi14['MT-ND1']*resi14['MT-ND2']+1)**2/0.05-1)"
   ]
  },
  {
   "cell_type": "code",
   "execution_count": null,
   "metadata": {},
   "outputs": [],
   "source": [
    "tex=np.sqrt((resi14['MT-ND1']*resi14['MT-ND2'])**2/0.05-1)\n",
    "np.isnan(tex).any()"
   ]
  },
  {
   "cell_type": "code",
   "execution_count": null,
   "metadata": {},
   "outputs": [],
   "source": [
    "tex=np.sqrt((resi14['MT-ND1']*resi14['MT-ND2']+2)**2-0.25)\n",
    "tey=resi14['MT-ND1']\n",
    "plt.scatter(tex,tey)\n",
    "telin=st.linregress(tex,tey)\n",
    "M=max(tex)\n",
    "m=min(tex)\n",
    "tel=np.array([m,M])\n",
    "plt.plot(tel,telin.intercept+telin.slope*tel,color='red')\n",
    "plt.show()\n",
    "telin.rvalue"
   ]
  },
  {
   "cell_type": "code",
   "execution_count": null,
   "metadata": {},
   "outputs": [],
   "source": [
    "tex=np.sqrt(resi14['MT-ND1']*resi14['MT-ND2'])\n",
    "tey=resi14['MT-ND1']\n",
    "plt.scatter(tex,tey)\n",
    "telin=st.linregress(tex,tey)\n",
    "M=max(tex)\n",
    "m=min(tex)\n",
    "tel=np.array([m,M])\n",
    "plt.plot(tel,telin.intercept+telin.slope*tel,color='red')\n",
    "plt.show()"
   ]
  },
  {
   "cell_type": "code",
   "execution_count": null,
   "metadata": {},
   "outputs": [],
   "source": [
    "m_tex=abs(min(resi14['MT-ND1']*resi14['MT-ND2']))\n",
    "tex=np.sqrt(resi14['MT-ND1']*resi14['MT-ND2']+m_tex)\n",
    "tey=resi14['MT-ND1']\n",
    "plt.scatter(tex,tey)\n",
    "telin=st.linregress(tex,tey)\n",
    "M=max(tex)\n",
    "m=min(tex)\n",
    "tel=np.array([m,M])\n",
    "plt.plot(tel,telin.intercept+telin.slope*tel,color='red')\n",
    "plt.show()\n",
    "telin.rvalue"
   ]
  },
  {
   "cell_type": "markdown",
   "metadata": {},
   "source": [
    "Code to plot the transformed residuals (incomplete)"
   ]
  },
  {
   "cell_type": "code",
   "execution_count": null,
   "metadata": {},
   "outputs": [],
   "source": [
    "r_resi14_l=[] #r-values for transformed residuals\n",
    "for j in intpro:\n",
    "    res_x=resi14[j]\n",
    "    res_col=[]\n",
    "    for i in intpro:\n",
    "        fig, ax = plt.subplots(1, 1) \n",
    "        res_y=resi14[i]\n",
    "        ax.set_title('p14'+j+'against'+'sqrt'+'('+i+j+')')\n",
    "        lin_x=np.sqrt(res_x*res_y)\n",
    "        lin_y=res_y\n",
    "        ax.scatter(lin_x,lin_y, s=1)\n",
    "        M=max(lin_x)\n",
    "        m=min(lin_x)\n",
    "        lin=st.linregress(lin_x,lin_y)\n",
    "        l=np.array([m,M])\n",
    "        ax.plot(l,lin.intercept+lin.slope*l,color='red')\n",
    "        res_col.append(lin.rvalue)\n",
    "        plt.show()\n",
    "    r_resi14_l.append(res_col)  "
   ]
  },
  {
   "cell_type": "code",
   "execution_count": null,
   "metadata": {},
   "outputs": [],
   "source": [
    "r_resi14_l"
   ]
  },
  {
   "cell_type": "code",
   "execution_count": null,
   "metadata": {},
   "outputs": [],
   "source": [
    "resi24=pd.DataFrame()\n",
    "for i in intpro:\n",
    "    y=p24[i]\n",
    "    lin_x=np.sqrt(x*y)\n",
    "    lin_y=y\n",
    "    lin=st.linregress(lin_x,lin_y)\n",
    "    fit=lin.intercept+lin.slope*lin_x\n",
    "    resi24=resi24.join(pd.DataFrame(lin_y-fit), how='outer')\n",
    "resi24"
   ]
  },
  {
   "cell_type": "code",
   "execution_count": null,
   "metadata": {},
   "outputs": [],
   "source": [
    "resi28=pd.DataFrame()\n",
    "for i in intpro:\n",
    "    y=p28[i]\n",
    "    lin_x=np.sqrt(x*y)\n",
    "    lin_y=y\n",
    "    lin=st.linregress(lin_x,lin_y)\n",
    "    fit=lin.intercept+lin.slope*lin_x\n",
    "    resi28=resi28.join(pd.DataFrame(lin_y-fit), how='outer')\n",
    "resi28"
   ]
  },
  {
   "cell_type": "code",
   "execution_count": null,
   "metadata": {},
   "outputs": [],
   "source": [
    "x=p28['non-MT']\n",
    "p28_resi=[]\n",
    "for i in intpro:\n",
    "    y=p28[i]\n",
    "    lin_x=np.sqrt(x*y)\n",
    "    lin_y=y\n",
    "    lin=st.linregress(lin_x,lin_y)\n",
    "    fit=lin.intercept+lin.slope*lin_x\n",
    "    resi=lin_y-fit\n",
    "p28_resi"
   ]
  },
  {
   "cell_type": "markdown",
   "metadata": {},
   "source": [
    "For justification: The following was the original plan: plotting gene against non-MT UMI.\n",
    "\n",
    "Terrible r-value"
   ]
  },
  {
   "cell_type": "code",
   "execution_count": null,
   "metadata": {},
   "outputs": [],
   "source": [
    "r_l=[]\n",
    "for i in intpro:\n",
    "    fig, ax = plt.subplots(1, 1) \n",
    "    ax.set_title('pat1_4'+''+i)\n",
    "    ax.scatter(p14['non-MT'],p14[i],s=1)\n",
    "    beta=st.linregress(p14['non-MT'], p14[i])\n",
    "    ax.plot(np.linspace(0,20000,num=5),beta.slope*np.linspace(0,20000,num=5)+beta.intercept,color='red')\n",
    "    r_l.append(beta.rvalue)\n",
    "    plt.show()\n"
   ]
  },
  {
   "cell_type": "markdown",
   "metadata": {},
   "source": []
  },
  {
   "cell_type": "code",
   "execution_count": null,
   "metadata": {},
   "outputs": [],
   "source": [
    "r_l"
   ]
  },
  {
   "cell_type": "code",
   "execution_count": null,
   "metadata": {},
   "outputs": [],
   "source": []
  }
 ],
 "metadata": {
  "kernelspec": {
   "display_name": "pymc_env",
   "language": "python",
   "name": "python3"
  },
  "language_info": {
   "codemirror_mode": {
    "name": "ipython",
    "version": 3
   },
   "file_extension": ".py",
   "mimetype": "text/x-python",
   "name": "python",
   "nbconvert_exporter": "python",
   "pygments_lexer": "ipython3",
   "version": "3.12.3"
  }
 },
 "nbformat": 4,
 "nbformat_minor": 2
}
