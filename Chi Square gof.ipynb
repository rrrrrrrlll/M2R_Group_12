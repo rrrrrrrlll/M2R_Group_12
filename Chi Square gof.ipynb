{
 "cells": [
  {
   "cell_type": "code",
   "execution_count": 1,
   "metadata": {},
   "outputs": [],
   "source": [
    "import numpy as np\n",
    "import matplotlib.pyplot as plt\n",
    "import seaborn as sns\n",
    "import pandas as pd\n",
    "import arviz as az\n",
    "import pymc as pm\n",
    "import corner\n",
    "import scipy.stats as st\n",
    "from statistics import mean\n",
    "from collections import Counter"
   ]
  },
  {
   "cell_type": "code",
   "execution_count": 2,
   "metadata": {},
   "outputs": [
    {
     "data": {
      "text/plain": [
       "['MT-ND1',\n",
       " 'MT-ND2',\n",
       " 'MT-ND3',\n",
       " 'MT-ND4',\n",
       " 'MT-ND4L',\n",
       " 'MT-ND5',\n",
       " 'MT-ND6',\n",
       " 'MT-CO1',\n",
       " 'MT-CO2',\n",
       " 'MT-CO3',\n",
       " 'MT-ATP6',\n",
       " 'MT-ATP8',\n",
       " 'MT-CYB']"
      ]
     },
     "execution_count": 2,
     "metadata": {},
     "output_type": "execute_result"
    }
   ],
   "source": [
    "file_path = 'Datasets/mt_genes_metadata.csv'\n",
    "\n",
    "met = pd.read_csv(file_path)\n",
    "\n",
    "pro_code=met[met['gene_type']=='protein_coding']\n",
    "intpro=pro_code['gene_name'].tolist()\n",
    "intpro=['MT-ND1','MT-ND2','MT-ND3','MT-ND4','MT-ND4L','MT-ND5','MT-ND6', 'MT-CO1', 'MT-CO2','MT-CO3', 'MT-ATP6', 'MT-ATP8', 'MT-CYB']\n",
    "intpro"
   ]
  },
  {
   "cell_type": "code",
   "execution_count": 3,
   "metadata": {},
   "outputs": [],
   "source": [
    "file_path = 'Datasets/Donor1_CD4_Genes.csv'\n",
    "\n",
    "p14 = pd.read_csv(file_path)\n",
    "\n",
    "p14.drop(columns=p14.columns[0], axis=1, inplace=True)\n",
    "\n",
    "pat1_4int=pd.DataFrame([p14[i] for i in intpro]).T\n",
    "\n",
    "file_path = 'Datasets/Donor1_CD8_Genes.csv'\n",
    "\n",
    "p18 = pd.read_csv(file_path)\n",
    "\n",
    "p18.drop(columns=p18.columns[0], axis=1, inplace=True)\n",
    "\n",
    "pat1_8int=pd.DataFrame([p18[i] for i in intpro]).T\n",
    "\n",
    "file_path = 'Datasets/Donor2_CD4_Genes.csv'\n",
    "\n",
    "p24 = pd.read_csv(file_path)\n",
    "\n",
    "p24.drop(columns=p24.columns[0], axis=1, inplace=True)\n",
    "\n",
    "pat2_4int=pd.DataFrame([p24[i] for i in intpro]).T\n",
    "\n",
    "file_path = 'Datasets/Donor2_CD8_Genes.csv'\n",
    "\n",
    "p28 = pd.read_csv(file_path)\n",
    "\n",
    "p28.drop(columns=p28.columns[0], axis=1, inplace=True)\n",
    "\n",
    "pat2_8int=pd.DataFrame([p28[i] for i in intpro]).T\n",
    "\n",
    "total=pd.concat([p14,p18,p24,p28])\n",
    "\n",
    "total_int=pd.concat([pat1_4int,pat1_8int, pat2_4int,pat2_8int])\n",
    "\n",
    "totaln=len(total_int)\n"
   ]
  },
  {
   "cell_type": "code",
   "execution_count": 4,
   "metadata": {},
   "outputs": [],
   "source": [
    "total_sampto=total.sum() #total number of each gene\n",
    "totalgene=total_sampto.sum() #total number of genes"
   ]
  },
  {
   "cell_type": "code",
   "execution_count": 6,
   "metadata": {},
   "outputs": [],
   "source": [
    "#number of DNA strands in each file\n",
    "p14n=len(pat1_4int)\n",
    "p18n=len(pat1_8int)\n",
    "p24n=len(pat2_4int)\n",
    "p28n=len(pat2_8int)"
   ]
  },
  {
   "cell_type": "code",
   "execution_count": 12,
   "metadata": {},
   "outputs": [
    {
     "data": {
      "text/plain": [
       "0       1547\n",
       "1       2578\n",
       "2       2922\n",
       "3       2735\n",
       "4       4317\n",
       "        ... \n",
       "2883    3218\n",
       "2884    3065\n",
       "2885    4664\n",
       "2886    5669\n",
       "2887    4441\n",
       "Length: 2888, dtype: int64"
      ]
     },
     "execution_count": 12,
     "metadata": {},
     "output_type": "execute_result"
    }
   ],
   "source": [
    "#Calculates the number of genes for each DNA\n",
    "p14_allsampto=p14.sum(axis=1)\n",
    "p14_allsampto"
   ]
  },
  {
   "cell_type": "markdown",
   "metadata": {},
   "source": [
    "Normalising data and then computing Unbiased estimate of neg binom proportion"
   ]
  },
  {
   "cell_type": "code",
   "execution_count": 40,
   "metadata": {},
   "outputs": [
    {
     "data": {
      "text/plain": [
       "{'MT-ND1': 0.9982130218641465,\n",
       " 'MT-ND2': 0.9989420198086033,\n",
       " 'MT-ND3': 0.9987206822526757,\n",
       " 'MT-ND4': 0.9992367635190114,\n",
       " 'MT-ND4L': 0.9970263015502824,\n",
       " 'MT-ND5': 0.9988379600574597,\n",
       " 'MT-ND6': 0.9997615269486313,\n",
       " 'MT-CO1': 0.9954579488639743,\n",
       " 'MT-CO2': 0.9922420526743582,\n",
       " 'MT-CO3': 0.993906312992069,\n",
       " 'MT-ATP6': 0.9995115561342489,\n",
       " 'MT-ATP8': 0.9956107948395834,\n",
       " 'MT-CYB': 0.9952249786447018}"
      ]
     },
     "execution_count": 40,
     "metadata": {},
     "output_type": "execute_result"
    }
   ],
   "source": [
    "r=1000\n",
    "uem14_list=[]\n",
    "for j in intpro:\n",
    "    uem_sample_list=[]\n",
    "    for i in range(p14n):   \n",
    "        norm_cons=(p14_allsampto[i]-p14[j][i])/r #inidividual normalisation constant\n",
    "        x=p14[j][i]/norm_cons\n",
    "        uem=(r-1)/(x+r-1)\n",
    "        uem_sample_list.append(uem)\n",
    "    uem14_list.append(mean(uem_sample_list))\n",
    "uem14_list=dict(zip(intpro,uem14_list))\n",
    "uem14_list"
   ]
  },
  {
   "cell_type": "markdown",
   "metadata": {},
   "source": [
    "χ² test:"
   ]
  },
  {
   "cell_type": "code",
   "execution_count": 57,
   "metadata": {},
   "outputs": [
    {
     "data": {
      "text/plain": [
       "[-205.50701735868915,\n",
       " -940.9417973989403,\n",
       " -1056.8396417059225,\n",
       " -1331.4283159478762,\n",
       " 904.9347990797951,\n",
       " -1103.3607190119499,\n",
       " -1508.307789281577,\n",
       " 3613.4572403626253,\n",
       " 5023.164590000371,\n",
       " 3341.428344759509,\n",
       " -1785.7717366269746,\n",
       " 3261.264572957297,\n",
       " 1903.1279271571675]"
      ]
     },
     "execution_count": 57,
     "metadata": {},
     "output_type": "execute_result"
    }
   ],
   "source": [
    "#p1_4\n",
    "df14=p14n-1\n",
    "cv=st.chi2.ppf(0.95,df14)\n",
    "chi1_p14_ts=[]\n",
    "chi1_p14_res=[]\n",
    "for j in intpro:\n",
    "    ts=0\n",
    "    p=uem14_list[j]\n",
    "    for i in range(p14n):\n",
    "        r=1000\n",
    "        norm_cons=(p14_allsampto[i]-p14[j][i])/r #inidividual normalisation constant\n",
    "        o=p14[j][i]/norm_cons\n",
    "        e=r*(1-p)/p\n",
    "        ts+=(e-o)**2/e\n",
    "    chi1_p14_ts.append(ts)\n",
    "    chi1_p14_res.append(ts-cv)\n",
    "chi1_p14_res"
   ]
  },
  {
   "cell_type": "markdown",
   "metadata": {},
   "source": [
    "Below is unrefined stuff"
   ]
  },
  {
   "cell_type": "code",
   "execution_count": 71,
   "metadata": {},
   "outputs": [
    {
     "data": {
      "text/plain": [
       "[4111.197925329632,\n",
       " 3043.734773332208,\n",
       " 2419.2040819217004,\n",
       " 1987.8232946176636,\n",
       " 6403.878663851136,\n",
       " 2852.984004617039,\n",
       " 1548.3527769126326,\n",
       " 13955.610254847617,\n",
       " 15100.751960680309,\n",
       " 11456.024761625824,\n",
       " 984.9264501561092,\n",
       " 11442.159314060757,\n",
       " 9233.692961764658]"
      ]
     },
     "execution_count": 71,
     "metadata": {},
     "output_type": "execute_result"
    }
   ],
   "source": [
    "#p1_4\n",
    "df14=p14n-2\n",
    "cv=st.chi2.ppf(0.95,df14)\n",
    "chi2_p14_ts=[]\n",
    "chi2_p14_res=[]\n",
    "for j in intpro:\n",
    "    ts=0\n",
    "    p=uem14t_list[j]\n",
    "    for i in range(p14n):\n",
    "        if p14_allsampto[i]==0:\n",
    "            ts+=0\n",
    "        else:\n",
    "            r=p14_allsampto[i]-pat1_4int[j][i]\n",
    "            o=pat1_4int[j][i]\n",
    "            e=r*(1-p)/p\n",
    "            ts+=(e-o)**2/e\n",
    "    chi2_p14_ts.append(ts)\n",
    "    chi2_p14_res.append(ts-cv)\n",
    "chi2_p14_res"
   ]
  },
  {
   "cell_type": "code",
   "execution_count": null,
   "metadata": {},
   "outputs": [],
   "source": []
  }
 ],
 "metadata": {
  "kernelspec": {
   "display_name": "pymc_env",
   "language": "python",
   "name": "python3"
  },
  "language_info": {
   "codemirror_mode": {
    "name": "ipython",
    "version": 3
   },
   "file_extension": ".py",
   "mimetype": "text/x-python",
   "name": "python",
   "nbconvert_exporter": "python",
   "pygments_lexer": "ipython3",
   "version": "3.12.3"
  }
 },
 "nbformat": 4,
 "nbformat_minor": 2
}
