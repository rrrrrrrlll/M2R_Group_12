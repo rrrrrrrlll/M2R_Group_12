{
 "cells": [
  {
   "cell_type": "markdown",
   "id": "6a87ce92",
   "metadata": {},
   "source": [
    "## Linear Fit\n"
   ]
  },
  {
   "cell_type": "code",
<<<<<<< HEAD
   "execution_count": 3,
=======
   "execution_count": 1,
>>>>>>> c5b1460054e5b6d583ebef23b5b6d79404e4d60d
   "id": "5ae7912f",
   "metadata": {},
   "outputs": [
    {
     "name": "stderr",
     "output_type": "stream",
     "text": [
      "WARNING (pytensor.configdefaults): g++ not available, if using conda: `conda install m2w64-toolchain`\n",
      "WARNING (pytensor.configdefaults): g++ not detected!  PyTensor will be unable to compile C-implementations and will default to Python. Performance may be severely degraded. To remove this warning, set PyTensor flags cxx to an empty string.\n",
      "WARNING (pytensor.tensor.blas): Using NumPy C-API based implementation for BLAS functions.\n"
     ]
    },
    {
     "name": "stdout",
     "output_type": "stream",
     "text": [
<<<<<<< HEAD
      "5.15.1\n"
=======
      "5.15.0\n"
>>>>>>> c5b1460054e5b6d583ebef23b5b6d79404e4d60d
     ]
    }
   ],
   "source": [
    "!pip install seaborn\n",
    "try:\n",
    "    import pymc as pm # For MCMC\n",
    "except:\n",
    "    %pip install pymc\n",
    "    import pymc as pm\n",
    "try:\n",
    "    import arviz as az # For MCMC package\n",
    "except:\n",
    "    %pip install arviz\n",
    "    import arviz as az\n",
    "import numpy as np\n",
    "import matplotlib.pyplot as plt\n",
    "import seaborn as sns\n",
    "import pandas as pd\n",
    "try:\n",
    "    import corner\n",
    "except:\n",
    "    %pip install corner\n",
    "    import corner\n",
    "\n",
    "print(pm.__version__)"
   ]
  },
  {
   "cell_type": "markdown",
   "id": "92088d09",
   "metadata": {},
   "source": [
    "### Import data "
   ]
  },
  {
   "cell_type": "code",
   "execution_count": 4,
   "id": "d0b90acf",
   "metadata": {},
   "outputs": [
    {
     "name": "stdout",
     "output_type": "stream",
     "text": [
      "           Unnamed: 0  MT-TF  MT-RNR1  MT-TV  MT-RNR2  MT-TL1  MT-ND1  MT-TI  \\\n",
      "0  AAACCTGCAAACTGTC.1      0        6      0       60       0      12      0   \n",
      "1  AAACCTGCACAGCGTC.1      0        2      0       21       0       8      0   \n",
      "2  AAACGGGAGACTGGGT.1      0       19      0       84       0       7      0   \n",
      "3  AAACGGGAGGTGTTAA.1      0       27      0      115       0       3      0   \n",
      "4  AAACGGGCATGGGACA.1      0       43      1      119       0       6      0   \n",
      "\n",
      "   MT-TQ  MT-TM  ...  MT-TH  MT-TS2  MT-TL2  MT-ND5  MT-ND6  MT-TE  MT-CYB  \\\n",
      "0      0      0  ...      0       0       0       7       7      0      20   \n",
      "1      0      0  ...      0       0       0       6       1      0      17   \n",
      "2      0      0  ...      0       0       0       7       0      0      15   \n",
      "3      0      0  ...      0       0       0       6       3      0      14   \n",
      "4      0      0  ...      0       0       0       2       0      0       7   \n",
      "\n",
      "   MT-TT  MT-TP  non-MT  \n",
      "0      0      0    1250  \n",
      "1      0      0    2389  \n",
      "2      0      0    2685  \n",
      "3      0      0    2456  \n",
      "4      0      0    4060  \n",
      "\n",
      "[5 rows x 39 columns]\n"
     ]
    }
   ],
   "source": [
    "import pandas as pd\n",
    "\n",
    "file_path = 'datasets/Donor1_CD4_Genes.csv'\n",
    "\n",
    "df = pd.read_csv(file_path)\n",
    "\n",
    "print(df.head())\n",
    "\n",
    "     \n"
   ]
  },
  {
   "cell_type": "code",
   "execution_count": 5,
   "id": "5308a692",
   "metadata": {
    "scrolled": false
   },
   "outputs": [
    {
     "name": "stdout",
     "output_type": "stream",
     "text": [
      "[ 0. 19.  0. 84.  0.  7.  0.  0.  0.  2.  0.  0.  0.  0.  0. 16.  0.  0.\n",
      " 30.  0.  8.  1. 19.  0.  6.  0. 20.  3.  0.  0.  0.  7.  0.  0. 15.  0.\n",
      "  0.]\n"
     ]
    },
    {
     "data": {
      "image/png": "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",
      "text/plain": [
       "<Figure size 640x480 with 1 Axes>"
      ]
     },
     "metadata": {},
     "output_type": "display_data"
    }
   ],
   "source": [
    "x1 = df.iloc[2]\n",
    "y1 = df.iloc[5]\n",
    "x1 = np.array(x1[1:-1])  # remove non-MT\n",
    "y1 = np.array(y1[1:-1])\n",
    "x = x1.astype(float)  # it must be float\n",
    "y = y1.astype(float)\n",
    "plt.plot(x,y,\"ko\")\n",
    "plt.xlabel(\"x\")\n",
    "plt.ylabel(\"y\")\n",
    "print(x)"
   ]
  },
  {
   "cell_type": "markdown",
   "id": "036d5a72",
   "metadata": {},
   "source": [
    "I defined the whole process as a function, basically it's the example given"
   ]
  },
  {
   "cell_type": "code",
   "execution_count": 6,
   "id": "e6d48dce",
   "metadata": {},
   "outputs": [],
   "source": [
    "def linfitplot(x,y):\n",
    "    linear_model = pm.Model()\n",
    "# Define the PyMC model\n",
    "    with linear_model:\n",
    "        # Priors for unknown parameters\n",
    "        a_prior = pm.Normal('a', mu=0, sigma=10)\n",
    "        b_prior = pm.Normal('b', mu=0, sigma=10)\n",
    "        sigma_prior = pm.HalfNormal('sigma', sigma=2)\n",
    "\n",
    "        # Expected value of outcome\n",
    "        mu = a_prior * x + b_prior\n",
    "\n",
    "        # Likelihood (sampling distribution) of observations\n",
    "        vals = pm.Normal('vals', mu=mu, sigma=sigma_prior, observed=y)\n",
    "        \n",
    "        step = pm.Slice()\n",
    "        tracel = pm.sample(1000, step=step, return_inferencedata=True)\n",
    "        ppc_samples = pm.sample_posterior_predictive(tracel)\n",
    "    \n",
    "    ppc_vals = np.asarray(ppc_samples[\"posterior_predictive\"].vals)\n",
    "    \n",
    "    for y_i in ppc_vals[0]:\n",
    "        plt.plot(x,y_i,alpha=0.1,color=\"pink\")\n",
    "    \n",
    "    plt.plot(x,y,\"ko\",label=\"Data\")\n",
    "    plt.legend()\n",
    "    plt.xlabel(\"x\")\n",
    "    plt.xlabel(\"y\")"
   ]
  },
  {
   "cell_type": "code",
   "execution_count": 8,
   "id": "60c1611b",
   "metadata": {},
   "outputs": [
    {
     "name": "stderr",
     "output_type": "stream",
     "text": [
      "Multiprocess sampling (4 chains in 4 jobs)\n",
      "CompoundStep\n",
      ">Slice: [a]\n",
      ">Slice: [b]\n",
      ">Slice: [sigma]\n",
      "WARNING (pytensor.configdefaults): g++ not detected!  PyTensor will be unable to compile C-implementations and will default to Python. Performance may be severely degraded. To remove this warning, set PyTensor flags cxx to an empty string.\n",
      "WARNING (pytensor.tensor.blas): Using NumPy C-API based implementation for BLAS functions.\n",
      "WARNING (pytensor.configdefaults): g++ not detected!  PyTensor will be unable to compile C-implementations and will default to Python. Performance may be severely degraded. To remove this warning, set PyTensor flags cxx to an empty string.\n",
      "WARNING (pytensor.tensor.blas): Using NumPy C-API based implementation for BLAS functions.\n",
      "WARNING (pytensor.configdefaults): g++ not detected!  PyTensor will be unable to compile C-implementations and will default to Python. Performance may be severely degraded. To remove this warning, set PyTensor flags cxx to an empty string.\n",
      "WARNING (pytensor.tensor.blas): Using NumPy C-API based implementation for BLAS functions.\n",
      "WARNING (pytensor.configdefaults): g++ not detected!  PyTensor will be unable to compile C-implementations and will default to Python. Performance may be severely degraded. To remove this warning, set PyTensor flags cxx to an empty string.\n",
      "WARNING (pytensor.tensor.blas): Using NumPy C-API based implementation for BLAS functions.\n"
     ]
    },
    {
     "data": {
      "text/html": [
       "<pre style=\"white-space:pre;overflow-x:auto;line-height:normal;font-family:Menlo,'DejaVu Sans Mono',consolas,'Courier New',monospace\">/Library/Frameworks/Python.framework/Versions/3.11/lib/python3.11/site-packages/rich/live.py:231: UserWarning: \n",
       "install \"ipywidgets\" for Jupyter support\n",
       "  warnings.warn('install \"ipywidgets\" for Jupyter support')\n",
       "</pre>\n"
      ],
      "text/plain": [
       "/Library/Frameworks/Python.framework/Versions/3.11/lib/python3.11/site-packages/rich/live.py:231: UserWarning: \n",
       "install \"ipywidgets\" for Jupyter support\n",
       "  warnings.warn('install \"ipywidgets\" for Jupyter support')\n"
      ]
     },
     "metadata": {},
     "output_type": "display_data"
    },
    {
     "data": {
      "text/html": [
       "<pre style=\"white-space:pre;overflow-x:auto;line-height:normal;font-family:Menlo,'DejaVu Sans Mono',consolas,'Courier New',monospace\"></pre>\n"
      ],
      "text/plain": []
     },
     "metadata": {},
     "output_type": "display_data"
    },
    {
     "data": {
      "text/html": [
       "<pre style=\"white-space:pre;overflow-x:auto;line-height:normal;font-family:Menlo,'DejaVu Sans Mono',consolas,'Courier New',monospace\">\n",
       "</pre>\n"
      ],
      "text/plain": [
       "\n"
      ]
     },
     "metadata": {},
     "output_type": "display_data"
    },
    {
     "name": "stderr",
     "output_type": "stream",
     "text": [
      "Sampling 4 chains for 1_000 tune and 1_000 draw iterations (4_000 + 4_000 draws total) took 77 seconds.\n",
      "Sampling: [vals]\n"
     ]
    },
    {
     "data": {
      "text/html": [
       "<pre style=\"white-space:pre;overflow-x:auto;line-height:normal;font-family:Menlo,'DejaVu Sans Mono',consolas,'Courier New',monospace\">/Library/Frameworks/Python.framework/Versions/3.11/lib/python3.11/site-packages/rich/live.py:231: UserWarning: \n",
       "install \"ipywidgets\" for Jupyter support\n",
       "  warnings.warn('install \"ipywidgets\" for Jupyter support')\n",
       "</pre>\n"
      ],
      "text/plain": [
       "/Library/Frameworks/Python.framework/Versions/3.11/lib/python3.11/site-packages/rich/live.py:231: UserWarning: \n",
       "install \"ipywidgets\" for Jupyter support\n",
       "  warnings.warn('install \"ipywidgets\" for Jupyter support')\n"
      ]
     },
     "metadata": {},
     "output_type": "display_data"
    },
    {
     "data": {
      "text/html": [
       "<pre style=\"white-space:pre;overflow-x:auto;line-height:normal;font-family:Menlo,'DejaVu Sans Mono',consolas,'Courier New',monospace\"></pre>\n"
      ],
      "text/plain": []
     },
     "metadata": {},
     "output_type": "display_data"
    },
    {
     "data": {
      "text/html": [
       "<pre style=\"white-space:pre;overflow-x:auto;line-height:normal;font-family:Menlo,'DejaVu Sans Mono',consolas,'Courier New',monospace\">\n",
       "</pre>\n"
      ],
      "text/plain": [
       "\n"
      ]
     },
     "metadata": {},
     "output_type": "display_data"
    },
    {
     "data": {
      "image/png": "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",
      "text/plain": [
       "<Figure size 640x480 with 1 Axes>"
      ]
     },
     "metadata": {},
     "output_type": "display_data"
    }
   ],
   "source": [
    "linfitplot(x,y)"
   ]
  },
  {
   "cell_type": "code",
   "execution_count": null,
   "id": "2881a99c",
   "metadata": {},
   "outputs": [],
   "source": []
  }
 ],
 "metadata": {
  "kernelspec": {
   "display_name": "Python 3 (ipykernel)",
   "language": "python",
   "name": "python3"
  },
  "language_info": {
   "codemirror_mode": {
    "name": "ipython",
    "version": 3
   },
   "file_extension": ".py",
   "mimetype": "text/x-python",
   "name": "python",
   "nbconvert_exporter": "python",
   "pygments_lexer": "ipython3",
<<<<<<< HEAD
   "version": "3.11.4"
=======
   "version": "3.11.5"
>>>>>>> c5b1460054e5b6d583ebef23b5b6d79404e4d60d
  }
 },
 "nbformat": 4,
 "nbformat_minor": 5
}
