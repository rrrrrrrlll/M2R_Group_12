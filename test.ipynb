{
 "cells": [
  {
   "cell_type": "code",
   "execution_count": 1,
   "id": "eba28da9",
   "metadata": {},
   "outputs": [
    {
     "name": "stdout",
     "output_type": "stream",
     "text": [
      "hello world\n"
     ]
    }
   ],
   "source": [
    "print('hello world')"
   ]
  },
  {
   "cell_type": "code",
   "execution_count": 3,
   "id": "8492a1e2",
   "metadata": {},
   "outputs": [
    {
     "name": "stdout",
     "output_type": "stream",
     "text": [
      "Requirement already satisfied: iz in /Library/Frameworks/Python.framework/Versions/3.11/lib/python3.11/site-packages (0.0.1)\n",
      "Note: you may need to restart the kernel to use updated packages.\n"
     ]
    },
    {
     "name": "stderr",
     "output_type": "stream",
     "text": [
      "/Users/liuruoque/Desktop/M2R/M2R_Group_12/iz/iz.py:36: FutureWarning: Setting an item of incompatible dtype is deprecated and will raise an error in a future version of pandas. Value '51.948051948051955' has dtype incompatible with int64, please explicitly cast to a compatible dtype first.\n",
      "  \n",
      "/Users/liuruoque/Desktop/M2R/M2R_Group_12/iz/iz.py:36: FutureWarning: Setting an item of incompatible dtype is deprecated and will raise an error in a future version of pandas. Value '12.987012987012989' has dtype incompatible with int64, please explicitly cast to a compatible dtype first.\n",
      "  \n",
      "/Users/liuruoque/Desktop/M2R/M2R_Group_12/iz/iz.py:36: FutureWarning: Setting an item of incompatible dtype is deprecated and will raise an error in a future version of pandas. Value '99.56709956709956' has dtype incompatible with int64, please explicitly cast to a compatible dtype first.\n",
      "  \n",
      "/Users/liuruoque/Desktop/M2R/M2R_Group_12/iz/iz.py:36: FutureWarning: Setting an item of incompatible dtype is deprecated and will raise an error in a future version of pandas. Value '229.43722943722943' has dtype incompatible with int64, please explicitly cast to a compatible dtype first.\n",
      "  \n",
      "/Users/liuruoque/Desktop/M2R/M2R_Group_12/iz/iz.py:36: FutureWarning: Setting an item of incompatible dtype is deprecated and will raise an error in a future version of pandas. Value '147.1861471861472' has dtype incompatible with int64, please explicitly cast to a compatible dtype first.\n",
      "  \n",
      "/Users/liuruoque/Desktop/M2R/M2R_Group_12/iz/iz.py:36: FutureWarning: Setting an item of incompatible dtype is deprecated and will raise an error in a future version of pandas. Value '12.987012987012989' has dtype incompatible with int64, please explicitly cast to a compatible dtype first.\n",
      "  \n",
      "/Users/liuruoque/Desktop/M2R/M2R_Group_12/iz/iz.py:36: FutureWarning: Setting an item of incompatible dtype is deprecated and will raise an error in a future version of pandas. Value '164.5021645021645' has dtype incompatible with int64, please explicitly cast to a compatible dtype first.\n",
      "  \n",
      "/Users/liuruoque/Desktop/M2R/M2R_Group_12/iz/iz.py:36: FutureWarning: Setting an item of incompatible dtype is deprecated and will raise an error in a future version of pandas. Value '25.974025974025977' has dtype incompatible with int64, please explicitly cast to a compatible dtype first.\n",
      "  \n",
      "/Users/liuruoque/Desktop/M2R/M2R_Group_12/iz/iz.py:36: FutureWarning: Setting an item of incompatible dtype is deprecated and will raise an error in a future version of pandas. Value '86.58008658008657' has dtype incompatible with int64, please explicitly cast to a compatible dtype first.\n",
      "  \n",
      "/Users/liuruoque/Desktop/M2R/M2R_Group_12/iz/iz.py:36: FutureWarning: Setting an item of incompatible dtype is deprecated and will raise an error in a future version of pandas. Value '21.645021645021643' has dtype incompatible with int64, please explicitly cast to a compatible dtype first.\n",
      "  \n",
      "/Users/liuruoque/Desktop/M2R/M2R_Group_12/iz/iz.py:36: FutureWarning: Setting an item of incompatible dtype is deprecated and will raise an error in a future version of pandas. Value '30.303030303030305' has dtype incompatible with int64, please explicitly cast to a compatible dtype first.\n",
      "  \n",
      "/Users/liuruoque/Desktop/M2R/M2R_Group_12/iz/iz.py:36: FutureWarning: Setting an item of incompatible dtype is deprecated and will raise an error in a future version of pandas. Value '30.303030303030305' has dtype incompatible with int64, please explicitly cast to a compatible dtype first.\n",
      "  \n",
      "/Users/liuruoque/Desktop/M2R/M2R_Group_12/iz/iz.py:36: FutureWarning: Setting an item of incompatible dtype is deprecated and will raise an error in a future version of pandas. Value '86.58008658008657' has dtype incompatible with int64, please explicitly cast to a compatible dtype first.\n",
      "  \n"
     ]
    },
    {
     "data": {
      "image/png": "[encoded data removed]",
      "text/plain": [
       "<Figure size 640x480 with 1 Axes>"
      ]
     },
     "metadata": {},
     "output_type": "display_data"
    }
   ],
   "source": [
    "%pip install iz\n",
    "import iz\n",
    "\n",
    "iz.log_gene_plot(iz.norm2(iz.dfg(1,4)))"
   ]
  },
  {
   "cell_type": "code",
   "execution_count": null,
   "id": "c7a2b97a",
   "metadata": {},
   "outputs": [],
   "source": []
  }
 ],
 "metadata": {
  "kernelspec": {
   "display_name": "Python 3 (ipykernel)",
   "language": "python",
   "name": "python3"
  },
  "language_info": {
   "codemirror_mode": {
    "name": "ipython",
    "version": 3
   },
   "file_extension": ".py",
   "mimetype": "text/x-python",
   "name": "python",
   "nbconvert_exporter": "python",
   "pygments_lexer": "ipython3",
   "version": "3.11.4"
  }
 },
 "nbformat": 4,
 "nbformat_minor": 5
}
