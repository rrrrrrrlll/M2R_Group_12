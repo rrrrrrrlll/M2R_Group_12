{
 "cells": [
  {
   "cell_type": "code",
   "execution_count": 1,
   "metadata": {},
   "outputs": [
    {
     "name": "stderr",
     "output_type": "stream",
     "text": [
      "WARNING (pytensor.configdefaults): g++ not available, if using conda: `conda install m2w64-toolchain`\n",
      "WARNING (pytensor.configdefaults): g++ not detected!  PyTensor will be unable to compile C-implementations and will default to Python. Performance may be severely degraded. To remove this warning, set PyTensor flags cxx to an empty string.\n",
      "WARNING (pytensor.tensor.blas): Using NumPy C-API based implementation for BLAS functions.\n"
     ]
    },
    {
     "name": "stdout",
     "output_type": "stream",
     "text": [
      "5.15.0\n"
     ]
    }
   ],
   "source": [
    "try: \n",
    "    import seaborn as sns\n",
    "except:\n",
    "    %pip install seaborn\n",
    "    import seaborn as sns\n",
    "try:\n",
    "    import pymc as pm # For MCMC\n",
    "except:\n",
    "    %pip install pymc\n",
    "    import pymc as pm\n",
    "try:\n",
    "    import arviz as az # For MCMC package\n",
    "except:\n",
    "    %pip install arviz\n",
    "    import arviz as az\n",
    "import numpy as np\n",
    "import matplotlib.pyplot as plt\n",
    "import seaborn as sns\n",
    "import pandas as pd\n",
    "try:\n",
    "    import corner\n",
    "except:\n",
    "    %pip install corner\n",
    "    import corner\n",
    "\n",
    "print(pm.__version__)"
   ]
  },
  {
   "cell_type": "markdown",
   "metadata": {},
   "source": [
    "## Importing data"
   ]
  },
  {
   "cell_type": "code",
   "execution_count": 2,
   "metadata": {},
   "outputs": [],
   "source": [
    "import pandas as pd\n",
    "\n",
    "file_path = 'datasets/Donor1_CD4_Genes.csv'\n",
    "\n",
    "df1 = pd.read_csv(file_path)\n"
   ]
  },
  {
   "cell_type": "code",
   "execution_count": 3,
   "metadata": {},
   "outputs": [],
   "source": [
    "def dfg(a,b):\n",
    "    file_path = 'datasets/Donor%d_CD%d_Genes.csv' %(a,b)\n",
    "    all_df = pd.read_csv(file_path)\n",
    "    file_path = 'datasets/mt_genes_metadata.csv'\n",
    "    dfmeta = pd.read_csv(file_path)\n",
    "    protein_coding_genes = dfmeta[dfmeta['gene_type'] == 'protein_coding']\n",
    "    protein_names = protein_coding_genes['gene_name'].tolist()\n",
    "    df2 = pd.DataFrame([all_df[i] for i in protein_names]).T\n",
    "    return df2\n",
    "\n",
    "   "
   ]
  },
  {
   "cell_type": "markdown",
   "metadata": {},
   "source": [
    "### I only need 13 proteins, df2 "
   ]
  },
  {
   "cell_type": "code",
   "execution_count": 4,
   "metadata": {},
   "outputs": [
    {
     "name": "stdout",
     "output_type": "stream",
     "text": [
      "<bound method NDFrame.head of       MT-ND1  MT-ND2  MT-CO1  MT-CO2  MT-ATP8  MT-ATP6  MT-CO3  MT-ND3  \\\n",
      "0         12       3      23      53       34        3      38       6   \n",
      "1          8       4      24      35       10        2      34       3   \n",
      "2          7       2      16      30        8        1      19       6   \n",
      "3          3       2      25      23       14        5      23       2   \n",
      "4          6       3       6      26       14        1      11       4   \n",
      "...      ...     ...     ...     ...      ...      ...     ...     ...   \n",
      "2883       4       0      20      15       11        3      11       2   \n",
      "2884       2       5      13      28       12        2      18       6   \n",
      "2885       5       0      10      22       13        1      14       4   \n",
      "2886       6      12      36      45       19        2      40       5   \n",
      "2887       7       1       9      24       11        0      22       1   \n",
      "\n",
      "      MT-ND4L  MT-ND4  MT-ND5  MT-ND6  MT-CYB  \n",
      "0          20       5       7       7      20  \n",
      "1          15       7       6       1      17  \n",
      "2          20       3       7       0      15  \n",
      "3          13       4       6       3      14  \n",
      "4          14       0       2       0       7  \n",
      "...       ...     ...     ...     ...     ...  \n",
      "2883        5       2       3       0       4  \n",
      "2884       14       2       2       1       8  \n",
      "2885        6       7       5       1      20  \n",
      "2886       20       8       7       0      37  \n",
      "2887        7       2       7       1      17  \n",
      "\n",
      "[2888 rows x 13 columns]>\n"
     ]
    }
   ],
   "source": [
    "file_path = 'datasets/mt_genes_metadata.csv'\n",
    "\n",
    "dfmeta = pd.read_csv(file_path)\n",
    "\n",
    "\n",
    "protein_coding_genes = dfmeta[dfmeta['gene_type'] == 'protein_coding']\n",
    "protein_names = protein_coding_genes['gene_name'].tolist()\n",
    "tRNA_coding_genes = dfmeta[dfmeta['gene_type']=='Mt_tRNA']\n",
    "tRNA_names = tRNA_coding_genes['gene_name'].tolist()\n",
    "rRNA_coding_genes = dfmeta[dfmeta['gene_type']=='Mt_rRNA']\n",
    "rRNA_names = rRNA_coding_genes['gene_name'].tolist()\n",
    "\n",
    "umi = df1[\"non-MT\"]\n",
    "df2 = pd.DataFrame([df1[i] for i in protein_names]).T\n",
    "\n",
    "print(df2.head)"
   ]
  },
  {
   "cell_type": "markdown",
   "metadata": {},
   "source": [
    "### ***A suggestion about the dataframe: genes are columns and cells are rows, rest of my code will strictly follow this way***"
   ]
  },
  {
   "cell_type": "markdown",
   "metadata": {},
   "source": [
    "---\n"
   ]
  },
  {
   "cell_type": "markdown",
   "metadata": {},
   "source": [
    "## Next step, normalisation"
   ]
  },
  {
   "cell_type": "markdown",
   "metadata": {},
   "source": [
    "### a function: normiz\n",
    "normally we would expect the normalization to be \\\n",
    "\n",
    " row(cells) / umi correponding * some number \\\n",
    " \\\n",
    "I *prefer* taking the some number to be norm of the umi \\\n",
    "so an optional parameter somenumber is there. "
   ]
  },
  {
   "cell_type": "code",
   "execution_count": 5,
   "metadata": {},
   "outputs": [],
   "source": [
    "def normiz(df,umi,somenumber = np.linalg.norm(umi)):\n",
    "    df1 = df.T\n",
    "    norm = np.linalg.norm(umi)\n",
    "    print(norm)\n",
    "    umi1 = umi/somenumber\n",
    "    for i in range(len(umi1)):\n",
    "        df1[i] = df1[i] / umi1[i]\n",
    "    return df1.T"
   ]
  },
  {
   "cell_type": "code",
   "execution_count": 6,
   "metadata": {},
   "outputs": [
    {
     "name": "stdout",
     "output_type": "stream",
     "text": [
      "250070.22420512204\n"
     ]
    },
    {
     "data": {
      "text/html": [
       "<div>\n",
       "<style scoped>\n",
       "    .dataframe tbody tr th:only-of-type {\n",
       "        vertical-align: middle;\n",
       "    }\n",
       "\n",
       "    .dataframe tbody tr th {\n",
       "        vertical-align: top;\n",
       "    }\n",
       "\n",
       "    .dataframe thead th {\n",
       "        text-align: right;\n",
       "    }\n",
       "</style>\n",
       "<table border=\"1\" class=\"dataframe\">\n",
       "  <thead>\n",
       "    <tr style=\"text-align: right;\">\n",
       "      <th></th>\n",
       "      <th>MT-ND1</th>\n",
       "      <th>MT-ND2</th>\n",
       "      <th>MT-CO1</th>\n",
       "      <th>MT-CO2</th>\n",
       "      <th>MT-ATP8</th>\n",
       "      <th>MT-ATP6</th>\n",
       "      <th>MT-CO3</th>\n",
       "      <th>MT-ND3</th>\n",
       "      <th>MT-ND4L</th>\n",
       "      <th>MT-ND4</th>\n",
       "      <th>MT-ND5</th>\n",
       "      <th>MT-ND6</th>\n",
       "      <th>MT-CYB</th>\n",
       "    </tr>\n",
       "  </thead>\n",
       "  <tbody>\n",
       "    <tr>\n",
       "      <th>0</th>\n",
       "      <td>2400.674152</td>\n",
       "      <td>600.168538</td>\n",
       "      <td>4601.292125</td>\n",
       "      <td>10602.977506</td>\n",
       "      <td>6801.910098</td>\n",
       "      <td>600.168538</td>\n",
       "      <td>7602.134816</td>\n",
       "      <td>1200.337076</td>\n",
       "      <td>4001.123587</td>\n",
       "      <td>1000.280897</td>\n",
       "      <td>1400.393256</td>\n",
       "      <td>1400.393256</td>\n",
       "      <td>4001.123587</td>\n",
       "    </tr>\n",
       "    <tr>\n",
       "      <th>1</th>\n",
       "      <td>837.405523</td>\n",
       "      <td>418.702761</td>\n",
       "      <td>2512.216568</td>\n",
       "      <td>3663.649162</td>\n",
       "      <td>1046.756903</td>\n",
       "      <td>209.351381</td>\n",
       "      <td>3558.973471</td>\n",
       "      <td>314.027071</td>\n",
       "      <td>1570.135355</td>\n",
       "      <td>732.729832</td>\n",
       "      <td>628.054142</td>\n",
       "      <td>104.675690</td>\n",
       "      <td>1779.486736</td>\n",
       "    </tr>\n",
       "    <tr>\n",
       "      <th>2</th>\n",
       "      <td>651.952167</td>\n",
       "      <td>186.272048</td>\n",
       "      <td>1490.176383</td>\n",
       "      <td>2794.080717</td>\n",
       "      <td>745.088191</td>\n",
       "      <td>93.136024</td>\n",
       "      <td>1769.584454</td>\n",
       "      <td>558.816143</td>\n",
       "      <td>1862.720478</td>\n",
       "      <td>279.408072</td>\n",
       "      <td>651.952167</td>\n",
       "      <td>0.000000</td>\n",
       "      <td>1397.040359</td>\n",
       "    </tr>\n",
       "    <tr>\n",
       "      <th>3</th>\n",
       "      <td>305.460372</td>\n",
       "      <td>203.640248</td>\n",
       "      <td>2545.503097</td>\n",
       "      <td>2341.862849</td>\n",
       "      <td>1425.481734</td>\n",
       "      <td>509.100619</td>\n",
       "      <td>2341.862849</td>\n",
       "      <td>203.640248</td>\n",
       "      <td>1323.661610</td>\n",
       "      <td>407.280495</td>\n",
       "      <td>610.920743</td>\n",
       "      <td>305.460372</td>\n",
       "      <td>1425.481734</td>\n",
       "    </tr>\n",
       "    <tr>\n",
       "      <th>4</th>\n",
       "      <td>369.561908</td>\n",
       "      <td>184.780954</td>\n",
       "      <td>369.561908</td>\n",
       "      <td>1601.434933</td>\n",
       "      <td>862.311118</td>\n",
       "      <td>61.593651</td>\n",
       "      <td>677.530164</td>\n",
       "      <td>246.374605</td>\n",
       "      <td>862.311118</td>\n",
       "      <td>0.000000</td>\n",
       "      <td>123.187303</td>\n",
       "      <td>0.000000</td>\n",
       "      <td>431.155559</td>\n",
       "    </tr>\n",
       "    <tr>\n",
       "      <th>...</th>\n",
       "      <td>...</td>\n",
       "      <td>...</td>\n",
       "      <td>...</td>\n",
       "      <td>...</td>\n",
       "      <td>...</td>\n",
       "      <td>...</td>\n",
       "      <td>...</td>\n",
       "      <td>...</td>\n",
       "      <td>...</td>\n",
       "      <td>...</td>\n",
       "      <td>...</td>\n",
       "      <td>...</td>\n",
       "      <td>...</td>\n",
       "    </tr>\n",
       "    <tr>\n",
       "      <th>2883</th>\n",
       "      <td>323.088145</td>\n",
       "      <td>0.000000</td>\n",
       "      <td>1615.440725</td>\n",
       "      <td>1211.580544</td>\n",
       "      <td>888.492399</td>\n",
       "      <td>242.316109</td>\n",
       "      <td>888.492399</td>\n",
       "      <td>161.544072</td>\n",
       "      <td>403.860181</td>\n",
       "      <td>161.544072</td>\n",
       "      <td>242.316109</td>\n",
       "      <td>0.000000</td>\n",
       "      <td>323.088145</td>\n",
       "    </tr>\n",
       "    <tr>\n",
       "      <th>2884</th>\n",
       "      <td>171.046665</td>\n",
       "      <td>427.616662</td>\n",
       "      <td>1111.803322</td>\n",
       "      <td>2394.653310</td>\n",
       "      <td>1026.279990</td>\n",
       "      <td>171.046665</td>\n",
       "      <td>1539.419985</td>\n",
       "      <td>513.139995</td>\n",
       "      <td>1197.326655</td>\n",
       "      <td>171.046665</td>\n",
       "      <td>171.046665</td>\n",
       "      <td>85.523332</td>\n",
       "      <td>684.186660</td>\n",
       "    </tr>\n",
       "    <tr>\n",
       "      <th>2885</th>\n",
       "      <td>278.103007</td>\n",
       "      <td>0.000000</td>\n",
       "      <td>556.206015</td>\n",
       "      <td>1223.653232</td>\n",
       "      <td>723.067819</td>\n",
       "      <td>55.620601</td>\n",
       "      <td>778.688421</td>\n",
       "      <td>222.482406</td>\n",
       "      <td>333.723609</td>\n",
       "      <td>389.344210</td>\n",
       "      <td>278.103007</td>\n",
       "      <td>55.620601</td>\n",
       "      <td>1112.412029</td>\n",
       "    </tr>\n",
       "    <tr>\n",
       "      <th>2886</th>\n",
       "      <td>282.671693</td>\n",
       "      <td>565.343386</td>\n",
       "      <td>1696.030157</td>\n",
       "      <td>2120.037696</td>\n",
       "      <td>895.127027</td>\n",
       "      <td>94.223898</td>\n",
       "      <td>1884.477952</td>\n",
       "      <td>235.559744</td>\n",
       "      <td>942.238976</td>\n",
       "      <td>376.895590</td>\n",
       "      <td>329.783642</td>\n",
       "      <td>0.000000</td>\n",
       "      <td>1743.142105</td>\n",
       "    </tr>\n",
       "    <tr>\n",
       "      <th>2887</th>\n",
       "      <td>412.365505</td>\n",
       "      <td>58.909358</td>\n",
       "      <td>530.184221</td>\n",
       "      <td>1413.824589</td>\n",
       "      <td>648.002937</td>\n",
       "      <td>0.000000</td>\n",
       "      <td>1296.005873</td>\n",
       "      <td>58.909358</td>\n",
       "      <td>412.365505</td>\n",
       "      <td>117.818716</td>\n",
       "      <td>412.365505</td>\n",
       "      <td>58.909358</td>\n",
       "      <td>1001.459084</td>\n",
       "    </tr>\n",
       "  </tbody>\n",
       "</table>\n",
       "<p>2888 rows × 13 columns</p>\n",
       "</div>"
      ],
      "text/plain": [
       "           MT-ND1      MT-ND2       MT-CO1        MT-CO2      MT-ATP8  \\\n",
       "0     2400.674152  600.168538  4601.292125  10602.977506  6801.910098   \n",
       "1      837.405523  418.702761  2512.216568   3663.649162  1046.756903   \n",
       "2      651.952167  186.272048  1490.176383   2794.080717   745.088191   \n",
       "3      305.460372  203.640248  2545.503097   2341.862849  1425.481734   \n",
       "4      369.561908  184.780954   369.561908   1601.434933   862.311118   \n",
       "...           ...         ...          ...           ...          ...   \n",
       "2883   323.088145    0.000000  1615.440725   1211.580544   888.492399   \n",
       "2884   171.046665  427.616662  1111.803322   2394.653310  1026.279990   \n",
       "2885   278.103007    0.000000   556.206015   1223.653232   723.067819   \n",
       "2886   282.671693  565.343386  1696.030157   2120.037696   895.127027   \n",
       "2887   412.365505   58.909358   530.184221   1413.824589   648.002937   \n",
       "\n",
       "         MT-ATP6       MT-CO3       MT-ND3      MT-ND4L       MT-ND4  \\\n",
       "0     600.168538  7602.134816  1200.337076  4001.123587  1000.280897   \n",
       "1     209.351381  3558.973471   314.027071  1570.135355   732.729832   \n",
       "2      93.136024  1769.584454   558.816143  1862.720478   279.408072   \n",
       "3     509.100619  2341.862849   203.640248  1323.661610   407.280495   \n",
       "4      61.593651   677.530164   246.374605   862.311118     0.000000   \n",
       "...          ...          ...          ...          ...          ...   \n",
       "2883  242.316109   888.492399   161.544072   403.860181   161.544072   \n",
       "2884  171.046665  1539.419985   513.139995  1197.326655   171.046665   \n",
       "2885   55.620601   778.688421   222.482406   333.723609   389.344210   \n",
       "2886   94.223898  1884.477952   235.559744   942.238976   376.895590   \n",
       "2887    0.000000  1296.005873    58.909358   412.365505   117.818716   \n",
       "\n",
       "           MT-ND5       MT-ND6       MT-CYB  \n",
       "0     1400.393256  1400.393256  4001.123587  \n",
       "1      628.054142   104.675690  1779.486736  \n",
       "2      651.952167     0.000000  1397.040359  \n",
       "3      610.920743   305.460372  1425.481734  \n",
       "4      123.187303     0.000000   431.155559  \n",
       "...           ...          ...          ...  \n",
       "2883   242.316109     0.000000   323.088145  \n",
       "2884   171.046665    85.523332   684.186660  \n",
       "2885   278.103007    55.620601  1112.412029  \n",
       "2886   329.783642     0.000000  1743.142105  \n",
       "2887   412.365505    58.909358  1001.459084  \n",
       "\n",
       "[2888 rows x 13 columns]"
      ]
     },
     "execution_count": 6,
     "metadata": {},
     "output_type": "execute_result"
    }
   ],
   "source": [
    "normiz(df2,umi)"
   ]
  },
  {
   "cell_type": "markdown",
   "metadata": {},
   "source": [
    "### Function of plotting the mean-var scatter"
   ]
  },
  {
   "cell_type": "code",
   "execution_count": 7,
   "metadata": {},
   "outputs": [],
   "source": [
    "def meanvarplot(seq1):\n",
    "    seq = seq1.T\n",
    "    list_mean = [np.mean(seq.iloc[i]) for i in range(13)]\n",
    "    list_var = [np.var(seq.iloc[i]) for i in range(13)]\n",
    "    x = np.linspace(0,min(max(list_mean),max(list_var)),num = 1000)\n",
    "    plt.plot(x,x)\n",
    "    plt.scatter(list_mean, list_var)\n",
    "    plt.show()\n",
    "    print(list_var)\n",
    "    print(list_mean)"
   ]
  },
  {
   "cell_type": "code",
   "execution_count": 8,
   "metadata": {},
   "outputs": [
    {
     "name": "stdout",
     "output_type": "stream",
     "text": [
      "250070.22420512204\n"
     ]
    },
    {
     "data": {
      "image/png": "[encoded data removed]",
      "text/plain": [
       "<Figure size 640x480 with 1 Axes>"
      ]
     },
     "metadata": {},
     "output_type": "display_data"
    },
    {
     "name": "stdout",
     "output_type": "stream",
     "text": [
      "[197516.81753114882, 82218.14966938939, 1221408.3269125617, 2560068.8128141835, 1152600.1028193296, 20077.98207445609, 1732083.4918172525, 89939.2350333792, 471527.07319675357, 42848.96457824826, 81226.92123084699, 11699.042495722777, 977378.9237283919]\n",
      "[488.7334062974924, 289.5180470360056, 1244.2397266879382, 2119.8521536797325, 1202.526820278621, 132.84329662468247, 1665.6717197338446, 349.19131182141916, 814.0877795718288, 208.09735318701775, 317.4216246808961, 65.28457339684515, 1302.940113074823]\n"
     ]
    }
   ],
   "source": [
    "meanvarplot(normiz(df2,umi))"
   ]
  },
  {
   "cell_type": "code",
   "execution_count": 9,
   "metadata": {},
   "outputs": [],
   "source": [
    "# y = [39405502178.874176, 14270050297.713615, 215355647899.84335, 539331414712.78564, 239734538779.75415, 2747234578.422771, 394348531643.9634, 14472016525.325699, 91730867514.77098, 5754079977.802822, 12961089066.25124, 1596013212.4993975, 204012584253.58527]\n",
    "# x = [47630.013913849674, 29529.369527593317, 126661.54897436462, 215709.66710226206, 118022.10441414938, 12465.609550242913, 165462.9110493637, 34138.95923555267, 82932.81850558078, 20593.452077464488, 30539.072451652246, 6644.006650370145, 129042.84368275816]\n",
    "# plt.scatter(np.log(x),np.log(y))"
   ]
  },
  {
   "cell_type": "code",
   "execution_count": 10,
   "metadata": {},
   "outputs": [
    {
     "name": "stdout",
     "output_type": "stream",
     "text": [
      "250070.22420512204\n"
     ]
    },
    {
     "data": {
      "text/plain": [
       "<matplotlib.collections.PathCollection at 0x2729a23edd0>"
      ]
     },
     "execution_count": 10,
     "metadata": {},
     "output_type": "execute_result"
    },
    {
     "data": {
      "image/png": "[encoded data removed]",
      "text/plain": [
       "<Figure size 640x480 with 1 Axes>"
      ]
     },
     "metadata": {},
     "output_type": "display_data"
    }
   ],
   "source": [
    "df3 = normiz(df2,umi)\n",
    "df4 = df3.T\n",
    "tri_mean = [np.mean(df4.iloc[i]) for i in range(13)]\n",
    "tri_var = [np.var(df4.iloc[i]) for i in range(13)]\n",
    "x = tri_mean\n",
    "y = tri_var\n",
    "plt.scatter(np.log(x),np.log(y))"
   ]
  },
  {
   "cell_type": "code",
   "execution_count": 11,
   "metadata": {},
   "outputs": [],
   "source": [
    "def linfitplot(x,y):\n",
    "    linear_model = pm.Model()\n",
    "# Define the PyMC model\n",
    "    with linear_model:\n",
    "        # Priors for unknown parameters\n",
    "        a_prior = pm.Normal('a', mu=0, sigma=10)\n",
    "        b_prior = pm.Normal('b', mu=0, sigma=10)\n",
    "        sigma_prior = pm.HalfNormal('sigma', sigma=2)\n",
    "\n",
    "        # Expected value of outcome\n",
    "        mu = a_prior * x + b_prior\n",
    "\n",
    "        # Likelihood (sampling distribution) of observations\n",
    "        vals = pm.Normal('vals', mu=mu, sigma=sigma_prior, observed=y)\n",
    "        \n",
    "        step = pm.Slice()\n",
    "        tracel = pm.sample(1000, step=step, return_inferencedata=True)\n",
    "        ppc_samples = pm.sample_posterior_predictive(tracel)\n",
    "    \n",
    "    ppc_vals = np.asarray(ppc_samples[\"posterior_predictive\"].vals)\n",
    "    \n",
    "    for y_i in ppc_vals[0]:\n",
    "        plt.plot(x,y_i,alpha=0.1,color=\"pink\")\n",
    "    \n",
    "    plt.plot(x,y,\"ko\",label=\"Data\")\n",
    "    plt.legend()\n",
    "    plt.xlabel(\"x\")\n",
    "    plt.xlabel(\"y\")"
   ]
  },
  {
   "cell_type": "code",
   "execution_count": 12,
   "metadata": {},
   "outputs": [
    {
     "name": "stderr",
     "output_type": "stream",
     "text": [
      "Multiprocess sampling (4 chains in 4 jobs)\n",
      "CompoundStep\n",
      ">Slice: [a]\n",
      ">Slice: [b]\n",
      ">Slice: [sigma]\n"
     ]
    },
    {
     "data": {
      "application/vnd.jupyter.widget-view+json": {
       "model_id": "ee74aed24eda4eac9e10631ff6ce1b96",
       "version_major": 2,
       "version_minor": 0
      },
      "text/plain": [
       "Output()"
      ]
     },
     "metadata": {},
     "output_type": "display_data"
    }
   ],
   "source": [
    "linfitplot(np.log(x),np.log(y))\n"
   ]
  },
  {
   "cell_type": "markdown",
   "metadata": {},
   "source": [
    "log(mean) = a * log(varience) + b + Error \\\n",
    "?\n"
   ]
  },
  {
   "cell_type": "markdown",
   "metadata": {},
   "source": [
    "## New scaling "
   ]
  },
  {
   "cell_type": "code",
   "execution_count": null,
   "metadata": {},
   "outputs": [
    {
     "data": {
      "text/html": [
       "<div>\n",
       "<style scoped>\n",
       "    .dataframe tbody tr th:only-of-type {\n",
       "        vertical-align: middle;\n",
       "    }\n",
       "\n",
       "    .dataframe tbody tr th {\n",
       "        vertical-align: top;\n",
       "    }\n",
       "\n",
       "    .dataframe thead th {\n",
       "        text-align: right;\n",
       "    }\n",
       "</style>\n",
       "<table border=\"1\" class=\"dataframe\">\n",
       "  <thead>\n",
       "    <tr style=\"text-align: right;\">\n",
       "      <th></th>\n",
       "      <th>MT-ND1</th>\n",
       "      <th>MT-ND2</th>\n",
       "      <th>MT-CO1</th>\n",
       "      <th>MT-CO2</th>\n",
       "      <th>MT-ATP8</th>\n",
       "      <th>MT-ATP6</th>\n",
       "      <th>MT-CO3</th>\n",
       "      <th>MT-ND3</th>\n",
       "      <th>MT-ND4L</th>\n",
       "      <th>MT-ND4</th>\n",
       "      <th>MT-ND5</th>\n",
       "      <th>MT-ND6</th>\n",
       "      <th>MT-CYB</th>\n",
       "    </tr>\n",
       "  </thead>\n",
       "  <tbody>\n",
       "    <tr>\n",
       "      <th>0</th>\n",
       "      <td>12</td>\n",
       "      <td>3</td>\n",
       "      <td>23</td>\n",
       "      <td>53</td>\n",
       "      <td>34</td>\n",
       "      <td>3</td>\n",
       "      <td>38</td>\n",
       "      <td>6</td>\n",
       "      <td>20</td>\n",
       "      <td>5</td>\n",
       "      <td>7</td>\n",
       "      <td>7</td>\n",
       "      <td>20</td>\n",
       "    </tr>\n",
       "    <tr>\n",
       "      <th>1</th>\n",
       "      <td>8</td>\n",
       "      <td>4</td>\n",
       "      <td>24</td>\n",
       "      <td>35</td>\n",
       "      <td>10</td>\n",
       "      <td>2</td>\n",
       "      <td>34</td>\n",
       "      <td>3</td>\n",
       "      <td>15</td>\n",
       "      <td>7</td>\n",
       "      <td>6</td>\n",
       "      <td>1</td>\n",
       "      <td>17</td>\n",
       "    </tr>\n",
       "    <tr>\n",
       "      <th>2</th>\n",
       "      <td>7</td>\n",
       "      <td>2</td>\n",
       "      <td>16</td>\n",
       "      <td>30</td>\n",
       "      <td>8</td>\n",
       "      <td>1</td>\n",
       "      <td>19</td>\n",
       "      <td>6</td>\n",
       "      <td>20</td>\n",
       "      <td>3</td>\n",
       "      <td>7</td>\n",
       "      <td>0</td>\n",
       "      <td>15</td>\n",
       "    </tr>\n",
       "    <tr>\n",
       "      <th>3</th>\n",
       "      <td>3</td>\n",
       "      <td>2</td>\n",
       "      <td>25</td>\n",
       "      <td>23</td>\n",
       "      <td>14</td>\n",
       "      <td>5</td>\n",
       "      <td>23</td>\n",
       "      <td>2</td>\n",
       "      <td>13</td>\n",
       "      <td>4</td>\n",
       "      <td>6</td>\n",
       "      <td>3</td>\n",
       "      <td>14</td>\n",
       "    </tr>\n",
       "    <tr>\n",
       "      <th>4</th>\n",
       "      <td>6</td>\n",
       "      <td>3</td>\n",
       "      <td>6</td>\n",
       "      <td>26</td>\n",
       "      <td>14</td>\n",
       "      <td>1</td>\n",
       "      <td>11</td>\n",
       "      <td>4</td>\n",
       "      <td>14</td>\n",
       "      <td>0</td>\n",
       "      <td>2</td>\n",
       "      <td>0</td>\n",
       "      <td>7</td>\n",
       "    </tr>\n",
       "    <tr>\n",
       "      <th>...</th>\n",
       "      <td>...</td>\n",
       "      <td>...</td>\n",
       "      <td>...</td>\n",
       "      <td>...</td>\n",
       "      <td>...</td>\n",
       "      <td>...</td>\n",
       "      <td>...</td>\n",
       "      <td>...</td>\n",
       "      <td>...</td>\n",
       "      <td>...</td>\n",
       "      <td>...</td>\n",
       "      <td>...</td>\n",
       "      <td>...</td>\n",
       "    </tr>\n",
       "    <tr>\n",
       "      <th>2883</th>\n",
       "      <td>4</td>\n",
       "      <td>0</td>\n",
       "      <td>20</td>\n",
       "      <td>15</td>\n",
       "      <td>11</td>\n",
       "      <td>3</td>\n",
       "      <td>11</td>\n",
       "      <td>2</td>\n",
       "      <td>5</td>\n",
       "      <td>2</td>\n",
       "      <td>3</td>\n",
       "      <td>0</td>\n",
       "      <td>4</td>\n",
       "    </tr>\n",
       "    <tr>\n",
       "      <th>2884</th>\n",
       "      <td>2</td>\n",
       "      <td>5</td>\n",
       "      <td>13</td>\n",
       "      <td>28</td>\n",
       "      <td>12</td>\n",
       "      <td>2</td>\n",
       "      <td>18</td>\n",
       "      <td>6</td>\n",
       "      <td>14</td>\n",
       "      <td>2</td>\n",
       "      <td>2</td>\n",
       "      <td>1</td>\n",
       "      <td>8</td>\n",
       "    </tr>\n",
       "    <tr>\n",
       "      <th>2885</th>\n",
       "      <td>5</td>\n",
       "      <td>0</td>\n",
       "      <td>10</td>\n",
       "      <td>22</td>\n",
       "      <td>13</td>\n",
       "      <td>1</td>\n",
       "      <td>14</td>\n",
       "      <td>4</td>\n",
       "      <td>6</td>\n",
       "      <td>7</td>\n",
       "      <td>5</td>\n",
       "      <td>1</td>\n",
       "      <td>20</td>\n",
       "    </tr>\n",
       "    <tr>\n",
       "      <th>2886</th>\n",
       "      <td>6</td>\n",
       "      <td>12</td>\n",
       "      <td>36</td>\n",
       "      <td>45</td>\n",
       "      <td>19</td>\n",
       "      <td>2</td>\n",
       "      <td>40</td>\n",
       "      <td>5</td>\n",
       "      <td>20</td>\n",
       "      <td>8</td>\n",
       "      <td>7</td>\n",
       "      <td>0</td>\n",
       "      <td>37</td>\n",
       "    </tr>\n",
       "    <tr>\n",
       "      <th>2887</th>\n",
       "      <td>7</td>\n",
       "      <td>1</td>\n",
       "      <td>9</td>\n",
       "      <td>24</td>\n",
       "      <td>11</td>\n",
       "      <td>0</td>\n",
       "      <td>22</td>\n",
       "      <td>1</td>\n",
       "      <td>7</td>\n",
       "      <td>2</td>\n",
       "      <td>7</td>\n",
       "      <td>1</td>\n",
       "      <td>17</td>\n",
       "    </tr>\n",
       "  </tbody>\n",
       "</table>\n",
       "<p>2888 rows × 13 columns</p>\n",
       "</div>"
      ],
      "text/plain": [
       "      MT-ND1  MT-ND2  MT-CO1  MT-CO2  MT-ATP8  MT-ATP6  MT-CO3  MT-ND3  \\\n",
       "0         12       3      23      53       34        3      38       6   \n",
       "1          8       4      24      35       10        2      34       3   \n",
       "2          7       2      16      30        8        1      19       6   \n",
       "3          3       2      25      23       14        5      23       2   \n",
       "4          6       3       6      26       14        1      11       4   \n",
       "...      ...     ...     ...     ...      ...      ...     ...     ...   \n",
       "2883       4       0      20      15       11        3      11       2   \n",
       "2884       2       5      13      28       12        2      18       6   \n",
       "2885       5       0      10      22       13        1      14       4   \n",
       "2886       6      12      36      45       19        2      40       5   \n",
       "2887       7       1       9      24       11        0      22       1   \n",
       "\n",
       "      MT-ND4L  MT-ND4  MT-ND5  MT-ND6  MT-CYB  \n",
       "0          20       5       7       7      20  \n",
       "1          15       7       6       1      17  \n",
       "2          20       3       7       0      15  \n",
       "3          13       4       6       3      14  \n",
       "4          14       0       2       0       7  \n",
       "...       ...     ...     ...     ...     ...  \n",
       "2883        5       2       3       0       4  \n",
       "2884       14       2       2       1       8  \n",
       "2885        6       7       5       1      20  \n",
       "2886       20       8       7       0      37  \n",
       "2887        7       2       7       1      17  \n",
       "\n",
       "[2888 rows x 13 columns]"
      ]
     },
     "execution_count": 14,
     "metadata": {},
     "output_type": "execute_result"
    }
   ],
   "source": [
    "df2"
   ]
  },
  {
   "cell_type": "code",
   "execution_count": null,
   "metadata": {},
   "outputs": [],
   "source": [
    "def normiz_2(df,s_n = 1000):\n",
    "    df1 = df\n",
    "    listfinal = [sum(df.iloc[i]) for i in range(len(df))]\n",
    "    for i in range(len(df)):\n",
    "        df1.iloc[i] = df1.iloc[i]/listfinal[i] * s_n\n",
    "    return df1"
   ]
  },
  {
   "cell_type": "code",
   "execution_count": null,
   "metadata": {},
   "outputs": [
    {
     "name": "stderr",
     "output_type": "stream",
     "text": [
      "/var/folders/c1/dwx649nn3230kr15mzg_vhvc0000gn/T/ipykernel_19264/3247431560.py:5: FutureWarning: Setting an item of incompatible dtype is deprecated and will raise an error in a future version of pandas. Value '51.948051948051955' has dtype incompatible with int64, please explicitly cast to a compatible dtype first.\n",
      "  df1.iloc[i] = df1.iloc[i]/listfinal[i] * s_n\n",
      "/var/folders/c1/dwx649nn3230kr15mzg_vhvc0000gn/T/ipykernel_19264/3247431560.py:5: FutureWarning: Setting an item of incompatible dtype is deprecated and will raise an error in a future version of pandas. Value '12.987012987012989' has dtype incompatible with int64, please explicitly cast to a compatible dtype first.\n",
      "  df1.iloc[i] = df1.iloc[i]/listfinal[i] * s_n\n",
      "/var/folders/c1/dwx649nn3230kr15mzg_vhvc0000gn/T/ipykernel_19264/3247431560.py:5: FutureWarning: Setting an item of incompatible dtype is deprecated and will raise an error in a future version of pandas. Value '99.56709956709956' has dtype incompatible with int64, please explicitly cast to a compatible dtype first.\n",
      "  df1.iloc[i] = df1.iloc[i]/listfinal[i] * s_n\n",
      "/var/folders/c1/dwx649nn3230kr15mzg_vhvc0000gn/T/ipykernel_19264/3247431560.py:5: FutureWarning: Setting an item of incompatible dtype is deprecated and will raise an error in a future version of pandas. Value '229.43722943722943' has dtype incompatible with int64, please explicitly cast to a compatible dtype first.\n",
      "  df1.iloc[i] = df1.iloc[i]/listfinal[i] * s_n\n",
      "/var/folders/c1/dwx649nn3230kr15mzg_vhvc0000gn/T/ipykernel_19264/3247431560.py:5: FutureWarning: Setting an item of incompatible dtype is deprecated and will raise an error in a future version of pandas. Value '147.1861471861472' has dtype incompatible with int64, please explicitly cast to a compatible dtype first.\n",
      "  df1.iloc[i] = df1.iloc[i]/listfinal[i] * s_n\n",
      "/var/folders/c1/dwx649nn3230kr15mzg_vhvc0000gn/T/ipykernel_19264/3247431560.py:5: FutureWarning: Setting an item of incompatible dtype is deprecated and will raise an error in a future version of pandas. Value '12.987012987012989' has dtype incompatible with int64, please explicitly cast to a compatible dtype first.\n",
      "  df1.iloc[i] = df1.iloc[i]/listfinal[i] * s_n\n",
      "/var/folders/c1/dwx649nn3230kr15mzg_vhvc0000gn/T/ipykernel_19264/3247431560.py:5: FutureWarning: Setting an item of incompatible dtype is deprecated and will raise an error in a future version of pandas. Value '164.5021645021645' has dtype incompatible with int64, please explicitly cast to a compatible dtype first.\n",
      "  df1.iloc[i] = df1.iloc[i]/listfinal[i] * s_n\n",
      "/var/folders/c1/dwx649nn3230kr15mzg_vhvc0000gn/T/ipykernel_19264/3247431560.py:5: FutureWarning: Setting an item of incompatible dtype is deprecated and will raise an error in a future version of pandas. Value '25.974025974025977' has dtype incompatible with int64, please explicitly cast to a compatible dtype first.\n",
      "  df1.iloc[i] = df1.iloc[i]/listfinal[i] * s_n\n",
      "/var/folders/c1/dwx649nn3230kr15mzg_vhvc0000gn/T/ipykernel_19264/3247431560.py:5: FutureWarning: Setting an item of incompatible dtype is deprecated and will raise an error in a future version of pandas. Value '86.58008658008657' has dtype incompatible with int64, please explicitly cast to a compatible dtype first.\n",
      "  df1.iloc[i] = df1.iloc[i]/listfinal[i] * s_n\n",
      "/var/folders/c1/dwx649nn3230kr15mzg_vhvc0000gn/T/ipykernel_19264/3247431560.py:5: FutureWarning: Setting an item of incompatible dtype is deprecated and will raise an error in a future version of pandas. Value '21.645021645021643' has dtype incompatible with int64, please explicitly cast to a compatible dtype first.\n",
      "  df1.iloc[i] = df1.iloc[i]/listfinal[i] * s_n\n",
      "/var/folders/c1/dwx649nn3230kr15mzg_vhvc0000gn/T/ipykernel_19264/3247431560.py:5: FutureWarning: Setting an item of incompatible dtype is deprecated and will raise an error in a future version of pandas. Value '30.303030303030305' has dtype incompatible with int64, please explicitly cast to a compatible dtype first.\n",
      "  df1.iloc[i] = df1.iloc[i]/listfinal[i] * s_n\n",
      "/var/folders/c1/dwx649nn3230kr15mzg_vhvc0000gn/T/ipykernel_19264/3247431560.py:5: FutureWarning: Setting an item of incompatible dtype is deprecated and will raise an error in a future version of pandas. Value '30.303030303030305' has dtype incompatible with int64, please explicitly cast to a compatible dtype first.\n",
      "  df1.iloc[i] = df1.iloc[i]/listfinal[i] * s_n\n",
      "/var/folders/c1/dwx649nn3230kr15mzg_vhvc0000gn/T/ipykernel_19264/3247431560.py:5: FutureWarning: Setting an item of incompatible dtype is deprecated and will raise an error in a future version of pandas. Value '86.58008658008657' has dtype incompatible with int64, please explicitly cast to a compatible dtype first.\n",
      "  df1.iloc[i] = df1.iloc[i]/listfinal[i] * s_n\n"
     ]
    },
    {
     "data": {
      "text/html": [
       "<div>\n",
       "<style scoped>\n",
       "    .dataframe tbody tr th:only-of-type {\n",
       "        vertical-align: middle;\n",
       "    }\n",
       "\n",
       "    .dataframe tbody tr th {\n",
       "        vertical-align: top;\n",
       "    }\n",
       "\n",
       "    .dataframe thead th {\n",
       "        text-align: right;\n",
       "    }\n",
       "</style>\n",
       "<table border=\"1\" class=\"dataframe\">\n",
       "  <thead>\n",
       "    <tr style=\"text-align: right;\">\n",
       "      <th></th>\n",
       "      <th>MT-ND1</th>\n",
       "      <th>MT-ND2</th>\n",
       "      <th>MT-CO1</th>\n",
       "      <th>MT-CO2</th>\n",
       "      <th>MT-ATP8</th>\n",
       "      <th>MT-ATP6</th>\n",
       "      <th>MT-CO3</th>\n",
       "      <th>MT-ND3</th>\n",
       "      <th>MT-ND4L</th>\n",
       "      <th>MT-ND4</th>\n",
       "      <th>MT-ND5</th>\n",
       "      <th>MT-ND6</th>\n",
       "      <th>MT-CYB</th>\n",
       "    </tr>\n",
       "  </thead>\n",
       "  <tbody>\n",
       "    <tr>\n",
       "      <th>0</th>\n",
       "      <td>51.948052</td>\n",
       "      <td>12.987013</td>\n",
       "      <td>99.567100</td>\n",
       "      <td>229.437229</td>\n",
       "      <td>147.186147</td>\n",
       "      <td>12.987013</td>\n",
       "      <td>164.502165</td>\n",
       "      <td>25.974026</td>\n",
       "      <td>86.580087</td>\n",
       "      <td>21.645022</td>\n",
       "      <td>30.303030</td>\n",
       "      <td>30.303030</td>\n",
       "      <td>86.580087</td>\n",
       "    </tr>\n",
       "    <tr>\n",
       "      <th>1</th>\n",
       "      <td>48.192771</td>\n",
       "      <td>24.096386</td>\n",
       "      <td>144.578313</td>\n",
       "      <td>210.843373</td>\n",
       "      <td>60.240964</td>\n",
       "      <td>12.048193</td>\n",
       "      <td>204.819277</td>\n",
       "      <td>18.072289</td>\n",
       "      <td>90.361446</td>\n",
       "      <td>42.168675</td>\n",
       "      <td>36.144578</td>\n",
       "      <td>6.024096</td>\n",
       "      <td>102.409639</td>\n",
       "    </tr>\n",
       "    <tr>\n",
       "      <th>2</th>\n",
       "      <td>52.238806</td>\n",
       "      <td>14.925373</td>\n",
       "      <td>119.402985</td>\n",
       "      <td>223.880597</td>\n",
       "      <td>59.701493</td>\n",
       "      <td>7.462687</td>\n",
       "      <td>141.791045</td>\n",
       "      <td>44.776119</td>\n",
       "      <td>149.253731</td>\n",
       "      <td>22.388060</td>\n",
       "      <td>52.238806</td>\n",
       "      <td>0.000000</td>\n",
       "      <td>111.940299</td>\n",
       "    </tr>\n",
       "    <tr>\n",
       "      <th>3</th>\n",
       "      <td>21.897810</td>\n",
       "      <td>14.598540</td>\n",
       "      <td>182.481752</td>\n",
       "      <td>167.883212</td>\n",
       "      <td>102.189781</td>\n",
       "      <td>36.496350</td>\n",
       "      <td>167.883212</td>\n",
       "      <td>14.598540</td>\n",
       "      <td>94.890511</td>\n",
       "      <td>29.197080</td>\n",
       "      <td>43.795620</td>\n",
       "      <td>21.897810</td>\n",
       "      <td>102.189781</td>\n",
       "    </tr>\n",
       "    <tr>\n",
       "      <th>4</th>\n",
       "      <td>63.829787</td>\n",
       "      <td>31.914894</td>\n",
       "      <td>63.829787</td>\n",
       "      <td>276.595745</td>\n",
       "      <td>148.936170</td>\n",
       "      <td>10.638298</td>\n",
       "      <td>117.021277</td>\n",
       "      <td>42.553191</td>\n",
       "      <td>148.936170</td>\n",
       "      <td>0.000000</td>\n",
       "      <td>21.276596</td>\n",
       "      <td>0.000000</td>\n",
       "      <td>74.468085</td>\n",
       "    </tr>\n",
       "    <tr>\n",
       "      <th>...</th>\n",
       "      <td>...</td>\n",
       "      <td>...</td>\n",
       "      <td>...</td>\n",
       "      <td>...</td>\n",
       "      <td>...</td>\n",
       "      <td>...</td>\n",
       "      <td>...</td>\n",
       "      <td>...</td>\n",
       "      <td>...</td>\n",
       "      <td>...</td>\n",
       "      <td>...</td>\n",
       "      <td>...</td>\n",
       "      <td>...</td>\n",
       "    </tr>\n",
       "    <tr>\n",
       "      <th>2883</th>\n",
       "      <td>50.000000</td>\n",
       "      <td>0.000000</td>\n",
       "      <td>250.000000</td>\n",
       "      <td>187.500000</td>\n",
       "      <td>137.500000</td>\n",
       "      <td>37.500000</td>\n",
       "      <td>137.500000</td>\n",
       "      <td>25.000000</td>\n",
       "      <td>62.500000</td>\n",
       "      <td>25.000000</td>\n",
       "      <td>37.500000</td>\n",
       "      <td>0.000000</td>\n",
       "      <td>50.000000</td>\n",
       "    </tr>\n",
       "    <tr>\n",
       "      <th>2884</th>\n",
       "      <td>17.699115</td>\n",
       "      <td>44.247788</td>\n",
       "      <td>115.044248</td>\n",
       "      <td>247.787611</td>\n",
       "      <td>106.194690</td>\n",
       "      <td>17.699115</td>\n",
       "      <td>159.292035</td>\n",
       "      <td>53.097345</td>\n",
       "      <td>123.893805</td>\n",
       "      <td>17.699115</td>\n",
       "      <td>17.699115</td>\n",
       "      <td>8.849558</td>\n",
       "      <td>70.796460</td>\n",
       "    </tr>\n",
       "    <tr>\n",
       "      <th>2885</th>\n",
       "      <td>46.296296</td>\n",
       "      <td>0.000000</td>\n",
       "      <td>92.592593</td>\n",
       "      <td>203.703704</td>\n",
       "      <td>120.370370</td>\n",
       "      <td>9.259259</td>\n",
       "      <td>129.629630</td>\n",
       "      <td>37.037037</td>\n",
       "      <td>55.555556</td>\n",
       "      <td>64.814815</td>\n",
       "      <td>46.296296</td>\n",
       "      <td>9.259259</td>\n",
       "      <td>185.185185</td>\n",
       "    </tr>\n",
       "    <tr>\n",
       "      <th>2886</th>\n",
       "      <td>25.316456</td>\n",
       "      <td>50.632911</td>\n",
       "      <td>151.898734</td>\n",
       "      <td>189.873418</td>\n",
       "      <td>80.168776</td>\n",
       "      <td>8.438819</td>\n",
       "      <td>168.776371</td>\n",
       "      <td>21.097046</td>\n",
       "      <td>84.388186</td>\n",
       "      <td>33.755274</td>\n",
       "      <td>29.535865</td>\n",
       "      <td>0.000000</td>\n",
       "      <td>156.118143</td>\n",
       "    </tr>\n",
       "    <tr>\n",
       "      <th>2887</th>\n",
       "      <td>64.220183</td>\n",
       "      <td>9.174312</td>\n",
       "      <td>82.568807</td>\n",
       "      <td>220.183486</td>\n",
       "      <td>100.917431</td>\n",
       "      <td>0.000000</td>\n",
       "      <td>201.834862</td>\n",
       "      <td>9.174312</td>\n",
       "      <td>64.220183</td>\n",
       "      <td>18.348624</td>\n",
       "      <td>64.220183</td>\n",
       "      <td>9.174312</td>\n",
       "      <td>155.963303</td>\n",
       "    </tr>\n",
       "  </tbody>\n",
       "</table>\n",
       "<p>2888 rows × 13 columns</p>\n",
       "</div>"
      ],
      "text/plain": [
       "         MT-ND1     MT-ND2      MT-CO1      MT-CO2     MT-ATP8    MT-ATP6  \\\n",
       "0     51.948052  12.987013   99.567100  229.437229  147.186147  12.987013   \n",
       "1     48.192771  24.096386  144.578313  210.843373   60.240964  12.048193   \n",
       "2     52.238806  14.925373  119.402985  223.880597   59.701493   7.462687   \n",
       "3     21.897810  14.598540  182.481752  167.883212  102.189781  36.496350   \n",
       "4     63.829787  31.914894   63.829787  276.595745  148.936170  10.638298   \n",
       "...         ...        ...         ...         ...         ...        ...   \n",
       "2883  50.000000   0.000000  250.000000  187.500000  137.500000  37.500000   \n",
       "2884  17.699115  44.247788  115.044248  247.787611  106.194690  17.699115   \n",
       "2885  46.296296   0.000000   92.592593  203.703704  120.370370   9.259259   \n",
       "2886  25.316456  50.632911  151.898734  189.873418   80.168776   8.438819   \n",
       "2887  64.220183   9.174312   82.568807  220.183486  100.917431   0.000000   \n",
       "\n",
       "          MT-CO3     MT-ND3     MT-ND4L     MT-ND4     MT-ND5     MT-ND6  \\\n",
       "0     164.502165  25.974026   86.580087  21.645022  30.303030  30.303030   \n",
       "1     204.819277  18.072289   90.361446  42.168675  36.144578   6.024096   \n",
       "2     141.791045  44.776119  149.253731  22.388060  52.238806   0.000000   \n",
       "3     167.883212  14.598540   94.890511  29.197080  43.795620  21.897810   \n",
       "4     117.021277  42.553191  148.936170   0.000000  21.276596   0.000000   \n",
       "...          ...        ...         ...        ...        ...        ...   \n",
       "2883  137.500000  25.000000   62.500000  25.000000  37.500000   0.000000   \n",
       "2884  159.292035  53.097345  123.893805  17.699115  17.699115   8.849558   \n",
       "2885  129.629630  37.037037   55.555556  64.814815  46.296296   9.259259   \n",
       "2886  168.776371  21.097046   84.388186  33.755274  29.535865   0.000000   \n",
       "2887  201.834862   9.174312   64.220183  18.348624  64.220183   9.174312   \n",
       "\n",
       "          MT-CYB  \n",
       "0      86.580087  \n",
       "1     102.409639  \n",
       "2     111.940299  \n",
       "3     102.189781  \n",
       "4      74.468085  \n",
       "...          ...  \n",
       "2883   50.000000  \n",
       "2884   70.796460  \n",
       "2885  185.185185  \n",
       "2886  156.118143  \n",
       "2887  155.963303  \n",
       "\n",
       "[2888 rows x 13 columns]"
      ]
     },
     "execution_count": 16,
     "metadata": {},
     "output_type": "execute_result"
    }
   ],
   "source": [
    "normiz_2(df2)"
   ]
  },
  {
   "cell_type": "code",
   "execution_count": null,
   "metadata": {},
   "outputs": [
    {
     "data": {
      "text/plain": [
       "<matplotlib.collections.PathCollection at 0x1376a60d0>"
      ]
     },
     "execution_count": 17,
     "metadata": {},
     "output_type": "execute_result"
    },
    {
     "data": {
      "image/png": "[encoded data removed]",
      "text/plain": [
       "<Figure size 640x480 with 1 Axes>"
      ]
     },
     "metadata": {},
     "output_type": "display_data"
    }
   ],
   "source": [
    "df_final = normiz_2(df2).T\n",
    "gene_mean = [np.mean(df_final.iloc[i]) for i in range(13)]\n",
    "gene_var = [np.var(df_final.iloc[i]) for i in range(13)]\n",
    "log_gene_mean = np.log(gene_mean)\n",
    "log_gene_var = np.log(gene_var)\n",
    "plt.scatter(log_gene_mean,log_gene_var)"
   ]
  },
  {
   "cell_type": "code",
   "execution_count": null,
   "metadata": {},
   "outputs": [],
   "source": [
    "def g_log(df_n):\n",
    "    df_final = normiz_2(df_n).T\n",
    "    gene_mean = [np.mean(df_final.iloc[i]) for i in range(13)]\n",
    "    gene_var = [np.var(df_final.iloc[i]) for i in range(13)]\n",
    "    log_gene_mean = np.log(gene_mean)\n",
    "    log_gene_var = np.log(gene_var)\n",
    "    return log_gene_mean, log_gene_var\n",
    "    "
   ]
  },
  {
   "cell_type": "code",
   "execution_count": null,
   "metadata": {},
   "outputs": [],
   "source": [
    "def log_gene_plot(df_n):\n",
    "    df_final = normiz_2(df_n).T\n",
    "    gene_mean = [np.mean(df_final.iloc[i]) for i in range(13)]\n",
    "    gene_var = [np.var(df_final.iloc[i]) for i in range(13)]\n",
    "    log_gene_mean = np.log(gene_mean)\n",
    "    log_gene_var = np.log(gene_var)\n",
    "    plt.scatter(log_gene_mean,log_gene_var)"
   ]
  },
  {
   "cell_type": "code",
   "execution_count": null,
   "metadata": {},
   "outputs": [
    {
     "name": "stderr",
     "output_type": "stream",
     "text": [
      "/var/folders/c1/dwx649nn3230kr15mzg_vhvc0000gn/T/ipykernel_19264/3247431560.py:5: FutureWarning: Setting an item of incompatible dtype is deprecated and will raise an error in a future version of pandas. Value '51.948051948051955' has dtype incompatible with int64, please explicitly cast to a compatible dtype first.\n",
      "  df1.iloc[i] = df1.iloc[i]/listfinal[i] * s_n\n",
      "/var/folders/c1/dwx649nn3230kr15mzg_vhvc0000gn/T/ipykernel_19264/3247431560.py:5: FutureWarning: Setting an item of incompatible dtype is deprecated and will raise an error in a future version of pandas. Value '12.987012987012989' has dtype incompatible with int64, please explicitly cast to a compatible dtype first.\n",
      "  df1.iloc[i] = df1.iloc[i]/listfinal[i] * s_n\n",
      "/var/folders/c1/dwx649nn3230kr15mzg_vhvc0000gn/T/ipykernel_19264/3247431560.py:5: FutureWarning: Setting an item of incompatible dtype is deprecated and will raise an error in a future version of pandas. Value '99.56709956709956' has dtype incompatible with int64, please explicitly cast to a compatible dtype first.\n",
      "  df1.iloc[i] = df1.iloc[i]/listfinal[i] * s_n\n",
      "/var/folders/c1/dwx649nn3230kr15mzg_vhvc0000gn/T/ipykernel_19264/3247431560.py:5: FutureWarning: Setting an item of incompatible dtype is deprecated and will raise an error in a future version of pandas. Value '229.43722943722943' has dtype incompatible with int64, please explicitly cast to a compatible dtype first.\n",
      "  df1.iloc[i] = df1.iloc[i]/listfinal[i] * s_n\n",
      "/var/folders/c1/dwx649nn3230kr15mzg_vhvc0000gn/T/ipykernel_19264/3247431560.py:5: FutureWarning: Setting an item of incompatible dtype is deprecated and will raise an error in a future version of pandas. Value '147.1861471861472' has dtype incompatible with int64, please explicitly cast to a compatible dtype first.\n",
      "  df1.iloc[i] = df1.iloc[i]/listfinal[i] * s_n\n",
      "/var/folders/c1/dwx649nn3230kr15mzg_vhvc0000gn/T/ipykernel_19264/3247431560.py:5: FutureWarning: Setting an item of incompatible dtype is deprecated and will raise an error in a future version of pandas. Value '12.987012987012989' has dtype incompatible with int64, please explicitly cast to a compatible dtype first.\n",
      "  df1.iloc[i] = df1.iloc[i]/listfinal[i] * s_n\n",
      "/var/folders/c1/dwx649nn3230kr15mzg_vhvc0000gn/T/ipykernel_19264/3247431560.py:5: FutureWarning: Setting an item of incompatible dtype is deprecated and will raise an error in a future version of pandas. Value '164.5021645021645' has dtype incompatible with int64, please explicitly cast to a compatible dtype first.\n",
      "  df1.iloc[i] = df1.iloc[i]/listfinal[i] * s_n\n",
      "/var/folders/c1/dwx649nn3230kr15mzg_vhvc0000gn/T/ipykernel_19264/3247431560.py:5: FutureWarning: Setting an item of incompatible dtype is deprecated and will raise an error in a future version of pandas. Value '25.974025974025977' has dtype incompatible with int64, please explicitly cast to a compatible dtype first.\n",
      "  df1.iloc[i] = df1.iloc[i]/listfinal[i] * s_n\n",
      "/var/folders/c1/dwx649nn3230kr15mzg_vhvc0000gn/T/ipykernel_19264/3247431560.py:5: FutureWarning: Setting an item of incompatible dtype is deprecated and will raise an error in a future version of pandas. Value '86.58008658008657' has dtype incompatible with int64, please explicitly cast to a compatible dtype first.\n",
      "  df1.iloc[i] = df1.iloc[i]/listfinal[i] * s_n\n",
      "/var/folders/c1/dwx649nn3230kr15mzg_vhvc0000gn/T/ipykernel_19264/3247431560.py:5: FutureWarning: Setting an item of incompatible dtype is deprecated and will raise an error in a future version of pandas. Value '21.645021645021643' has dtype incompatible with int64, please explicitly cast to a compatible dtype first.\n",
      "  df1.iloc[i] = df1.iloc[i]/listfinal[i] * s_n\n",
      "/var/folders/c1/dwx649nn3230kr15mzg_vhvc0000gn/T/ipykernel_19264/3247431560.py:5: FutureWarning: Setting an item of incompatible dtype is deprecated and will raise an error in a future version of pandas. Value '30.303030303030305' has dtype incompatible with int64, please explicitly cast to a compatible dtype first.\n",
      "  df1.iloc[i] = df1.iloc[i]/listfinal[i] * s_n\n",
      "/var/folders/c1/dwx649nn3230kr15mzg_vhvc0000gn/T/ipykernel_19264/3247431560.py:5: FutureWarning: Setting an item of incompatible dtype is deprecated and will raise an error in a future version of pandas. Value '30.303030303030305' has dtype incompatible with int64, please explicitly cast to a compatible dtype first.\n",
      "  df1.iloc[i] = df1.iloc[i]/listfinal[i] * s_n\n",
      "/var/folders/c1/dwx649nn3230kr15mzg_vhvc0000gn/T/ipykernel_19264/3247431560.py:5: FutureWarning: Setting an item of incompatible dtype is deprecated and will raise an error in a future version of pandas. Value '86.58008658008657' has dtype incompatible with int64, please explicitly cast to a compatible dtype first.\n",
      "  df1.iloc[i] = df1.iloc[i]/listfinal[i] * s_n\n"
     ]
    },
    {
     "data": {
      "image/png": "[encoded data removed]",
      "text/plain": [
       "<Figure size 640x480 with 1 Axes>"
      ]
     },
     "metadata": {},
     "output_type": "display_data"
    },
    {
     "name": "stderr",
     "output_type": "stream",
     "text": [
      "/var/folders/c1/dwx649nn3230kr15mzg_vhvc0000gn/T/ipykernel_19264/3247431560.py:5: FutureWarning: Setting an item of incompatible dtype is deprecated and will raise an error in a future version of pandas. Value '24.242424242424242' has dtype incompatible with int64, please explicitly cast to a compatible dtype first.\n",
      "  df1.iloc[i] = df1.iloc[i]/listfinal[i] * s_n\n",
      "/var/folders/c1/dwx649nn3230kr15mzg_vhvc0000gn/T/ipykernel_19264/3247431560.py:5: FutureWarning: Setting an item of incompatible dtype is deprecated and will raise an error in a future version of pandas. Value '42.42424242424243' has dtype incompatible with int64, please explicitly cast to a compatible dtype first.\n",
      "  df1.iloc[i] = df1.iloc[i]/listfinal[i] * s_n\n",
      "/var/folders/c1/dwx649nn3230kr15mzg_vhvc0000gn/T/ipykernel_19264/3247431560.py:5: FutureWarning: Setting an item of incompatible dtype is deprecated and will raise an error in a future version of pandas. Value '133.33333333333334' has dtype incompatible with int64, please explicitly cast to a compatible dtype first.\n",
      "  df1.iloc[i] = df1.iloc[i]/listfinal[i] * s_n\n",
      "/var/folders/c1/dwx649nn3230kr15mzg_vhvc0000gn/T/ipykernel_19264/3247431560.py:5: FutureWarning: Setting an item of incompatible dtype is deprecated and will raise an error in a future version of pandas. Value '175.75757575757575' has dtype incompatible with int64, please explicitly cast to a compatible dtype first.\n",
      "  df1.iloc[i] = df1.iloc[i]/listfinal[i] * s_n\n",
      "/var/folders/c1/dwx649nn3230kr15mzg_vhvc0000gn/T/ipykernel_19264/3247431560.py:5: FutureWarning: Setting an item of incompatible dtype is deprecated and will raise an error in a future version of pandas. Value '145.45454545454544' has dtype incompatible with int64, please explicitly cast to a compatible dtype first.\n",
      "  df1.iloc[i] = df1.iloc[i]/listfinal[i] * s_n\n",
      "/var/folders/c1/dwx649nn3230kr15mzg_vhvc0000gn/T/ipykernel_19264/3247431560.py:5: FutureWarning: Setting an item of incompatible dtype is deprecated and will raise an error in a future version of pandas. Value '12.121212121212121' has dtype incompatible with int64, please explicitly cast to a compatible dtype first.\n",
      "  df1.iloc[i] = df1.iloc[i]/listfinal[i] * s_n\n",
      "/var/folders/c1/dwx649nn3230kr15mzg_vhvc0000gn/T/ipykernel_19264/3247431560.py:5: FutureWarning: Setting an item of incompatible dtype is deprecated and will raise an error in a future version of pandas. Value '133.33333333333334' has dtype incompatible with int64, please explicitly cast to a compatible dtype first.\n",
      "  df1.iloc[i] = df1.iloc[i]/listfinal[i] * s_n\n",
      "/var/folders/c1/dwx649nn3230kr15mzg_vhvc0000gn/T/ipykernel_19264/3247431560.py:5: FutureWarning: Setting an item of incompatible dtype is deprecated and will raise an error in a future version of pandas. Value '54.54545454545454' has dtype incompatible with int64, please explicitly cast to a compatible dtype first.\n",
      "  df1.iloc[i] = df1.iloc[i]/listfinal[i] * s_n\n",
      "/var/folders/c1/dwx649nn3230kr15mzg_vhvc0000gn/T/ipykernel_19264/3247431560.py:5: FutureWarning: Setting an item of incompatible dtype is deprecated and will raise an error in a future version of pandas. Value '78.78787878787878' has dtype incompatible with int64, please explicitly cast to a compatible dtype first.\n",
      "  df1.iloc[i] = df1.iloc[i]/listfinal[i] * s_n\n",
      "/var/folders/c1/dwx649nn3230kr15mzg_vhvc0000gn/T/ipykernel_19264/3247431560.py:5: FutureWarning: Setting an item of incompatible dtype is deprecated and will raise an error in a future version of pandas. Value '30.303030303030305' has dtype incompatible with int64, please explicitly cast to a compatible dtype first.\n",
      "  df1.iloc[i] = df1.iloc[i]/listfinal[i] * s_n\n",
      "/var/folders/c1/dwx649nn3230kr15mzg_vhvc0000gn/T/ipykernel_19264/3247431560.py:5: FutureWarning: Setting an item of incompatible dtype is deprecated and will raise an error in a future version of pandas. Value '24.242424242424242' has dtype incompatible with int64, please explicitly cast to a compatible dtype first.\n",
      "  df1.iloc[i] = df1.iloc[i]/listfinal[i] * s_n\n",
      "/var/folders/c1/dwx649nn3230kr15mzg_vhvc0000gn/T/ipykernel_19264/3247431560.py:5: FutureWarning: Setting an item of incompatible dtype is deprecated and will raise an error in a future version of pandas. Value '6.0606060606060606' has dtype incompatible with int64, please explicitly cast to a compatible dtype first.\n",
      "  df1.iloc[i] = df1.iloc[i]/listfinal[i] * s_n\n",
      "/var/folders/c1/dwx649nn3230kr15mzg_vhvc0000gn/T/ipykernel_19264/3247431560.py:5: FutureWarning: Setting an item of incompatible dtype is deprecated and will raise an error in a future version of pandas. Value '139.3939393939394' has dtype incompatible with int64, please explicitly cast to a compatible dtype first.\n",
      "  df1.iloc[i] = df1.iloc[i]/listfinal[i] * s_n\n"
     ]
    },
    {
     "data": {
      "image/png": "[encoded data removed]",
      "text/plain": [
       "<Figure size 640x480 with 1 Axes>"
      ]
     },
     "metadata": {},
     "output_type": "display_data"
    }
   ],
   "source": [
    "log_gene_plot(normiz_2(dfg(1,4)))\n",
    "plt.show()\n",
    "log_gene_plot(normiz_2(dfg(1,8)))\n",
    "plt.show()"
   ]
  },
  {
   "cell_type": "code",
   "execution_count": null,
   "metadata": {},
   "outputs": [
    {
     "name": "stderr",
     "output_type": "stream",
     "text": [
      "/var/folders/c1/dwx649nn3230kr15mzg_vhvc0000gn/T/ipykernel_19264/3247431560.py:5: FutureWarning: Setting an item of incompatible dtype is deprecated and will raise an error in a future version of pandas. Value '72.81553398058252' has dtype incompatible with int64, please explicitly cast to a compatible dtype first.\n",
      "  df1.iloc[i] = df1.iloc[i]/listfinal[i] * s_n\n",
      "/var/folders/c1/dwx649nn3230kr15mzg_vhvc0000gn/T/ipykernel_19264/3247431560.py:5: FutureWarning: Setting an item of incompatible dtype is deprecated and will raise an error in a future version of pandas. Value '53.398058252427184' has dtype incompatible with int64, please explicitly cast to a compatible dtype first.\n",
      "  df1.iloc[i] = df1.iloc[i]/listfinal[i] * s_n\n",
      "/var/folders/c1/dwx649nn3230kr15mzg_vhvc0000gn/T/ipykernel_19264/3247431560.py:5: FutureWarning: Setting an item of incompatible dtype is deprecated and will raise an error in a future version of pandas. Value '111.6504854368932' has dtype incompatible with int64, please explicitly cast to a compatible dtype first.\n",
      "  df1.iloc[i] = df1.iloc[i]/listfinal[i] * s_n\n",
      "/var/folders/c1/dwx649nn3230kr15mzg_vhvc0000gn/T/ipykernel_19264/3247431560.py:5: FutureWarning: Setting an item of incompatible dtype is deprecated and will raise an error in a future version of pandas. Value '165.0485436893204' has dtype incompatible with int64, please explicitly cast to a compatible dtype first.\n",
      "  df1.iloc[i] = df1.iloc[i]/listfinal[i] * s_n\n",
      "/var/folders/c1/dwx649nn3230kr15mzg_vhvc0000gn/T/ipykernel_19264/3247431560.py:5: FutureWarning: Setting an item of incompatible dtype is deprecated and will raise an error in a future version of pandas. Value '126.2135922330097' has dtype incompatible with int64, please explicitly cast to a compatible dtype first.\n",
      "  df1.iloc[i] = df1.iloc[i]/listfinal[i] * s_n\n",
      "/var/folders/c1/dwx649nn3230kr15mzg_vhvc0000gn/T/ipykernel_19264/3247431560.py:5: FutureWarning: Setting an item of incompatible dtype is deprecated and will raise an error in a future version of pandas. Value '9.70873786407767' has dtype incompatible with int64, please explicitly cast to a compatible dtype first.\n",
      "  df1.iloc[i] = df1.iloc[i]/listfinal[i] * s_n\n",
      "/var/folders/c1/dwx649nn3230kr15mzg_vhvc0000gn/T/ipykernel_19264/3247431560.py:5: FutureWarning: Setting an item of incompatible dtype is deprecated and will raise an error in a future version of pandas. Value '126.2135922330097' has dtype incompatible with int64, please explicitly cast to a compatible dtype first.\n",
      "  df1.iloc[i] = df1.iloc[i]/listfinal[i] * s_n\n",
      "/var/folders/c1/dwx649nn3230kr15mzg_vhvc0000gn/T/ipykernel_19264/3247431560.py:5: FutureWarning: Setting an item of incompatible dtype is deprecated and will raise an error in a future version of pandas. Value '72.81553398058252' has dtype incompatible with int64, please explicitly cast to a compatible dtype first.\n",
      "  df1.iloc[i] = df1.iloc[i]/listfinal[i] * s_n\n",
      "/var/folders/c1/dwx649nn3230kr15mzg_vhvc0000gn/T/ipykernel_19264/3247431560.py:5: FutureWarning: Setting an item of incompatible dtype is deprecated and will raise an error in a future version of pandas. Value '72.81553398058252' has dtype incompatible with int64, please explicitly cast to a compatible dtype first.\n",
      "  df1.iloc[i] = df1.iloc[i]/listfinal[i] * s_n\n",
      "/var/folders/c1/dwx649nn3230kr15mzg_vhvc0000gn/T/ipykernel_19264/3247431560.py:5: FutureWarning: Setting an item of incompatible dtype is deprecated and will raise an error in a future version of pandas. Value '9.70873786407767' has dtype incompatible with int64, please explicitly cast to a compatible dtype first.\n",
      "  df1.iloc[i] = df1.iloc[i]/listfinal[i] * s_n\n",
      "/var/folders/c1/dwx649nn3230kr15mzg_vhvc0000gn/T/ipykernel_19264/3247431560.py:5: FutureWarning: Setting an item of incompatible dtype is deprecated and will raise an error in a future version of pandas. Value '43.689320388349515' has dtype incompatible with int64, please explicitly cast to a compatible dtype first.\n",
      "  df1.iloc[i] = df1.iloc[i]/listfinal[i] * s_n\n",
      "/var/folders/c1/dwx649nn3230kr15mzg_vhvc0000gn/T/ipykernel_19264/3247431560.py:5: FutureWarning: Setting an item of incompatible dtype is deprecated and will raise an error in a future version of pandas. Value '14.563106796116505' has dtype incompatible with int64, please explicitly cast to a compatible dtype first.\n",
      "  df1.iloc[i] = df1.iloc[i]/listfinal[i] * s_n\n",
      "/var/folders/c1/dwx649nn3230kr15mzg_vhvc0000gn/T/ipykernel_19264/3247431560.py:5: FutureWarning: Setting an item of incompatible dtype is deprecated and will raise an error in a future version of pandas. Value '121.35922330097088' has dtype incompatible with int64, please explicitly cast to a compatible dtype first.\n",
      "  df1.iloc[i] = df1.iloc[i]/listfinal[i] * s_n\n"
     ]
    },
    {
     "data": {
      "image/png": "[encoded data removed]",
      "text/plain": [
       "<Figure size 640x480 with 1 Axes>"
      ]
     },
     "metadata": {},
     "output_type": "display_data"
    },
    {
     "name": "stderr",
     "output_type": "stream",
     "text": [
      "/var/folders/c1/dwx649nn3230kr15mzg_vhvc0000gn/T/ipykernel_19264/3247431560.py:5: FutureWarning: Setting an item of incompatible dtype is deprecated and will raise an error in a future version of pandas. Value '78.34101382488478' has dtype incompatible with int64, please explicitly cast to a compatible dtype first.\n",
      "  df1.iloc[i] = df1.iloc[i]/listfinal[i] * s_n\n",
      "/var/folders/c1/dwx649nn3230kr15mzg_vhvc0000gn/T/ipykernel_19264/3247431560.py:5: FutureWarning: Setting an item of incompatible dtype is deprecated and will raise an error in a future version of pandas. Value '18.433179723502302' has dtype incompatible with int64, please explicitly cast to a compatible dtype first.\n",
      "  df1.iloc[i] = df1.iloc[i]/listfinal[i] * s_n\n",
      "/var/folders/c1/dwx649nn3230kr15mzg_vhvc0000gn/T/ipykernel_19264/3247431560.py:5: FutureWarning: Setting an item of incompatible dtype is deprecated and will raise an error in a future version of pandas. Value '188.9400921658986' has dtype incompatible with int64, please explicitly cast to a compatible dtype first.\n",
      "  df1.iloc[i] = df1.iloc[i]/listfinal[i] * s_n\n",
      "/var/folders/c1/dwx649nn3230kr15mzg_vhvc0000gn/T/ipykernel_19264/3247431560.py:5: FutureWarning: Setting an item of incompatible dtype is deprecated and will raise an error in a future version of pandas. Value '147.46543778801842' has dtype incompatible with int64, please explicitly cast to a compatible dtype first.\n",
      "  df1.iloc[i] = df1.iloc[i]/listfinal[i] * s_n\n",
      "/var/folders/c1/dwx649nn3230kr15mzg_vhvc0000gn/T/ipykernel_19264/3247431560.py:5: FutureWarning: Setting an item of incompatible dtype is deprecated and will raise an error in a future version of pandas. Value '156.68202764976957' has dtype incompatible with int64, please explicitly cast to a compatible dtype first.\n",
      "  df1.iloc[i] = df1.iloc[i]/listfinal[i] * s_n\n",
      "/var/folders/c1/dwx649nn3230kr15mzg_vhvc0000gn/T/ipykernel_19264/3247431560.py:5: FutureWarning: Setting an item of incompatible dtype is deprecated and will raise an error in a future version of pandas. Value '13.82488479262673' has dtype incompatible with int64, please explicitly cast to a compatible dtype first.\n",
      "  df1.iloc[i] = df1.iloc[i]/listfinal[i] * s_n\n",
      "/var/folders/c1/dwx649nn3230kr15mzg_vhvc0000gn/T/ipykernel_19264/3247431560.py:5: FutureWarning: Setting an item of incompatible dtype is deprecated and will raise an error in a future version of pandas. Value '110.59907834101384' has dtype incompatible with int64, please explicitly cast to a compatible dtype first.\n",
      "  df1.iloc[i] = df1.iloc[i]/listfinal[i] * s_n\n",
      "/var/folders/c1/dwx649nn3230kr15mzg_vhvc0000gn/T/ipykernel_19264/3247431560.py:5: FutureWarning: Setting an item of incompatible dtype is deprecated and will raise an error in a future version of pandas. Value '41.474654377880185' has dtype incompatible with int64, please explicitly cast to a compatible dtype first.\n",
      "  df1.iloc[i] = df1.iloc[i]/listfinal[i] * s_n\n",
      "/var/folders/c1/dwx649nn3230kr15mzg_vhvc0000gn/T/ipykernel_19264/3247431560.py:5: FutureWarning: Setting an item of incompatible dtype is deprecated and will raise an error in a future version of pandas. Value '55.29953917050692' has dtype incompatible with int64, please explicitly cast to a compatible dtype first.\n",
      "  df1.iloc[i] = df1.iloc[i]/listfinal[i] * s_n\n",
      "/var/folders/c1/dwx649nn3230kr15mzg_vhvc0000gn/T/ipykernel_19264/3247431560.py:5: FutureWarning: Setting an item of incompatible dtype is deprecated and will raise an error in a future version of pandas. Value '23.041474654377883' has dtype incompatible with int64, please explicitly cast to a compatible dtype first.\n",
      "  df1.iloc[i] = df1.iloc[i]/listfinal[i] * s_n\n",
      "/var/folders/c1/dwx649nn3230kr15mzg_vhvc0000gn/T/ipykernel_19264/3247431560.py:5: FutureWarning: Setting an item of incompatible dtype is deprecated and will raise an error in a future version of pandas. Value '32.25806451612903' has dtype incompatible with int64, please explicitly cast to a compatible dtype first.\n",
      "  df1.iloc[i] = df1.iloc[i]/listfinal[i] * s_n\n",
      "/var/folders/c1/dwx649nn3230kr15mzg_vhvc0000gn/T/ipykernel_19264/3247431560.py:5: FutureWarning: Setting an item of incompatible dtype is deprecated and will raise an error in a future version of pandas. Value '13.82488479262673' has dtype incompatible with int64, please explicitly cast to a compatible dtype first.\n",
      "  df1.iloc[i] = df1.iloc[i]/listfinal[i] * s_n\n",
      "/var/folders/c1/dwx649nn3230kr15mzg_vhvc0000gn/T/ipykernel_19264/3247431560.py:5: FutureWarning: Setting an item of incompatible dtype is deprecated and will raise an error in a future version of pandas. Value '119.81566820276497' has dtype incompatible with int64, please explicitly cast to a compatible dtype first.\n",
      "  df1.iloc[i] = df1.iloc[i]/listfinal[i] * s_n\n"
     ]
    },
    {
     "data": {
      "image/png": "[encoded data removed]",
      "text/plain": [
       "<Figure size 640x480 with 1 Axes>"
      ]
     },
     "metadata": {},
     "output_type": "display_data"
    }
   ],
   "source": [
    "log_gene_plot(normiz_2(dfg(2,4)))\n",
    "plt.show()\n",
    "log_gene_plot(normiz_2(dfg(2,8)))\n",
    "plt.show()"
   ]
  },
  {
   "cell_type": "code",
   "execution_count": null,
   "metadata": {},
   "outputs": [
    {
     "name": "stderr",
     "output_type": "stream",
     "text": [
      "/var/folders/c1/dwx649nn3230kr15mzg_vhvc0000gn/T/ipykernel_19264/3247431560.py:5: FutureWarning: Setting an item of incompatible dtype is deprecated and will raise an error in a future version of pandas. Value '51.948051948051955' has dtype incompatible with int64, please explicitly cast to a compatible dtype first.\n",
      "  df1.iloc[i] = df1.iloc[i]/listfinal[i] * s_n\n",
      "/var/folders/c1/dwx649nn3230kr15mzg_vhvc0000gn/T/ipykernel_19264/3247431560.py:5: FutureWarning: Setting an item of incompatible dtype is deprecated and will raise an error in a future version of pandas. Value '12.987012987012989' has dtype incompatible with int64, please explicitly cast to a compatible dtype first.\n",
      "  df1.iloc[i] = df1.iloc[i]/listfinal[i] * s_n\n",
      "/var/folders/c1/dwx649nn3230kr15mzg_vhvc0000gn/T/ipykernel_19264/3247431560.py:5: FutureWarning: Setting an item of incompatible dtype is deprecated and will raise an error in a future version of pandas. Value '99.56709956709956' has dtype incompatible with int64, please explicitly cast to a compatible dtype first.\n",
      "  df1.iloc[i] = df1.iloc[i]/listfinal[i] * s_n\n",
      "/var/folders/c1/dwx649nn3230kr15mzg_vhvc0000gn/T/ipykernel_19264/3247431560.py:5: FutureWarning: Setting an item of incompatible dtype is deprecated and will raise an error in a future version of pandas. Value '229.43722943722943' has dtype incompatible with int64, please explicitly cast to a compatible dtype first.\n",
      "  df1.iloc[i] = df1.iloc[i]/listfinal[i] * s_n\n",
      "/var/folders/c1/dwx649nn3230kr15mzg_vhvc0000gn/T/ipykernel_19264/3247431560.py:5: FutureWarning: Setting an item of incompatible dtype is deprecated and will raise an error in a future version of pandas. Value '147.1861471861472' has dtype incompatible with int64, please explicitly cast to a compatible dtype first.\n",
      "  df1.iloc[i] = df1.iloc[i]/listfinal[i] * s_n\n",
      "/var/folders/c1/dwx649nn3230kr15mzg_vhvc0000gn/T/ipykernel_19264/3247431560.py:5: FutureWarning: Setting an item of incompatible dtype is deprecated and will raise an error in a future version of pandas. Value '12.987012987012989' has dtype incompatible with int64, please explicitly cast to a compatible dtype first.\n",
      "  df1.iloc[i] = df1.iloc[i]/listfinal[i] * s_n\n",
      "/var/folders/c1/dwx649nn3230kr15mzg_vhvc0000gn/T/ipykernel_19264/3247431560.py:5: FutureWarning: Setting an item of incompatible dtype is deprecated and will raise an error in a future version of pandas. Value '164.5021645021645' has dtype incompatible with int64, please explicitly cast to a compatible dtype first.\n",
      "  df1.iloc[i] = df1.iloc[i]/listfinal[i] * s_n\n",
      "/var/folders/c1/dwx649nn3230kr15mzg_vhvc0000gn/T/ipykernel_19264/3247431560.py:5: FutureWarning: Setting an item of incompatible dtype is deprecated and will raise an error in a future version of pandas. Value '25.974025974025977' has dtype incompatible with int64, please explicitly cast to a compatible dtype first.\n",
      "  df1.iloc[i] = df1.iloc[i]/listfinal[i] * s_n\n",
      "/var/folders/c1/dwx649nn3230kr15mzg_vhvc0000gn/T/ipykernel_19264/3247431560.py:5: FutureWarning: Setting an item of incompatible dtype is deprecated and will raise an error in a future version of pandas. Value '86.58008658008657' has dtype incompatible with int64, please explicitly cast to a compatible dtype first.\n",
      "  df1.iloc[i] = df1.iloc[i]/listfinal[i] * s_n\n",
      "/var/folders/c1/dwx649nn3230kr15mzg_vhvc0000gn/T/ipykernel_19264/3247431560.py:5: FutureWarning: Setting an item of incompatible dtype is deprecated and will raise an error in a future version of pandas. Value '21.645021645021643' has dtype incompatible with int64, please explicitly cast to a compatible dtype first.\n",
      "  df1.iloc[i] = df1.iloc[i]/listfinal[i] * s_n\n",
      "/var/folders/c1/dwx649nn3230kr15mzg_vhvc0000gn/T/ipykernel_19264/3247431560.py:5: FutureWarning: Setting an item of incompatible dtype is deprecated and will raise an error in a future version of pandas. Value '30.303030303030305' has dtype incompatible with int64, please explicitly cast to a compatible dtype first.\n",
      "  df1.iloc[i] = df1.iloc[i]/listfinal[i] * s_n\n",
      "/var/folders/c1/dwx649nn3230kr15mzg_vhvc0000gn/T/ipykernel_19264/3247431560.py:5: FutureWarning: Setting an item of incompatible dtype is deprecated and will raise an error in a future version of pandas. Value '30.303030303030305' has dtype incompatible with int64, please explicitly cast to a compatible dtype first.\n",
      "  df1.iloc[i] = df1.iloc[i]/listfinal[i] * s_n\n",
      "/var/folders/c1/dwx649nn3230kr15mzg_vhvc0000gn/T/ipykernel_19264/3247431560.py:5: FutureWarning: Setting an item of incompatible dtype is deprecated and will raise an error in a future version of pandas. Value '86.58008658008657' has dtype incompatible with int64, please explicitly cast to a compatible dtype first.\n",
      "  df1.iloc[i] = df1.iloc[i]/listfinal[i] * s_n\n",
      "/var/folders/c1/dwx649nn3230kr15mzg_vhvc0000gn/T/ipykernel_19264/3247431560.py:5: FutureWarning: Setting an item of incompatible dtype is deprecated and will raise an error in a future version of pandas. Value '51.948051948051955' has dtype incompatible with int64, please explicitly cast to a compatible dtype first.\n",
      "  df1.iloc[i] = df1.iloc[i]/listfinal[i] * s_n\n",
      "/var/folders/c1/dwx649nn3230kr15mzg_vhvc0000gn/T/ipykernel_19264/3247431560.py:5: FutureWarning: Setting an item of incompatible dtype is deprecated and will raise an error in a future version of pandas. Value '12.987012987012989' has dtype incompatible with int64, please explicitly cast to a compatible dtype first.\n",
      "  df1.iloc[i] = df1.iloc[i]/listfinal[i] * s_n\n",
      "/var/folders/c1/dwx649nn3230kr15mzg_vhvc0000gn/T/ipykernel_19264/3247431560.py:5: FutureWarning: Setting an item of incompatible dtype is deprecated and will raise an error in a future version of pandas. Value '99.56709956709956' has dtype incompatible with int64, please explicitly cast to a compatible dtype first.\n",
      "  df1.iloc[i] = df1.iloc[i]/listfinal[i] * s_n\n",
      "/var/folders/c1/dwx649nn3230kr15mzg_vhvc0000gn/T/ipykernel_19264/3247431560.py:5: FutureWarning: Setting an item of incompatible dtype is deprecated and will raise an error in a future version of pandas. Value '229.43722943722943' has dtype incompatible with int64, please explicitly cast to a compatible dtype first.\n",
      "  df1.iloc[i] = df1.iloc[i]/listfinal[i] * s_n\n",
      "/var/folders/c1/dwx649nn3230kr15mzg_vhvc0000gn/T/ipykernel_19264/3247431560.py:5: FutureWarning: Setting an item of incompatible dtype is deprecated and will raise an error in a future version of pandas. Value '147.1861471861472' has dtype incompatible with int64, please explicitly cast to a compatible dtype first.\n",
      "  df1.iloc[i] = df1.iloc[i]/listfinal[i] * s_n\n",
      "/var/folders/c1/dwx649nn3230kr15mzg_vhvc0000gn/T/ipykernel_19264/3247431560.py:5: FutureWarning: Setting an item of incompatible dtype is deprecated and will raise an error in a future version of pandas. Value '12.987012987012989' has dtype incompatible with int64, please explicitly cast to a compatible dtype first.\n",
      "  df1.iloc[i] = df1.iloc[i]/listfinal[i] * s_n\n",
      "/var/folders/c1/dwx649nn3230kr15mzg_vhvc0000gn/T/ipykernel_19264/3247431560.py:5: FutureWarning: Setting an item of incompatible dtype is deprecated and will raise an error in a future version of pandas. Value '164.5021645021645' has dtype incompatible with int64, please explicitly cast to a compatible dtype first.\n",
      "  df1.iloc[i] = df1.iloc[i]/listfinal[i] * s_n\n",
      "/var/folders/c1/dwx649nn3230kr15mzg_vhvc0000gn/T/ipykernel_19264/3247431560.py:5: FutureWarning: Setting an item of incompatible dtype is deprecated and will raise an error in a future version of pandas. Value '25.974025974025977' has dtype incompatible with int64, please explicitly cast to a compatible dtype first.\n",
      "  df1.iloc[i] = df1.iloc[i]/listfinal[i] * s_n\n",
      "/var/folders/c1/dwx649nn3230kr15mzg_vhvc0000gn/T/ipykernel_19264/3247431560.py:5: FutureWarning: Setting an item of incompatible dtype is deprecated and will raise an error in a future version of pandas. Value '86.58008658008657' has dtype incompatible with int64, please explicitly cast to a compatible dtype first.\n",
      "  df1.iloc[i] = df1.iloc[i]/listfinal[i] * s_n\n",
      "/var/folders/c1/dwx649nn3230kr15mzg_vhvc0000gn/T/ipykernel_19264/3247431560.py:5: FutureWarning: Setting an item of incompatible dtype is deprecated and will raise an error in a future version of pandas. Value '21.645021645021643' has dtype incompatible with int64, please explicitly cast to a compatible dtype first.\n",
      "  df1.iloc[i] = df1.iloc[i]/listfinal[i] * s_n\n",
      "/var/folders/c1/dwx649nn3230kr15mzg_vhvc0000gn/T/ipykernel_19264/3247431560.py:5: FutureWarning: Setting an item of incompatible dtype is deprecated and will raise an error in a future version of pandas. Value '30.303030303030305' has dtype incompatible with int64, please explicitly cast to a compatible dtype first.\n",
      "  df1.iloc[i] = df1.iloc[i]/listfinal[i] * s_n\n",
      "/var/folders/c1/dwx649nn3230kr15mzg_vhvc0000gn/T/ipykernel_19264/3247431560.py:5: FutureWarning: Setting an item of incompatible dtype is deprecated and will raise an error in a future version of pandas. Value '30.303030303030305' has dtype incompatible with int64, please explicitly cast to a compatible dtype first.\n",
      "  df1.iloc[i] = df1.iloc[i]/listfinal[i] * s_n\n",
      "/var/folders/c1/dwx649nn3230kr15mzg_vhvc0000gn/T/ipykernel_19264/3247431560.py:5: FutureWarning: Setting an item of incompatible dtype is deprecated and will raise an error in a future version of pandas. Value '86.58008658008657' has dtype incompatible with int64, please explicitly cast to a compatible dtype first.\n",
      "  df1.iloc[i] = df1.iloc[i]/listfinal[i] * s_n\n",
      "Multiprocess sampling (4 chains in 4 jobs)\n",
      "CompoundStep\n",
      ">Slice: [a]\n",
      ">Slice: [b]\n",
      ">Slice: [sigma]\n",
      "WARNING (pytensor.configdefaults): g++ not detected!  PyTensor will be unable to compile C-implementations and will default to Python. Performance may be severely degraded. To remove this warning, set PyTensor flags cxx to an empty string.\n",
      "WARNING (pytensor.tensor.blas): Using NumPy C-API based implementation for BLAS functions.\n",
      "WARNING (pytensor.configdefaults): g++ not detected!  PyTensor will be unable to compile C-implementations and will default to Python. Performance may be severely degraded. To remove this warning, set PyTensor flags cxx to an empty string.\n",
      "WARNING (pytensor.tensor.blas): Using NumPy C-API based implementation for BLAS functions.\n",
      "WARNING (pytensor.configdefaults): g++ not detected!  PyTensor will be unable to compile C-implementations and will default to Python. Performance may be severely degraded. To remove this warning, set PyTensor flags cxx to an empty string.\n",
      "WARNING (pytensor.tensor.blas): Using NumPy C-API based implementation for BLAS functions.\n",
      "WARNING (pytensor.configdefaults): g++ not detected!  PyTensor will be unable to compile C-implementations and will default to Python. Performance may be severely degraded. To remove this warning, set PyTensor flags cxx to an empty string.\n",
      "WARNING (pytensor.tensor.blas): Using NumPy C-API based implementation for BLAS functions.\n"
     ]
    },
    {
     "data": {
      "text/html": [
       "<pre style=\"white-space:pre;overflow-x:auto;line-height:normal;font-family:Menlo,'DejaVu Sans Mono',consolas,'Courier New',monospace\">/Library/Frameworks/Python.framework/Versions/3.11/lib/python3.11/site-packages/rich/live.py:231: UserWarning: \n",
       "install \"ipywidgets\" for Jupyter support\n",
       "  warnings.warn('install \"ipywidgets\" for Jupyter support')\n",
       "</pre>\n"
      ],
      "text/plain": [
       "/Library/Frameworks/Python.framework/Versions/3.11/lib/python3.11/site-packages/rich/live.py:231: UserWarning: \n",
       "install \"ipywidgets\" for Jupyter support\n",
       "  warnings.warn('install \"ipywidgets\" for Jupyter support')\n"
      ]
     },
     "metadata": {},
     "output_type": "display_data"
    },
    {
     "data": {
      "text/html": [
       "<pre style=\"white-space:pre;overflow-x:auto;line-height:normal;font-family:Menlo,'DejaVu Sans Mono',consolas,'Courier New',monospace\"></pre>\n"
      ],
      "text/plain": []
     },
     "metadata": {},
     "output_type": "display_data"
    },
    {
     "data": {
      "text/html": [
       "<pre style=\"white-space:pre;overflow-x:auto;line-height:normal;font-family:Menlo,'DejaVu Sans Mono',consolas,'Courier New',monospace\">\n",
       "</pre>\n"
      ],
      "text/plain": [
       "\n"
      ]
     },
     "metadata": {},
     "output_type": "display_data"
    },
    {
     "name": "stderr",
     "output_type": "stream",
     "text": [
      "Sampling 4 chains for 1_000 tune and 1_000 draw iterations (4_000 + 4_000 draws total) took 40 seconds.\n",
      "The rhat statistic is larger than 1.01 for some parameters. This indicates problems during sampling. See https://arxiv.org/abs/1903.08008 for details\n",
      "The effective sample size per chain is smaller than 100 for some parameters.  A higher number is needed for reliable rhat and ess computation. See https://arxiv.org/abs/1903.08008 for details\n",
      "Sampling: [vals]\n"
     ]
    },
    {
     "data": {
      "text/html": [
       "<pre style=\"white-space:pre;overflow-x:auto;line-height:normal;font-family:Menlo,'DejaVu Sans Mono',consolas,'Courier New',monospace\">/Library/Frameworks/Python.framework/Versions/3.11/lib/python3.11/site-packages/rich/live.py:231: UserWarning: \n",
       "install \"ipywidgets\" for Jupyter support\n",
       "  warnings.warn('install \"ipywidgets\" for Jupyter support')\n",
       "</pre>\n"
      ],
      "text/plain": [
       "/Library/Frameworks/Python.framework/Versions/3.11/lib/python3.11/site-packages/rich/live.py:231: UserWarning: \n",
       "install \"ipywidgets\" for Jupyter support\n",
       "  warnings.warn('install \"ipywidgets\" for Jupyter support')\n"
      ]
     },
     "metadata": {},
     "output_type": "display_data"
    },
    {
     "data": {
      "text/html": [
       "<pre style=\"white-space:pre;overflow-x:auto;line-height:normal;font-family:Menlo,'DejaVu Sans Mono',consolas,'Courier New',monospace\"></pre>\n"
      ],
      "text/plain": []
     },
     "metadata": {},
     "output_type": "display_data"
    },
    {
     "data": {
      "text/html": [
       "<pre style=\"white-space:pre;overflow-x:auto;line-height:normal;font-family:Menlo,'DejaVu Sans Mono',consolas,'Courier New',monospace\">\n",
       "</pre>\n"
      ],
      "text/plain": [
       "\n"
      ]
     },
     "metadata": {},
     "output_type": "display_data"
    },
    {
     "data": {
      "image/png": "[encoded data removed]",
      "text/plain": [
       "<Figure size 640x480 with 1 Axes>"
      ]
     },
     "metadata": {},
     "output_type": "display_data"
    }
   ],
   "source": [
    "linfitplot(g_log(normiz_2(dfg(1,4)))[0],g_log(normiz_2(dfg(1,4)))[1])"
   ]
  },
  {
   "cell_type": "code",
   "execution_count": null,
   "metadata": {},
   "outputs": [],
   "source": [
    "import numpy as np\n",
    "import pandas as pd\n",
    "import matplotlib.pyplot as plt\n",
    "\n",
    "def lse(a,b):\n",
    "    x = g_log(normiz_2(dfg(a,b)))[0]\n",
    "    y = g_log(normiz_2(dfg(a,b)))[1]\n",
    "\n",
    "    X = np.vstack([np.ones(len(x)), x]).T\n",
    "    # Compute the least squares estimates using the normal equation\n",
    "    # theta = (X^T X)^(-1) X^T y\n",
    "    theta = np.linalg.inv(X.T @ X) @ X.T @ y\n",
    "\n",
    "    # Extract the parameters\n",
    "    a, b = theta\n",
    "    print(f\"Estimated parameters: a = {a}, b = {b}\")\n",
    "\n",
    "    # Predicted values using the fitted model\n",
    "    y_pred = a + b * x\n",
    "\n",
    "    # Calculate R-squared (R^2)\n",
    "    ss_total = np.sum((y - np.mean(y))**2)\n",
    "    ss_residual = np.sum((y - y_pred)**2)\n",
    "    r_squared = 1 - (ss_residual / ss_total)\n",
    "\n",
    "    print(f\"R-squared (R^2) value: {r_squared}\")\n",
    "\n",
    "    # Plot the observed data and the fitted line\n",
    "    plt.scatter(x, y, label='Observed data')\n",
    "    plt.plot(x, y_pred, color='red', label='Fitted line')\n",
    "    plt.xlabel('x')\n",
    "    plt.ylabel('y')\n",
    "    plt.title('Least Squares Estimation')\n",
    "    plt.legend()\n",
    "    plt.show()\n"
   ]
  },
  {
   "cell_type": "code",
   "execution_count": null,
   "metadata": {},
   "outputs": [
    {
     "name": "stderr",
     "output_type": "stream",
     "text": [
      "/var/folders/c1/dwx649nn3230kr15mzg_vhvc0000gn/T/ipykernel_19264/3247431560.py:5: FutureWarning: Setting an item of incompatible dtype is deprecated and will raise an error in a future version of pandas. Value '51.948051948051955' has dtype incompatible with int64, please explicitly cast to a compatible dtype first.\n",
      "  df1.iloc[i] = df1.iloc[i]/listfinal[i] * s_n\n",
      "/var/folders/c1/dwx649nn3230kr15mzg_vhvc0000gn/T/ipykernel_19264/3247431560.py:5: FutureWarning: Setting an item of incompatible dtype is deprecated and will raise an error in a future version of pandas. Value '12.987012987012989' has dtype incompatible with int64, please explicitly cast to a compatible dtype first.\n",
      "  df1.iloc[i] = df1.iloc[i]/listfinal[i] * s_n\n",
      "/var/folders/c1/dwx649nn3230kr15mzg_vhvc0000gn/T/ipykernel_19264/3247431560.py:5: FutureWarning: Setting an item of incompatible dtype is deprecated and will raise an error in a future version of pandas. Value '99.56709956709956' has dtype incompatible with int64, please explicitly cast to a compatible dtype first.\n",
      "  df1.iloc[i] = df1.iloc[i]/listfinal[i] * s_n\n",
      "/var/folders/c1/dwx649nn3230kr15mzg_vhvc0000gn/T/ipykernel_19264/3247431560.py:5: FutureWarning: Setting an item of incompatible dtype is deprecated and will raise an error in a future version of pandas. Value '229.43722943722943' has dtype incompatible with int64, please explicitly cast to a compatible dtype first.\n",
      "  df1.iloc[i] = df1.iloc[i]/listfinal[i] * s_n\n",
      "/var/folders/c1/dwx649nn3230kr15mzg_vhvc0000gn/T/ipykernel_19264/3247431560.py:5: FutureWarning: Setting an item of incompatible dtype is deprecated and will raise an error in a future version of pandas. Value '147.1861471861472' has dtype incompatible with int64, please explicitly cast to a compatible dtype first.\n",
      "  df1.iloc[i] = df1.iloc[i]/listfinal[i] * s_n\n",
      "/var/folders/c1/dwx649nn3230kr15mzg_vhvc0000gn/T/ipykernel_19264/3247431560.py:5: FutureWarning: Setting an item of incompatible dtype is deprecated and will raise an error in a future version of pandas. Value '12.987012987012989' has dtype incompatible with int64, please explicitly cast to a compatible dtype first.\n",
      "  df1.iloc[i] = df1.iloc[i]/listfinal[i] * s_n\n",
      "/var/folders/c1/dwx649nn3230kr15mzg_vhvc0000gn/T/ipykernel_19264/3247431560.py:5: FutureWarning: Setting an item of incompatible dtype is deprecated and will raise an error in a future version of pandas. Value '164.5021645021645' has dtype incompatible with int64, please explicitly cast to a compatible dtype first.\n",
      "  df1.iloc[i] = df1.iloc[i]/listfinal[i] * s_n\n",
      "/var/folders/c1/dwx649nn3230kr15mzg_vhvc0000gn/T/ipykernel_19264/3247431560.py:5: FutureWarning: Setting an item of incompatible dtype is deprecated and will raise an error in a future version of pandas. Value '25.974025974025977' has dtype incompatible with int64, please explicitly cast to a compatible dtype first.\n",
      "  df1.iloc[i] = df1.iloc[i]/listfinal[i] * s_n\n",
      "/var/folders/c1/dwx649nn3230kr15mzg_vhvc0000gn/T/ipykernel_19264/3247431560.py:5: FutureWarning: Setting an item of incompatible dtype is deprecated and will raise an error in a future version of pandas. Value '86.58008658008657' has dtype incompatible with int64, please explicitly cast to a compatible dtype first.\n",
      "  df1.iloc[i] = df1.iloc[i]/listfinal[i] * s_n\n",
      "/var/folders/c1/dwx649nn3230kr15mzg_vhvc0000gn/T/ipykernel_19264/3247431560.py:5: FutureWarning: Setting an item of incompatible dtype is deprecated and will raise an error in a future version of pandas. Value '21.645021645021643' has dtype incompatible with int64, please explicitly cast to a compatible dtype first.\n",
      "  df1.iloc[i] = df1.iloc[i]/listfinal[i] * s_n\n",
      "/var/folders/c1/dwx649nn3230kr15mzg_vhvc0000gn/T/ipykernel_19264/3247431560.py:5: FutureWarning: Setting an item of incompatible dtype is deprecated and will raise an error in a future version of pandas. Value '30.303030303030305' has dtype incompatible with int64, please explicitly cast to a compatible dtype first.\n",
      "  df1.iloc[i] = df1.iloc[i]/listfinal[i] * s_n\n",
      "/var/folders/c1/dwx649nn3230kr15mzg_vhvc0000gn/T/ipykernel_19264/3247431560.py:5: FutureWarning: Setting an item of incompatible dtype is deprecated and will raise an error in a future version of pandas. Value '30.303030303030305' has dtype incompatible with int64, please explicitly cast to a compatible dtype first.\n",
      "  df1.iloc[i] = df1.iloc[i]/listfinal[i] * s_n\n",
      "/var/folders/c1/dwx649nn3230kr15mzg_vhvc0000gn/T/ipykernel_19264/3247431560.py:5: FutureWarning: Setting an item of incompatible dtype is deprecated and will raise an error in a future version of pandas. Value '86.58008658008657' has dtype incompatible with int64, please explicitly cast to a compatible dtype first.\n",
      "  df1.iloc[i] = df1.iloc[i]/listfinal[i] * s_n\n",
      "/var/folders/c1/dwx649nn3230kr15mzg_vhvc0000gn/T/ipykernel_19264/3247431560.py:5: FutureWarning: Setting an item of incompatible dtype is deprecated and will raise an error in a future version of pandas. Value '51.948051948051955' has dtype incompatible with int64, please explicitly cast to a compatible dtype first.\n",
      "  df1.iloc[i] = df1.iloc[i]/listfinal[i] * s_n\n",
      "/var/folders/c1/dwx649nn3230kr15mzg_vhvc0000gn/T/ipykernel_19264/3247431560.py:5: FutureWarning: Setting an item of incompatible dtype is deprecated and will raise an error in a future version of pandas. Value '12.987012987012989' has dtype incompatible with int64, please explicitly cast to a compatible dtype first.\n",
      "  df1.iloc[i] = df1.iloc[i]/listfinal[i] * s_n\n",
      "/var/folders/c1/dwx649nn3230kr15mzg_vhvc0000gn/T/ipykernel_19264/3247431560.py:5: FutureWarning: Setting an item of incompatible dtype is deprecated and will raise an error in a future version of pandas. Value '99.56709956709956' has dtype incompatible with int64, please explicitly cast to a compatible dtype first.\n",
      "  df1.iloc[i] = df1.iloc[i]/listfinal[i] * s_n\n",
      "/var/folders/c1/dwx649nn3230kr15mzg_vhvc0000gn/T/ipykernel_19264/3247431560.py:5: FutureWarning: Setting an item of incompatible dtype is deprecated and will raise an error in a future version of pandas. Value '229.43722943722943' has dtype incompatible with int64, please explicitly cast to a compatible dtype first.\n",
      "  df1.iloc[i] = df1.iloc[i]/listfinal[i] * s_n\n",
      "/var/folders/c1/dwx649nn3230kr15mzg_vhvc0000gn/T/ipykernel_19264/3247431560.py:5: FutureWarning: Setting an item of incompatible dtype is deprecated and will raise an error in a future version of pandas. Value '147.1861471861472' has dtype incompatible with int64, please explicitly cast to a compatible dtype first.\n",
      "  df1.iloc[i] = df1.iloc[i]/listfinal[i] * s_n\n",
      "/var/folders/c1/dwx649nn3230kr15mzg_vhvc0000gn/T/ipykernel_19264/3247431560.py:5: FutureWarning: Setting an item of incompatible dtype is deprecated and will raise an error in a future version of pandas. Value '12.987012987012989' has dtype incompatible with int64, please explicitly cast to a compatible dtype first.\n",
      "  df1.iloc[i] = df1.iloc[i]/listfinal[i] * s_n\n",
      "/var/folders/c1/dwx649nn3230kr15mzg_vhvc0000gn/T/ipykernel_19264/3247431560.py:5: FutureWarning: Setting an item of incompatible dtype is deprecated and will raise an error in a future version of pandas. Value '164.5021645021645' has dtype incompatible with int64, please explicitly cast to a compatible dtype first.\n",
      "  df1.iloc[i] = df1.iloc[i]/listfinal[i] * s_n\n",
      "/var/folders/c1/dwx649nn3230kr15mzg_vhvc0000gn/T/ipykernel_19264/3247431560.py:5: FutureWarning: Setting an item of incompatible dtype is deprecated and will raise an error in a future version of pandas. Value '25.974025974025977' has dtype incompatible with int64, please explicitly cast to a compatible dtype first.\n",
      "  df1.iloc[i] = df1.iloc[i]/listfinal[i] * s_n\n",
      "/var/folders/c1/dwx649nn3230kr15mzg_vhvc0000gn/T/ipykernel_19264/3247431560.py:5: FutureWarning: Setting an item of incompatible dtype is deprecated and will raise an error in a future version of pandas. Value '86.58008658008657' has dtype incompatible with int64, please explicitly cast to a compatible dtype first.\n",
      "  df1.iloc[i] = df1.iloc[i]/listfinal[i] * s_n\n",
      "/var/folders/c1/dwx649nn3230kr15mzg_vhvc0000gn/T/ipykernel_19264/3247431560.py:5: FutureWarning: Setting an item of incompatible dtype is deprecated and will raise an error in a future version of pandas. Value '21.645021645021643' has dtype incompatible with int64, please explicitly cast to a compatible dtype first.\n",
      "  df1.iloc[i] = df1.iloc[i]/listfinal[i] * s_n\n",
      "/var/folders/c1/dwx649nn3230kr15mzg_vhvc0000gn/T/ipykernel_19264/3247431560.py:5: FutureWarning: Setting an item of incompatible dtype is deprecated and will raise an error in a future version of pandas. Value '30.303030303030305' has dtype incompatible with int64, please explicitly cast to a compatible dtype first.\n",
      "  df1.iloc[i] = df1.iloc[i]/listfinal[i] * s_n\n",
      "/var/folders/c1/dwx649nn3230kr15mzg_vhvc0000gn/T/ipykernel_19264/3247431560.py:5: FutureWarning: Setting an item of incompatible dtype is deprecated and will raise an error in a future version of pandas. Value '30.303030303030305' has dtype incompatible with int64, please explicitly cast to a compatible dtype first.\n",
      "  df1.iloc[i] = df1.iloc[i]/listfinal[i] * s_n\n",
      "/var/folders/c1/dwx649nn3230kr15mzg_vhvc0000gn/T/ipykernel_19264/3247431560.py:5: FutureWarning: Setting an item of incompatible dtype is deprecated and will raise an error in a future version of pandas. Value '86.58008658008657' has dtype incompatible with int64, please explicitly cast to a compatible dtype first.\n",
      "  df1.iloc[i] = df1.iloc[i]/listfinal[i] * s_n\n"
     ]
    },
    {
     "name": "stdout",
     "output_type": "stream",
     "text": [
      "Estimated parameters: a = 1.9340102220340807, b = 1.099356698931799\n",
      "R-squared (R^2) value: 0.9670751161979678\n"
     ]
    },
    {
     "data": {
      "image/png": "[encoded data removed]",
      "text/plain": [
       "<Figure size 640x480 with 1 Axes>"
      ]
     },
     "metadata": {},
     "output_type": "display_data"
    },
    {
     "name": "stderr",
     "output_type": "stream",
     "text": [
      "/var/folders/c1/dwx649nn3230kr15mzg_vhvc0000gn/T/ipykernel_19264/3247431560.py:5: FutureWarning: Setting an item of incompatible dtype is deprecated and will raise an error in a future version of pandas. Value '24.242424242424242' has dtype incompatible with int64, please explicitly cast to a compatible dtype first.\n",
      "  df1.iloc[i] = df1.iloc[i]/listfinal[i] * s_n\n",
      "/var/folders/c1/dwx649nn3230kr15mzg_vhvc0000gn/T/ipykernel_19264/3247431560.py:5: FutureWarning: Setting an item of incompatible dtype is deprecated and will raise an error in a future version of pandas. Value '42.42424242424243' has dtype incompatible with int64, please explicitly cast to a compatible dtype first.\n",
      "  df1.iloc[i] = df1.iloc[i]/listfinal[i] * s_n\n",
      "/var/folders/c1/dwx649nn3230kr15mzg_vhvc0000gn/T/ipykernel_19264/3247431560.py:5: FutureWarning: Setting an item of incompatible dtype is deprecated and will raise an error in a future version of pandas. Value '133.33333333333334' has dtype incompatible with int64, please explicitly cast to a compatible dtype first.\n",
      "  df1.iloc[i] = df1.iloc[i]/listfinal[i] * s_n\n",
      "/var/folders/c1/dwx649nn3230kr15mzg_vhvc0000gn/T/ipykernel_19264/3247431560.py:5: FutureWarning: Setting an item of incompatible dtype is deprecated and will raise an error in a future version of pandas. Value '175.75757575757575' has dtype incompatible with int64, please explicitly cast to a compatible dtype first.\n",
      "  df1.iloc[i] = df1.iloc[i]/listfinal[i] * s_n\n",
      "/var/folders/c1/dwx649nn3230kr15mzg_vhvc0000gn/T/ipykernel_19264/3247431560.py:5: FutureWarning: Setting an item of incompatible dtype is deprecated and will raise an error in a future version of pandas. Value '145.45454545454544' has dtype incompatible with int64, please explicitly cast to a compatible dtype first.\n",
      "  df1.iloc[i] = df1.iloc[i]/listfinal[i] * s_n\n",
      "/var/folders/c1/dwx649nn3230kr15mzg_vhvc0000gn/T/ipykernel_19264/3247431560.py:5: FutureWarning: Setting an item of incompatible dtype is deprecated and will raise an error in a future version of pandas. Value '12.121212121212121' has dtype incompatible with int64, please explicitly cast to a compatible dtype first.\n",
      "  df1.iloc[i] = df1.iloc[i]/listfinal[i] * s_n\n",
      "/var/folders/c1/dwx649nn3230kr15mzg_vhvc0000gn/T/ipykernel_19264/3247431560.py:5: FutureWarning: Setting an item of incompatible dtype is deprecated and will raise an error in a future version of pandas. Value '133.33333333333334' has dtype incompatible with int64, please explicitly cast to a compatible dtype first.\n",
      "  df1.iloc[i] = df1.iloc[i]/listfinal[i] * s_n\n",
      "/var/folders/c1/dwx649nn3230kr15mzg_vhvc0000gn/T/ipykernel_19264/3247431560.py:5: FutureWarning: Setting an item of incompatible dtype is deprecated and will raise an error in a future version of pandas. Value '54.54545454545454' has dtype incompatible with int64, please explicitly cast to a compatible dtype first.\n",
      "  df1.iloc[i] = df1.iloc[i]/listfinal[i] * s_n\n",
      "/var/folders/c1/dwx649nn3230kr15mzg_vhvc0000gn/T/ipykernel_19264/3247431560.py:5: FutureWarning: Setting an item of incompatible dtype is deprecated and will raise an error in a future version of pandas. Value '78.78787878787878' has dtype incompatible with int64, please explicitly cast to a compatible dtype first.\n",
      "  df1.iloc[i] = df1.iloc[i]/listfinal[i] * s_n\n",
      "/var/folders/c1/dwx649nn3230kr15mzg_vhvc0000gn/T/ipykernel_19264/3247431560.py:5: FutureWarning: Setting an item of incompatible dtype is deprecated and will raise an error in a future version of pandas. Value '30.303030303030305' has dtype incompatible with int64, please explicitly cast to a compatible dtype first.\n",
      "  df1.iloc[i] = df1.iloc[i]/listfinal[i] * s_n\n",
      "/var/folders/c1/dwx649nn3230kr15mzg_vhvc0000gn/T/ipykernel_19264/3247431560.py:5: FutureWarning: Setting an item of incompatible dtype is deprecated and will raise an error in a future version of pandas. Value '24.242424242424242' has dtype incompatible with int64, please explicitly cast to a compatible dtype first.\n",
      "  df1.iloc[i] = df1.iloc[i]/listfinal[i] * s_n\n",
      "/var/folders/c1/dwx649nn3230kr15mzg_vhvc0000gn/T/ipykernel_19264/3247431560.py:5: FutureWarning: Setting an item of incompatible dtype is deprecated and will raise an error in a future version of pandas. Value '6.0606060606060606' has dtype incompatible with int64, please explicitly cast to a compatible dtype first.\n",
      "  df1.iloc[i] = df1.iloc[i]/listfinal[i] * s_n\n",
      "/var/folders/c1/dwx649nn3230kr15mzg_vhvc0000gn/T/ipykernel_19264/3247431560.py:5: FutureWarning: Setting an item of incompatible dtype is deprecated and will raise an error in a future version of pandas. Value '139.3939393939394' has dtype incompatible with int64, please explicitly cast to a compatible dtype first.\n",
      "  df1.iloc[i] = df1.iloc[i]/listfinal[i] * s_n\n",
      "/var/folders/c1/dwx649nn3230kr15mzg_vhvc0000gn/T/ipykernel_19264/3247431560.py:5: FutureWarning: Setting an item of incompatible dtype is deprecated and will raise an error in a future version of pandas. Value '24.242424242424242' has dtype incompatible with int64, please explicitly cast to a compatible dtype first.\n",
      "  df1.iloc[i] = df1.iloc[i]/listfinal[i] * s_n\n",
      "/var/folders/c1/dwx649nn3230kr15mzg_vhvc0000gn/T/ipykernel_19264/3247431560.py:5: FutureWarning: Setting an item of incompatible dtype is deprecated and will raise an error in a future version of pandas. Value '42.42424242424243' has dtype incompatible with int64, please explicitly cast to a compatible dtype first.\n",
      "  df1.iloc[i] = df1.iloc[i]/listfinal[i] * s_n\n",
      "/var/folders/c1/dwx649nn3230kr15mzg_vhvc0000gn/T/ipykernel_19264/3247431560.py:5: FutureWarning: Setting an item of incompatible dtype is deprecated and will raise an error in a future version of pandas. Value '133.33333333333334' has dtype incompatible with int64, please explicitly cast to a compatible dtype first.\n",
      "  df1.iloc[i] = df1.iloc[i]/listfinal[i] * s_n\n",
      "/var/folders/c1/dwx649nn3230kr15mzg_vhvc0000gn/T/ipykernel_19264/3247431560.py:5: FutureWarning: Setting an item of incompatible dtype is deprecated and will raise an error in a future version of pandas. Value '175.75757575757575' has dtype incompatible with int64, please explicitly cast to a compatible dtype first.\n",
      "  df1.iloc[i] = df1.iloc[i]/listfinal[i] * s_n\n",
      "/var/folders/c1/dwx649nn3230kr15mzg_vhvc0000gn/T/ipykernel_19264/3247431560.py:5: FutureWarning: Setting an item of incompatible dtype is deprecated and will raise an error in a future version of pandas. Value '145.45454545454544' has dtype incompatible with int64, please explicitly cast to a compatible dtype first.\n",
      "  df1.iloc[i] = df1.iloc[i]/listfinal[i] * s_n\n",
      "/var/folders/c1/dwx649nn3230kr15mzg_vhvc0000gn/T/ipykernel_19264/3247431560.py:5: FutureWarning: Setting an item of incompatible dtype is deprecated and will raise an error in a future version of pandas. Value '12.121212121212121' has dtype incompatible with int64, please explicitly cast to a compatible dtype first.\n",
      "  df1.iloc[i] = df1.iloc[i]/listfinal[i] * s_n\n",
      "/var/folders/c1/dwx649nn3230kr15mzg_vhvc0000gn/T/ipykernel_19264/3247431560.py:5: FutureWarning: Setting an item of incompatible dtype is deprecated and will raise an error in a future version of pandas. Value '133.33333333333334' has dtype incompatible with int64, please explicitly cast to a compatible dtype first.\n",
      "  df1.iloc[i] = df1.iloc[i]/listfinal[i] * s_n\n",
      "/var/folders/c1/dwx649nn3230kr15mzg_vhvc0000gn/T/ipykernel_19264/3247431560.py:5: FutureWarning: Setting an item of incompatible dtype is deprecated and will raise an error in a future version of pandas. Value '54.54545454545454' has dtype incompatible with int64, please explicitly cast to a compatible dtype first.\n",
      "  df1.iloc[i] = df1.iloc[i]/listfinal[i] * s_n\n",
      "/var/folders/c1/dwx649nn3230kr15mzg_vhvc0000gn/T/ipykernel_19264/3247431560.py:5: FutureWarning: Setting an item of incompatible dtype is deprecated and will raise an error in a future version of pandas. Value '78.78787878787878' has dtype incompatible with int64, please explicitly cast to a compatible dtype first.\n",
      "  df1.iloc[i] = df1.iloc[i]/listfinal[i] * s_n\n",
      "/var/folders/c1/dwx649nn3230kr15mzg_vhvc0000gn/T/ipykernel_19264/3247431560.py:5: FutureWarning: Setting an item of incompatible dtype is deprecated and will raise an error in a future version of pandas. Value '30.303030303030305' has dtype incompatible with int64, please explicitly cast to a compatible dtype first.\n",
      "  df1.iloc[i] = df1.iloc[i]/listfinal[i] * s_n\n",
      "/var/folders/c1/dwx649nn3230kr15mzg_vhvc0000gn/T/ipykernel_19264/3247431560.py:5: FutureWarning: Setting an item of incompatible dtype is deprecated and will raise an error in a future version of pandas. Value '24.242424242424242' has dtype incompatible with int64, please explicitly cast to a compatible dtype first.\n",
      "  df1.iloc[i] = df1.iloc[i]/listfinal[i] * s_n\n",
      "/var/folders/c1/dwx649nn3230kr15mzg_vhvc0000gn/T/ipykernel_19264/3247431560.py:5: FutureWarning: Setting an item of incompatible dtype is deprecated and will raise an error in a future version of pandas. Value '6.0606060606060606' has dtype incompatible with int64, please explicitly cast to a compatible dtype first.\n",
      "  df1.iloc[i] = df1.iloc[i]/listfinal[i] * s_n\n",
      "/var/folders/c1/dwx649nn3230kr15mzg_vhvc0000gn/T/ipykernel_19264/3247431560.py:5: FutureWarning: Setting an item of incompatible dtype is deprecated and will raise an error in a future version of pandas. Value '139.3939393939394' has dtype incompatible with int64, please explicitly cast to a compatible dtype first.\n",
      "  df1.iloc[i] = df1.iloc[i]/listfinal[i] * s_n\n"
     ]
    },
    {
     "name": "stdout",
     "output_type": "stream",
     "text": [
      "Estimated parameters: a = 1.6414409105514114, b = 1.1061489870280314\n",
      "R-squared (R^2) value: 0.9435186749758206\n"
     ]
    },
    {
     "data": {
      "image/png": "[encoded data removed]",
      "text/plain": [
       "<Figure size 640x480 with 1 Axes>"
      ]
     },
     "metadata": {},
     "output_type": "display_data"
    },
    {
     "name": "stderr",
     "output_type": "stream",
     "text": [
      "/var/folders/c1/dwx649nn3230kr15mzg_vhvc0000gn/T/ipykernel_19264/3247431560.py:5: FutureWarning: Setting an item of incompatible dtype is deprecated and will raise an error in a future version of pandas. Value '72.81553398058252' has dtype incompatible with int64, please explicitly cast to a compatible dtype first.\n",
      "  df1.iloc[i] = df1.iloc[i]/listfinal[i] * s_n\n",
      "/var/folders/c1/dwx649nn3230kr15mzg_vhvc0000gn/T/ipykernel_19264/3247431560.py:5: FutureWarning: Setting an item of incompatible dtype is deprecated and will raise an error in a future version of pandas. Value '53.398058252427184' has dtype incompatible with int64, please explicitly cast to a compatible dtype first.\n",
      "  df1.iloc[i] = df1.iloc[i]/listfinal[i] * s_n\n",
      "/var/folders/c1/dwx649nn3230kr15mzg_vhvc0000gn/T/ipykernel_19264/3247431560.py:5: FutureWarning: Setting an item of incompatible dtype is deprecated and will raise an error in a future version of pandas. Value '111.6504854368932' has dtype incompatible with int64, please explicitly cast to a compatible dtype first.\n",
      "  df1.iloc[i] = df1.iloc[i]/listfinal[i] * s_n\n",
      "/var/folders/c1/dwx649nn3230kr15mzg_vhvc0000gn/T/ipykernel_19264/3247431560.py:5: FutureWarning: Setting an item of incompatible dtype is deprecated and will raise an error in a future version of pandas. Value '165.0485436893204' has dtype incompatible with int64, please explicitly cast to a compatible dtype first.\n",
      "  df1.iloc[i] = df1.iloc[i]/listfinal[i] * s_n\n",
      "/var/folders/c1/dwx649nn3230kr15mzg_vhvc0000gn/T/ipykernel_19264/3247431560.py:5: FutureWarning: Setting an item of incompatible dtype is deprecated and will raise an error in a future version of pandas. Value '126.2135922330097' has dtype incompatible with int64, please explicitly cast to a compatible dtype first.\n",
      "  df1.iloc[i] = df1.iloc[i]/listfinal[i] * s_n\n",
      "/var/folders/c1/dwx649nn3230kr15mzg_vhvc0000gn/T/ipykernel_19264/3247431560.py:5: FutureWarning: Setting an item of incompatible dtype is deprecated and will raise an error in a future version of pandas. Value '9.70873786407767' has dtype incompatible with int64, please explicitly cast to a compatible dtype first.\n",
      "  df1.iloc[i] = df1.iloc[i]/listfinal[i] * s_n\n",
      "/var/folders/c1/dwx649nn3230kr15mzg_vhvc0000gn/T/ipykernel_19264/3247431560.py:5: FutureWarning: Setting an item of incompatible dtype is deprecated and will raise an error in a future version of pandas. Value '126.2135922330097' has dtype incompatible with int64, please explicitly cast to a compatible dtype first.\n",
      "  df1.iloc[i] = df1.iloc[i]/listfinal[i] * s_n\n",
      "/var/folders/c1/dwx649nn3230kr15mzg_vhvc0000gn/T/ipykernel_19264/3247431560.py:5: FutureWarning: Setting an item of incompatible dtype is deprecated and will raise an error in a future version of pandas. Value '72.81553398058252' has dtype incompatible with int64, please explicitly cast to a compatible dtype first.\n",
      "  df1.iloc[i] = df1.iloc[i]/listfinal[i] * s_n\n",
      "/var/folders/c1/dwx649nn3230kr15mzg_vhvc0000gn/T/ipykernel_19264/3247431560.py:5: FutureWarning: Setting an item of incompatible dtype is deprecated and will raise an error in a future version of pandas. Value '72.81553398058252' has dtype incompatible with int64, please explicitly cast to a compatible dtype first.\n",
      "  df1.iloc[i] = df1.iloc[i]/listfinal[i] * s_n\n",
      "/var/folders/c1/dwx649nn3230kr15mzg_vhvc0000gn/T/ipykernel_19264/3247431560.py:5: FutureWarning: Setting an item of incompatible dtype is deprecated and will raise an error in a future version of pandas. Value '9.70873786407767' has dtype incompatible with int64, please explicitly cast to a compatible dtype first.\n",
      "  df1.iloc[i] = df1.iloc[i]/listfinal[i] * s_n\n",
      "/var/folders/c1/dwx649nn3230kr15mzg_vhvc0000gn/T/ipykernel_19264/3247431560.py:5: FutureWarning: Setting an item of incompatible dtype is deprecated and will raise an error in a future version of pandas. Value '43.689320388349515' has dtype incompatible with int64, please explicitly cast to a compatible dtype first.\n",
      "  df1.iloc[i] = df1.iloc[i]/listfinal[i] * s_n\n",
      "/var/folders/c1/dwx649nn3230kr15mzg_vhvc0000gn/T/ipykernel_19264/3247431560.py:5: FutureWarning: Setting an item of incompatible dtype is deprecated and will raise an error in a future version of pandas. Value '14.563106796116505' has dtype incompatible with int64, please explicitly cast to a compatible dtype first.\n",
      "  df1.iloc[i] = df1.iloc[i]/listfinal[i] * s_n\n",
      "/var/folders/c1/dwx649nn3230kr15mzg_vhvc0000gn/T/ipykernel_19264/3247431560.py:5: FutureWarning: Setting an item of incompatible dtype is deprecated and will raise an error in a future version of pandas. Value '121.35922330097088' has dtype incompatible with int64, please explicitly cast to a compatible dtype first.\n",
      "  df1.iloc[i] = df1.iloc[i]/listfinal[i] * s_n\n",
      "/var/folders/c1/dwx649nn3230kr15mzg_vhvc0000gn/T/ipykernel_19264/3247431560.py:5: FutureWarning: Setting an item of incompatible dtype is deprecated and will raise an error in a future version of pandas. Value '72.81553398058252' has dtype incompatible with int64, please explicitly cast to a compatible dtype first.\n",
      "  df1.iloc[i] = df1.iloc[i]/listfinal[i] * s_n\n",
      "/var/folders/c1/dwx649nn3230kr15mzg_vhvc0000gn/T/ipykernel_19264/3247431560.py:5: FutureWarning: Setting an item of incompatible dtype is deprecated and will raise an error in a future version of pandas. Value '53.398058252427184' has dtype incompatible with int64, please explicitly cast to a compatible dtype first.\n",
      "  df1.iloc[i] = df1.iloc[i]/listfinal[i] * s_n\n",
      "/var/folders/c1/dwx649nn3230kr15mzg_vhvc0000gn/T/ipykernel_19264/3247431560.py:5: FutureWarning: Setting an item of incompatible dtype is deprecated and will raise an error in a future version of pandas. Value '111.6504854368932' has dtype incompatible with int64, please explicitly cast to a compatible dtype first.\n",
      "  df1.iloc[i] = df1.iloc[i]/listfinal[i] * s_n\n",
      "/var/folders/c1/dwx649nn3230kr15mzg_vhvc0000gn/T/ipykernel_19264/3247431560.py:5: FutureWarning: Setting an item of incompatible dtype is deprecated and will raise an error in a future version of pandas. Value '165.0485436893204' has dtype incompatible with int64, please explicitly cast to a compatible dtype first.\n",
      "  df1.iloc[i] = df1.iloc[i]/listfinal[i] * s_n\n",
      "/var/folders/c1/dwx649nn3230kr15mzg_vhvc0000gn/T/ipykernel_19264/3247431560.py:5: FutureWarning: Setting an item of incompatible dtype is deprecated and will raise an error in a future version of pandas. Value '126.2135922330097' has dtype incompatible with int64, please explicitly cast to a compatible dtype first.\n",
      "  df1.iloc[i] = df1.iloc[i]/listfinal[i] * s_n\n",
      "/var/folders/c1/dwx649nn3230kr15mzg_vhvc0000gn/T/ipykernel_19264/3247431560.py:5: FutureWarning: Setting an item of incompatible dtype is deprecated and will raise an error in a future version of pandas. Value '9.70873786407767' has dtype incompatible with int64, please explicitly cast to a compatible dtype first.\n",
      "  df1.iloc[i] = df1.iloc[i]/listfinal[i] * s_n\n",
      "/var/folders/c1/dwx649nn3230kr15mzg_vhvc0000gn/T/ipykernel_19264/3247431560.py:5: FutureWarning: Setting an item of incompatible dtype is deprecated and will raise an error in a future version of pandas. Value '126.2135922330097' has dtype incompatible with int64, please explicitly cast to a compatible dtype first.\n",
      "  df1.iloc[i] = df1.iloc[i]/listfinal[i] * s_n\n",
      "/var/folders/c1/dwx649nn3230kr15mzg_vhvc0000gn/T/ipykernel_19264/3247431560.py:5: FutureWarning: Setting an item of incompatible dtype is deprecated and will raise an error in a future version of pandas. Value '72.81553398058252' has dtype incompatible with int64, please explicitly cast to a compatible dtype first.\n",
      "  df1.iloc[i] = df1.iloc[i]/listfinal[i] * s_n\n",
      "/var/folders/c1/dwx649nn3230kr15mzg_vhvc0000gn/T/ipykernel_19264/3247431560.py:5: FutureWarning: Setting an item of incompatible dtype is deprecated and will raise an error in a future version of pandas. Value '72.81553398058252' has dtype incompatible with int64, please explicitly cast to a compatible dtype first.\n",
      "  df1.iloc[i] = df1.iloc[i]/listfinal[i] * s_n\n",
      "/var/folders/c1/dwx649nn3230kr15mzg_vhvc0000gn/T/ipykernel_19264/3247431560.py:5: FutureWarning: Setting an item of incompatible dtype is deprecated and will raise an error in a future version of pandas. Value '9.70873786407767' has dtype incompatible with int64, please explicitly cast to a compatible dtype first.\n",
      "  df1.iloc[i] = df1.iloc[i]/listfinal[i] * s_n\n",
      "/var/folders/c1/dwx649nn3230kr15mzg_vhvc0000gn/T/ipykernel_19264/3247431560.py:5: FutureWarning: Setting an item of incompatible dtype is deprecated and will raise an error in a future version of pandas. Value '43.689320388349515' has dtype incompatible with int64, please explicitly cast to a compatible dtype first.\n",
      "  df1.iloc[i] = df1.iloc[i]/listfinal[i] * s_n\n",
      "/var/folders/c1/dwx649nn3230kr15mzg_vhvc0000gn/T/ipykernel_19264/3247431560.py:5: FutureWarning: Setting an item of incompatible dtype is deprecated and will raise an error in a future version of pandas. Value '14.563106796116505' has dtype incompatible with int64, please explicitly cast to a compatible dtype first.\n",
      "  df1.iloc[i] = df1.iloc[i]/listfinal[i] * s_n\n",
      "/var/folders/c1/dwx649nn3230kr15mzg_vhvc0000gn/T/ipykernel_19264/3247431560.py:5: FutureWarning: Setting an item of incompatible dtype is deprecated and will raise an error in a future version of pandas. Value '121.35922330097088' has dtype incompatible with int64, please explicitly cast to a compatible dtype first.\n",
      "  df1.iloc[i] = df1.iloc[i]/listfinal[i] * s_n\n"
     ]
    },
    {
     "name": "stdout",
     "output_type": "stream",
     "text": [
      "Estimated parameters: a = 2.7156409428469366, b = 0.9203798659612583\n",
      "R-squared (R^2) value: 0.9083683585261985\n"
     ]
    },
    {
     "data": {
      "image/png": "[encoded data removed]",
      "text/plain": [
       "<Figure size 640x480 with 1 Axes>"
      ]
     },
     "metadata": {},
     "output_type": "display_data"
    },
    {
     "name": "stderr",
     "output_type": "stream",
     "text": [
      "/var/folders/c1/dwx649nn3230kr15mzg_vhvc0000gn/T/ipykernel_19264/3247431560.py:5: FutureWarning: Setting an item of incompatible dtype is deprecated and will raise an error in a future version of pandas. Value '78.34101382488478' has dtype incompatible with int64, please explicitly cast to a compatible dtype first.\n",
      "  df1.iloc[i] = df1.iloc[i]/listfinal[i] * s_n\n",
      "/var/folders/c1/dwx649nn3230kr15mzg_vhvc0000gn/T/ipykernel_19264/3247431560.py:5: FutureWarning: Setting an item of incompatible dtype is deprecated and will raise an error in a future version of pandas. Value '18.433179723502302' has dtype incompatible with int64, please explicitly cast to a compatible dtype first.\n",
      "  df1.iloc[i] = df1.iloc[i]/listfinal[i] * s_n\n",
      "/var/folders/c1/dwx649nn3230kr15mzg_vhvc0000gn/T/ipykernel_19264/3247431560.py:5: FutureWarning: Setting an item of incompatible dtype is deprecated and will raise an error in a future version of pandas. Value '188.9400921658986' has dtype incompatible with int64, please explicitly cast to a compatible dtype first.\n",
      "  df1.iloc[i] = df1.iloc[i]/listfinal[i] * s_n\n",
      "/var/folders/c1/dwx649nn3230kr15mzg_vhvc0000gn/T/ipykernel_19264/3247431560.py:5: FutureWarning: Setting an item of incompatible dtype is deprecated and will raise an error in a future version of pandas. Value '147.46543778801842' has dtype incompatible with int64, please explicitly cast to a compatible dtype first.\n",
      "  df1.iloc[i] = df1.iloc[i]/listfinal[i] * s_n\n",
      "/var/folders/c1/dwx649nn3230kr15mzg_vhvc0000gn/T/ipykernel_19264/3247431560.py:5: FutureWarning: Setting an item of incompatible dtype is deprecated and will raise an error in a future version of pandas. Value '156.68202764976957' has dtype incompatible with int64, please explicitly cast to a compatible dtype first.\n",
      "  df1.iloc[i] = df1.iloc[i]/listfinal[i] * s_n\n",
      "/var/folders/c1/dwx649nn3230kr15mzg_vhvc0000gn/T/ipykernel_19264/3247431560.py:5: FutureWarning: Setting an item of incompatible dtype is deprecated and will raise an error in a future version of pandas. Value '13.82488479262673' has dtype incompatible with int64, please explicitly cast to a compatible dtype first.\n",
      "  df1.iloc[i] = df1.iloc[i]/listfinal[i] * s_n\n",
      "/var/folders/c1/dwx649nn3230kr15mzg_vhvc0000gn/T/ipykernel_19264/3247431560.py:5: FutureWarning: Setting an item of incompatible dtype is deprecated and will raise an error in a future version of pandas. Value '110.59907834101384' has dtype incompatible with int64, please explicitly cast to a compatible dtype first.\n",
      "  df1.iloc[i] = df1.iloc[i]/listfinal[i] * s_n\n",
      "/var/folders/c1/dwx649nn3230kr15mzg_vhvc0000gn/T/ipykernel_19264/3247431560.py:5: FutureWarning: Setting an item of incompatible dtype is deprecated and will raise an error in a future version of pandas. Value '41.474654377880185' has dtype incompatible with int64, please explicitly cast to a compatible dtype first.\n",
      "  df1.iloc[i] = df1.iloc[i]/listfinal[i] * s_n\n",
      "/var/folders/c1/dwx649nn3230kr15mzg_vhvc0000gn/T/ipykernel_19264/3247431560.py:5: FutureWarning: Setting an item of incompatible dtype is deprecated and will raise an error in a future version of pandas. Value '55.29953917050692' has dtype incompatible with int64, please explicitly cast to a compatible dtype first.\n",
      "  df1.iloc[i] = df1.iloc[i]/listfinal[i] * s_n\n",
      "/var/folders/c1/dwx649nn3230kr15mzg_vhvc0000gn/T/ipykernel_19264/3247431560.py:5: FutureWarning: Setting an item of incompatible dtype is deprecated and will raise an error in a future version of pandas. Value '23.041474654377883' has dtype incompatible with int64, please explicitly cast to a compatible dtype first.\n",
      "  df1.iloc[i] = df1.iloc[i]/listfinal[i] * s_n\n",
      "/var/folders/c1/dwx649nn3230kr15mzg_vhvc0000gn/T/ipykernel_19264/3247431560.py:5: FutureWarning: Setting an item of incompatible dtype is deprecated and will raise an error in a future version of pandas. Value '32.25806451612903' has dtype incompatible with int64, please explicitly cast to a compatible dtype first.\n",
      "  df1.iloc[i] = df1.iloc[i]/listfinal[i] * s_n\n",
      "/var/folders/c1/dwx649nn3230kr15mzg_vhvc0000gn/T/ipykernel_19264/3247431560.py:5: FutureWarning: Setting an item of incompatible dtype is deprecated and will raise an error in a future version of pandas. Value '13.82488479262673' has dtype incompatible with int64, please explicitly cast to a compatible dtype first.\n",
      "  df1.iloc[i] = df1.iloc[i]/listfinal[i] * s_n\n",
      "/var/folders/c1/dwx649nn3230kr15mzg_vhvc0000gn/T/ipykernel_19264/3247431560.py:5: FutureWarning: Setting an item of incompatible dtype is deprecated and will raise an error in a future version of pandas. Value '119.81566820276497' has dtype incompatible with int64, please explicitly cast to a compatible dtype first.\n",
      "  df1.iloc[i] = df1.iloc[i]/listfinal[i] * s_n\n",
      "/var/folders/c1/dwx649nn3230kr15mzg_vhvc0000gn/T/ipykernel_19264/3247431560.py:5: FutureWarning: Setting an item of incompatible dtype is deprecated and will raise an error in a future version of pandas. Value '78.34101382488478' has dtype incompatible with int64, please explicitly cast to a compatible dtype first.\n",
      "  df1.iloc[i] = df1.iloc[i]/listfinal[i] * s_n\n",
      "/var/folders/c1/dwx649nn3230kr15mzg_vhvc0000gn/T/ipykernel_19264/3247431560.py:5: FutureWarning: Setting an item of incompatible dtype is deprecated and will raise an error in a future version of pandas. Value '18.433179723502302' has dtype incompatible with int64, please explicitly cast to a compatible dtype first.\n",
      "  df1.iloc[i] = df1.iloc[i]/listfinal[i] * s_n\n",
      "/var/folders/c1/dwx649nn3230kr15mzg_vhvc0000gn/T/ipykernel_19264/3247431560.py:5: FutureWarning: Setting an item of incompatible dtype is deprecated and will raise an error in a future version of pandas. Value '188.9400921658986' has dtype incompatible with int64, please explicitly cast to a compatible dtype first.\n",
      "  df1.iloc[i] = df1.iloc[i]/listfinal[i] * s_n\n",
      "/var/folders/c1/dwx649nn3230kr15mzg_vhvc0000gn/T/ipykernel_19264/3247431560.py:5: FutureWarning: Setting an item of incompatible dtype is deprecated and will raise an error in a future version of pandas. Value '147.46543778801842' has dtype incompatible with int64, please explicitly cast to a compatible dtype first.\n",
      "  df1.iloc[i] = df1.iloc[i]/listfinal[i] * s_n\n",
      "/var/folders/c1/dwx649nn3230kr15mzg_vhvc0000gn/T/ipykernel_19264/3247431560.py:5: FutureWarning: Setting an item of incompatible dtype is deprecated and will raise an error in a future version of pandas. Value '156.68202764976957' has dtype incompatible with int64, please explicitly cast to a compatible dtype first.\n",
      "  df1.iloc[i] = df1.iloc[i]/listfinal[i] * s_n\n",
      "/var/folders/c1/dwx649nn3230kr15mzg_vhvc0000gn/T/ipykernel_19264/3247431560.py:5: FutureWarning: Setting an item of incompatible dtype is deprecated and will raise an error in a future version of pandas. Value '13.82488479262673' has dtype incompatible with int64, please explicitly cast to a compatible dtype first.\n",
      "  df1.iloc[i] = df1.iloc[i]/listfinal[i] * s_n\n",
      "/var/folders/c1/dwx649nn3230kr15mzg_vhvc0000gn/T/ipykernel_19264/3247431560.py:5: FutureWarning: Setting an item of incompatible dtype is deprecated and will raise an error in a future version of pandas. Value '110.59907834101384' has dtype incompatible with int64, please explicitly cast to a compatible dtype first.\n",
      "  df1.iloc[i] = df1.iloc[i]/listfinal[i] * s_n\n",
      "/var/folders/c1/dwx649nn3230kr15mzg_vhvc0000gn/T/ipykernel_19264/3247431560.py:5: FutureWarning: Setting an item of incompatible dtype is deprecated and will raise an error in a future version of pandas. Value '41.474654377880185' has dtype incompatible with int64, please explicitly cast to a compatible dtype first.\n",
      "  df1.iloc[i] = df1.iloc[i]/listfinal[i] * s_n\n",
      "/var/folders/c1/dwx649nn3230kr15mzg_vhvc0000gn/T/ipykernel_19264/3247431560.py:5: FutureWarning: Setting an item of incompatible dtype is deprecated and will raise an error in a future version of pandas. Value '55.29953917050692' has dtype incompatible with int64, please explicitly cast to a compatible dtype first.\n",
      "  df1.iloc[i] = df1.iloc[i]/listfinal[i] * s_n\n",
      "/var/folders/c1/dwx649nn3230kr15mzg_vhvc0000gn/T/ipykernel_19264/3247431560.py:5: FutureWarning: Setting an item of incompatible dtype is deprecated and will raise an error in a future version of pandas. Value '23.041474654377883' has dtype incompatible with int64, please explicitly cast to a compatible dtype first.\n",
      "  df1.iloc[i] = df1.iloc[i]/listfinal[i] * s_n\n",
      "/var/folders/c1/dwx649nn3230kr15mzg_vhvc0000gn/T/ipykernel_19264/3247431560.py:5: FutureWarning: Setting an item of incompatible dtype is deprecated and will raise an error in a future version of pandas. Value '32.25806451612903' has dtype incompatible with int64, please explicitly cast to a compatible dtype first.\n",
      "  df1.iloc[i] = df1.iloc[i]/listfinal[i] * s_n\n",
      "/var/folders/c1/dwx649nn3230kr15mzg_vhvc0000gn/T/ipykernel_19264/3247431560.py:5: FutureWarning: Setting an item of incompatible dtype is deprecated and will raise an error in a future version of pandas. Value '13.82488479262673' has dtype incompatible with int64, please explicitly cast to a compatible dtype first.\n",
      "  df1.iloc[i] = df1.iloc[i]/listfinal[i] * s_n\n",
      "/var/folders/c1/dwx649nn3230kr15mzg_vhvc0000gn/T/ipykernel_19264/3247431560.py:5: FutureWarning: Setting an item of incompatible dtype is deprecated and will raise an error in a future version of pandas. Value '119.81566820276497' has dtype incompatible with int64, please explicitly cast to a compatible dtype first.\n",
      "  df1.iloc[i] = df1.iloc[i]/listfinal[i] * s_n\n"
     ]
    },
    {
     "name": "stdout",
     "output_type": "stream",
     "text": [
      "Estimated parameters: a = 2.1693370346252805, b = 1.0196174509223592\n",
      "R-squared (R^2) value: 0.847941746380415\n"
     ]
    },
    {
     "data": {
      "image/png": "[encoded data removed]",
      "text/plain": [
       "<Figure size 640x480 with 1 Axes>"
      ]
     },
     "metadata": {},
     "output_type": "display_data"
    }
   ],
   "source": [
    "lse(1,4)\n",
    "lse(1,8)\n",
    "lse(2,4)\n",
    "lse(2,8)"
   ]
  },
  {
   "cell_type": "code",
   "execution_count": null,
   "metadata": {},
   "outputs": [],
   "source": []
  }
 ],
 "metadata": {
  "kernelspec": {
   "display_name": "base",
   "language": "python",
   "name": "python3"
  },
  "language_info": {
   "codemirror_mode": {
    "name": "ipython",
    "version": 3
   },
   "file_extension": ".py",
   "mimetype": "text/x-python",
   "name": "python",
   "nbconvert_exporter": "python",
   "pygments_lexer": "ipython3",
   "version": "3.11.5"
  }
 },
 "nbformat": 4,
 "nbformat_minor": 2
}
