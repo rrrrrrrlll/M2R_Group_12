{
 "cells": [
  {
   "cell_type": "code",
   "execution_count": 191,
   "metadata": {},
   "outputs": [],
   "source": [
    "import numpy as np\n",
    "import matplotlib.pyplot as plt\n",
    "import seaborn as sns\n",
    "import pandas as pd\n",
    "import arviz as az\n",
    "import pymc as pm\n",
    "import corner\n",
    "import scipy.stats as st\n",
    "from statistics import mean, stdev\n",
    "from collections import Counter\n",
    "from math import floor,ceil"
   ]
  },
  {
   "cell_type": "code",
   "execution_count": 197,
   "metadata": {},
   "outputs": [
    {
     "data": {
      "text/plain": [
       "['MT-ND1',\n",
       " 'MT-ND2',\n",
       " 'MT-ND3',\n",
       " 'MT-ND4',\n",
       " 'MT-ND4L',\n",
       " 'MT-ND5',\n",
       " 'MT-ND6',\n",
       " 'MT-CO1',\n",
       " 'MT-CO2',\n",
       " 'MT-CO3',\n",
       " 'MT-ATP6',\n",
       " 'MT-ATP8',\n",
       " 'MT-CYB']"
      ]
     },
     "execution_count": 197,
     "metadata": {},
     "output_type": "execute_result"
    }
   ],
   "source": [
    "file_path = 'Datasets/mt_genes_metadata.csv'\n",
    "\n",
    "met = pd.read_csv(file_path)\n",
    "\n",
    "pro_code=met[met['gene_type']=='protein_coding']\n",
    "intpro=pro_code['gene_name'].tolist()\n",
    "intpro=['MT-ND1','MT-ND2','MT-ND3','MT-ND4','MT-ND4L','MT-ND5','MT-ND6', 'MT-CO1', 'MT-CO2','MT-CO3', 'MT-ATP6', 'MT-ATP8', 'MT-CYB']\n",
    "intpro"
   ]
  },
  {
   "cell_type": "code",
   "execution_count": 198,
   "metadata": {},
   "outputs": [],
   "source": [
    "file_path = 'Datasets/Donor1_CD4_Genes.csv'\n",
    "\n",
    "p14 = pd.read_csv(file_path)\n",
    "\n",
    "p14.drop(columns=p14.columns[0], axis=1, inplace=True)\n",
    "\n",
    "p14_int=pd.DataFrame([p14[i] for i in intpro]).T"
   ]
  },
  {
   "cell_type": "code",
   "execution_count": 199,
   "metadata": {},
   "outputs": [],
   "source": [
    "p14n=len(p14_int)\n",
    "#p18n=len(p18_int)\n",
    "#p24n=len(p24_int)\n",
    "#p28n=len(p28_int)"
   ]
  },
  {
   "cell_type": "code",
   "execution_count": 200,
   "metadata": {},
   "outputs": [],
   "source": [
    "p14=p14.drop(p14[p14_int.sum(axis=1)==0].index)\n",
    "p14.index=range(len(p14))\n",
    "\n",
    "p14_int=p14.drop(p14_int[p14_int.sum(axis=1)==0].index)\n",
    "p14_int=pd.DataFrame([p14_int[i] for i in intpro]).T\n",
    "p14_int.index=range(len(p14_int))\n"
   ]
  },
  {
   "cell_type": "code",
   "execution_count": 201,
   "metadata": {},
   "outputs": [],
   "source": [
    "p14_intsampto=p14_int.sum(axis=1)\n",
    "#p18_intsampto=p18_int.sum(axis=1)\n",
    "#p24_intsampto=p24_int.sum(axis=1)\n",
    "#p28_intsampto=p28_int.sum(axis=1)\n",
    "\n",
    "#Calculates the number of genes for each DNA\n",
    "p14_allsampto=p14.sum(axis=1)\n",
    "#p18_allsampto=p18.sum(axis=1)\n",
    "#p24_allsampto=p24.sum(axis=1)\n",
    "#p28_allsampto=p28.sum(axis=1)"
   ]
  },
  {
   "cell_type": "code",
   "execution_count": 202,
   "metadata": {},
   "outputs": [],
   "source": [
    "p14_n1=p14_int.copy(deep=True)\n",
    "#p18_n1=p18_int.copy(deep=True)\n",
    "#p24_n1=p24_int.copy(deep=True)\n",
    "#p28_n1=p28_int.copy(deep=True)\n",
    "\n",
    "p14_n2=p14.copy(deep=True)\n",
    "#p18_n2=p18_int.copy(deep=True)\n",
    "#p24_n2=p24_int.copy(deep=True)\n",
    "#p28_n2=p28_int.copy(deep=True)"
   ]
  },
  {
   "cell_type": "code",
   "execution_count": 203,
   "metadata": {},
   "outputs": [
    {
     "name": "stderr",
     "output_type": "stream",
     "text": [
      "C:\\Users\\lizar\\AppData\\Local\\Temp\\ipykernel_30520\\2469847887.py:6: FutureWarning: Setting an item of incompatible dtype is deprecated and will raise an error in a future version of pandas. Value '5.47945205479452' has dtype incompatible with int64, please explicitly cast to a compatible dtype first.\n",
      "  p14_n1.loc[i,j]=p14_n1[j][i]/norm_cons\n",
      "C:\\Users\\lizar\\AppData\\Local\\Temp\\ipykernel_30520\\2469847887.py:6: FutureWarning: Setting an item of incompatible dtype is deprecated and will raise an error in a future version of pandas. Value '1.3157894736842106' has dtype incompatible with int64, please explicitly cast to a compatible dtype first.\n",
      "  p14_n1.loc[i,j]=p14_n1[j][i]/norm_cons\n",
      "C:\\Users\\lizar\\AppData\\Local\\Temp\\ipykernel_30520\\2469847887.py:6: FutureWarning: Setting an item of incompatible dtype is deprecated and will raise an error in a future version of pandas. Value '2.6666666666666665' has dtype incompatible with int64, please explicitly cast to a compatible dtype first.\n",
      "  p14_n1.loc[i,j]=p14_n1[j][i]/norm_cons\n",
      "C:\\Users\\lizar\\AppData\\Local\\Temp\\ipykernel_30520\\2469847887.py:6: FutureWarning: Setting an item of incompatible dtype is deprecated and will raise an error in a future version of pandas. Value '2.212389380530974' has dtype incompatible with int64, please explicitly cast to a compatible dtype first.\n",
      "  p14_n1.loc[i,j]=p14_n1[j][i]/norm_cons\n",
      "C:\\Users\\lizar\\AppData\\Local\\Temp\\ipykernel_30520\\2469847887.py:6: FutureWarning: Setting an item of incompatible dtype is deprecated and will raise an error in a future version of pandas. Value '9.47867298578199' has dtype incompatible with int64, please explicitly cast to a compatible dtype first.\n",
      "  p14_n1.loc[i,j]=p14_n1[j][i]/norm_cons\n",
      "C:\\Users\\lizar\\AppData\\Local\\Temp\\ipykernel_30520\\2469847887.py:6: FutureWarning: Setting an item of incompatible dtype is deprecated and will raise an error in a future version of pandas. Value '3.1249999999999996' has dtype incompatible with int64, please explicitly cast to a compatible dtype first.\n",
      "  p14_n1.loc[i,j]=p14_n1[j][i]/norm_cons\n",
      "C:\\Users\\lizar\\AppData\\Local\\Temp\\ipykernel_30520\\2469847887.py:6: FutureWarning: Setting an item of incompatible dtype is deprecated and will raise an error in a future version of pandas. Value '3.1249999999999996' has dtype incompatible with int64, please explicitly cast to a compatible dtype first.\n",
      "  p14_n1.loc[i,j]=p14_n1[j][i]/norm_cons\n",
      "C:\\Users\\lizar\\AppData\\Local\\Temp\\ipykernel_30520\\2469847887.py:6: FutureWarning: Setting an item of incompatible dtype is deprecated and will raise an error in a future version of pandas. Value '11.057692307692307' has dtype incompatible with int64, please explicitly cast to a compatible dtype first.\n",
      "  p14_n1.loc[i,j]=p14_n1[j][i]/norm_cons\n",
      "C:\\Users\\lizar\\AppData\\Local\\Temp\\ipykernel_30520\\2469847887.py:6: FutureWarning: Setting an item of incompatible dtype is deprecated and will raise an error in a future version of pandas. Value '29.775280898876403' has dtype incompatible with int64, please explicitly cast to a compatible dtype first.\n",
      "  p14_n1.loc[i,j]=p14_n1[j][i]/norm_cons\n",
      "C:\\Users\\lizar\\AppData\\Local\\Temp\\ipykernel_30520\\2469847887.py:6: FutureWarning: Setting an item of incompatible dtype is deprecated and will raise an error in a future version of pandas. Value '19.689119170984455' has dtype incompatible with int64, please explicitly cast to a compatible dtype first.\n",
      "  p14_n1.loc[i,j]=p14_n1[j][i]/norm_cons\n",
      "C:\\Users\\lizar\\AppData\\Local\\Temp\\ipykernel_30520\\2469847887.py:6: FutureWarning: Setting an item of incompatible dtype is deprecated and will raise an error in a future version of pandas. Value '1.3157894736842106' has dtype incompatible with int64, please explicitly cast to a compatible dtype first.\n",
      "  p14_n1.loc[i,j]=p14_n1[j][i]/norm_cons\n",
      "C:\\Users\\lizar\\AppData\\Local\\Temp\\ipykernel_30520\\2469847887.py:6: FutureWarning: Setting an item of incompatible dtype is deprecated and will raise an error in a future version of pandas. Value '17.258883248730964' has dtype incompatible with int64, please explicitly cast to a compatible dtype first.\n",
      "  p14_n1.loc[i,j]=p14_n1[j][i]/norm_cons\n",
      "C:\\Users\\lizar\\AppData\\Local\\Temp\\ipykernel_30520\\2469847887.py:6: FutureWarning: Setting an item of incompatible dtype is deprecated and will raise an error in a future version of pandas. Value '9.47867298578199' has dtype incompatible with int64, please explicitly cast to a compatible dtype first.\n",
      "  p14_n1.loc[i,j]=p14_n1[j][i]/norm_cons\n"
     ]
    }
   ],
   "source": [
    "r=100\n",
    "p14_n1_len=len(p14_n1)\n",
    "for j in intpro:\n",
    "    for i in p14_n1.index: \n",
    "            norm_cons=(p14_intsampto[i]-p14_n1.loc[i,j])/r #inidividual normalisation constant\n",
    "            p14_n1.loc[i,j]=p14_n1[j][i]/norm_cons"
   ]
  },
  {
   "cell_type": "code",
   "execution_count": 204,
   "metadata": {},
   "outputs": [
    {
     "name": "stderr",
     "output_type": "stream",
     "text": [
      "C:\\Users\\lizar\\AppData\\Local\\Temp\\ipykernel_30520\\2979221777.py:6: FutureWarning: Setting an item of incompatible dtype is deprecated and will raise an error in a future version of pandas. Value '7.817589576547232' has dtype incompatible with int64, please explicitly cast to a compatible dtype first.\n",
      "  p14_n2.loc[i,j]=p14_n2[j][i]/norm_cons\n",
      "C:\\Users\\lizar\\AppData\\Local\\Temp\\ipykernel_30520\\2979221777.py:6: FutureWarning: Setting an item of incompatible dtype is deprecated and will raise an error in a future version of pandas. Value '1.9430051813471503' has dtype incompatible with int64, please explicitly cast to a compatible dtype first.\n",
      "  p14_n2.loc[i,j]=p14_n2[j][i]/norm_cons\n",
      "C:\\Users\\lizar\\AppData\\Local\\Temp\\ipykernel_30520\\2979221777.py:6: FutureWarning: Setting an item of incompatible dtype is deprecated and will raise an error in a future version of pandas. Value '3.893575600259572' has dtype incompatible with int64, please explicitly cast to a compatible dtype first.\n",
      "  p14_n2.loc[i,j]=p14_n2[j][i]/norm_cons\n",
      "C:\\Users\\lizar\\AppData\\Local\\Temp\\ipykernel_30520\\2979221777.py:6: FutureWarning: Setting an item of incompatible dtype is deprecated and will raise an error in a future version of pandas. Value '3.2425421530479897' has dtype incompatible with int64, please explicitly cast to a compatible dtype first.\n",
      "  p14_n2.loc[i,j]=p14_n2[j][i]/norm_cons\n",
      "C:\\Users\\lizar\\AppData\\Local\\Temp\\ipykernel_30520\\2979221777.py:6: FutureWarning: Setting an item of incompatible dtype is deprecated and will raise an error in a future version of pandas. Value '13.097576948264571' has dtype incompatible with int64, please explicitly cast to a compatible dtype first.\n",
      "  p14_n2.loc[i,j]=p14_n2[j][i]/norm_cons\n",
      "C:\\Users\\lizar\\AppData\\Local\\Temp\\ipykernel_30520\\2979221777.py:6: FutureWarning: Setting an item of incompatible dtype is deprecated and will raise an error in a future version of pandas. Value '4.545454545454545' has dtype incompatible with int64, please explicitly cast to a compatible dtype first.\n",
      "  p14_n2.loc[i,j]=p14_n2[j][i]/norm_cons\n",
      "C:\\Users\\lizar\\AppData\\Local\\Temp\\ipykernel_30520\\2979221777.py:6: FutureWarning: Setting an item of incompatible dtype is deprecated and will raise an error in a future version of pandas. Value '4.545454545454545' has dtype incompatible with int64, please explicitly cast to a compatible dtype first.\n",
      "  p14_n2.loc[i,j]=p14_n2[j][i]/norm_cons\n",
      "C:\\Users\\lizar\\AppData\\Local\\Temp\\ipykernel_30520\\2979221777.py:6: FutureWarning: Setting an item of incompatible dtype is deprecated and will raise an error in a future version of pandas. Value '15.091863517060368' has dtype incompatible with int64, please explicitly cast to a compatible dtype first.\n",
      "  p14_n2.loc[i,j]=p14_n2[j][i]/norm_cons\n",
      "C:\\Users\\lizar\\AppData\\Local\\Temp\\ipykernel_30520\\2979221777.py:6: FutureWarning: Setting an item of incompatible dtype is deprecated and will raise an error in a future version of pandas. Value '35.475234270414994' has dtype incompatible with int64, please explicitly cast to a compatible dtype first.\n",
      "  p14_n2.loc[i,j]=p14_n2[j][i]/norm_cons\n",
      "C:\\Users\\lizar\\AppData\\Local\\Temp\\ipykernel_30520\\2979221777.py:6: FutureWarning: Setting an item of incompatible dtype is deprecated and will raise an error in a future version of pandas. Value '25.182239893969516' has dtype incompatible with int64, please explicitly cast to a compatible dtype first.\n",
      "  p14_n2.loc[i,j]=p14_n2[j][i]/norm_cons\n",
      "C:\\Users\\lizar\\AppData\\Local\\Temp\\ipykernel_30520\\2979221777.py:6: FutureWarning: Setting an item of incompatible dtype is deprecated and will raise an error in a future version of pandas. Value '1.9430051813471503' has dtype incompatible with int64, please explicitly cast to a compatible dtype first.\n",
      "  p14_n2.loc[i,j]=p14_n2[j][i]/norm_cons\n",
      "C:\\Users\\lizar\\AppData\\Local\\Temp\\ipykernel_30520\\2979221777.py:6: FutureWarning: Setting an item of incompatible dtype is deprecated and will raise an error in a future version of pandas. Value '22.471910112359552' has dtype incompatible with int64, please explicitly cast to a compatible dtype first.\n",
      "  p14_n2.loc[i,j]=p14_n2[j][i]/norm_cons\n",
      "C:\\Users\\lizar\\AppData\\Local\\Temp\\ipykernel_30520\\2979221777.py:6: FutureWarning: Setting an item of incompatible dtype is deprecated and will raise an error in a future version of pandas. Value '13.097576948264571' has dtype incompatible with int64, please explicitly cast to a compatible dtype first.\n",
      "  p14_n2.loc[i,j]=p14_n2[j][i]/norm_cons\n"
     ]
    }
   ],
   "source": [
    "r=1000\n",
    "p14_n2_len=len(p14_n2)\n",
    "for j in intpro:\n",
    "    for i in p14_n2.index: \n",
    "            norm_cons=(p14_allsampto[i]-p14_n2.loc[i,j])/r #inidividual normalisation constant\n",
    "            p14_n2.loc[i,j]=p14_n2[j][i]/norm_cons"
   ]
  },
  {
   "cell_type": "markdown",
   "metadata": {},
   "source": [
    "Calculating UEM of proportion parameter at r=100 and r=1000"
   ]
  },
  {
   "cell_type": "code",
   "execution_count": null,
   "metadata": {},
   "outputs": [],
   "source": [
    "r=100\n",
    "uem14_list_n1=[]\n",
    "for j in intpro:\n",
    "    uem_sample_list=[]\n",
    "    for i in range(p14_n1_len):   \n",
    "        x=p14_n1[j][i]\n",
    "        uem=(r-1)/(x+r-1)\n",
    "        uem_sample_list.append(uem)\n",
    "    uem14_list_n1.append(mean(uem_sample_list))\n",
    "    #the following plots the distribution of the UEM \n",
    "    fig, ax = plt.subplots(1, 1) \n",
    "    ax.set_title('pat1_4'+''+j)\n",
    "    ax.hist(uem_sample_list,bins=100)\n",
    "    ax.axvline(mean(uem_sample_list), color='pink')\n",
    "    plt.show()\n",
    "uem14_list_n1=dict(zip(intpro,uem14_list_n1))"
   ]
  },
  {
   "cell_type": "code",
   "execution_count": 206,
   "metadata": {},
   "outputs": [
    {
     "data": {
      "image/png": "[encoded data removed]",
      "text/plain": [
       "<Figure size 640x480 with 1 Axes>"
      ]
     },
     "metadata": {},
     "output_type": "display_data"
    },
    {
     "data": {
      "image/png": "[encoded data removed]",
      "text/plain": [
       "<Figure size 640x480 with 1 Axes>"
      ]
     },
     "metadata": {},
     "output_type": "display_data"
    },
    {
     "data": {
      "image/png": "[encoded data removed]",
      "text/plain": [
       "<Figure size 640x480 with 1 Axes>"
      ]
     },
     "metadata": {},
     "output_type": "display_data"
    },
    {
     "data": {
      "image/png": "[encoded data removed]",
      "text/plain": [
       "<Figure size 640x480 with 1 Axes>"
      ]
     },
     "metadata": {},
     "output_type": "display_data"
    },
    {
     "data": {
      "image/png": "[encoded data removed]",
      "text/plain": [
       "<Figure size 640x480 with 1 Axes>"
      ]
     },
     "metadata": {},
     "output_type": "display_data"
    },
    {
     "data": {
      "image/png": "[encoded data removed]",
      "text/plain": [
       "<Figure size 640x480 with 1 Axes>"
      ]
     },
     "metadata": {},
     "output_type": "display_data"
    },
    {
     "data": {
      "image/png": "[encoded data removed]",
      "text/plain": [
       "<Figure size 640x480 with 1 Axes>"
      ]
     },
     "metadata": {},
     "output_type": "display_data"
    },
    {
     "data": {
      "image/png": "[encoded data removed]",
      "text/plain": [
       "<Figure size 640x480 with 1 Axes>"
      ]
     },
     "metadata": {},
     "output_type": "display_data"
    },
    {
     "data": {
      "image/png": "[encoded data removed]",
      "text/plain": [
       "<Figure size 640x480 with 1 Axes>"
      ]
     },
     "metadata": {},
     "output_type": "display_data"
    },
    {
     "data": {
      "image/png": "[encoded data removed]",
      "text/plain": [
       "<Figure size 640x480 with 1 Axes>"
      ]
     },
     "metadata": {},
     "output_type": "display_data"
    },
    {
     "data": {
      "image/png": "[encoded data removed]",
      "text/plain": [
       "<Figure size 640x480 with 1 Axes>"
      ]
     },
     "metadata": {},
     "output_type": "display_data"
    },
    {
     "data": {
      "image/png": "[encoded data removed]",
      "text/plain": [
       "<Figure size 640x480 with 1 Axes>"
      ]
     },
     "metadata": {},
     "output_type": "display_data"
    },
    {
     "data": {
      "image/png": "[encoded data removed]",
      "text/plain": [
       "<Figure size 640x480 with 1 Axes>"
      ]
     },
     "metadata": {},
     "output_type": "display_data"
    }
   ],
   "source": [
    "r=1000\n",
    "uem14_list_n2=[]\n",
    "for j in intpro:\n",
    "    uem_sample_list=[]\n",
    "    for i in range(p14_n2_len):   \n",
    "        x=p14_n2[j][i]\n",
    "        uem=(r-1)/(x+r-1)\n",
    "        uem_sample_list.append(uem)\n",
    "    uem14_list_n2.append(mean(uem_sample_list))\n",
    "    #the following plots the distribution of the UEM \n",
    "    fig, ax = plt.subplots(1, 1) \n",
    "    ax.set_title('pat1_4'+''+j)\n",
    "    ax.hist(uem_sample_list,bins=100)\n",
    "    ax.axvline(mean(uem_sample_list), color='pink')\n",
    "    plt.show()\n",
    "uem14_list_n2=dict(zip(intpro,uem14_list_n2))"
   ]
  },
  {
   "cell_type": "code",
   "execution_count": 212,
   "metadata": {},
   "outputs": [
    {
     "data": {
      "text/plain": [
       "13"
      ]
     },
     "execution_count": 212,
     "metadata": {},
     "output_type": "execute_result"
    }
   ],
   "source": [
    "len(uem14_list_n2)"
   ]
  },
  {
   "cell_type": "markdown",
   "metadata": {},
   "source": [
    "Some functions for the χ² tests"
   ]
  },
  {
   "cell_type": "code",
   "execution_count": 218,
   "metadata": {},
   "outputs": [],
   "source": [
    "#df=dataframe, index_list=list of names of the 13 genes, lam = parameter for the poisson \n",
    "def expected_count_nbi(df, index_list, prob,r=100):\n",
    "    expected_vals=[] #frequency\n",
    "    expected_ranges=[] #corresponding ranges\n",
    "    n=len(df)\n",
    "    for j in index_list:\n",
    "        li=[]\n",
    "        ind=[]\n",
    "        p=prob[j]\n",
    "        m=floor(min(df[j]))\n",
    "        M=ceil(max(df[j]))\n",
    "        low=m\n",
    "        upp=m+1\n",
    "        if m==0:\n",
    "            coun=n*st.nbinom.cdf(m+1,r,p) \n",
    "        else: \n",
    "            coun=n*(st.nbinom.cdf(m+1,r,p)-st.nbinom.cdf(m-1,r,p))\n",
    "        if coun>=5:\n",
    "            ind.append([low,upp])\n",
    "            li.append(coun)\n",
    "            low=upp\n",
    "            upp+=1\n",
    "            coun=0\n",
    "        else:\n",
    "            pass\n",
    "        for i in range(m+1,M-1,1):\n",
    "            coun+=n*(st.nbinom.cdf(i+1,r,p)-st.nbinom.cdf(i,r,p))\n",
    "            if coun>=5: \n",
    "                upp=i+1\n",
    "                ind.append([low,upp])\n",
    "                li.append(coun)\n",
    "                coun=0\n",
    "                low=upp\n",
    "            else:\n",
    "                pass\n",
    "        upp=M\n",
    "        coun+=n*(st.nbinom.cdf(M,r,p)-st.nbinom.cdf(M-1,r,p))\n",
    "        if coun>=5:\n",
    "            ind.append([low,upp])\n",
    "            li.append(coun)\n",
    "        else:\n",
    "            li[-1]=li[-1]+coun\n",
    "            ind[-1][1]=upp\n",
    "        expected_vals.append(li)\n",
    "        expected_ranges.append(ind)\n",
    "    expected_vals=dict(zip(intpro,expected_vals))\n",
    "    expected_ranges=dict(zip(intpro,expected_ranges))\n",
    "    return (expected_vals,expected_ranges)\n",
    "\n",
    "def ex_vals_nbi(df, index_list, prob,r=100):\n",
    "    return expected_count_nbi(df, index_list, prob,r)[0]\n",
    "\n",
    "def ex_range_nbi(df, index_list, prob,r=100):\n",
    "    return expected_count_nbi(df, index_list, prob,r)[1]"
   ]
  },
  {
   "cell_type": "code",
   "execution_count": 219,
   "metadata": {},
   "outputs": [
    {
     "data": {
      "text/plain": [
       "{'MT-ND1': [1344.7405653290748,\n",
       "  771.5283161347618,\n",
       "  460.6467172406042,\n",
       "  206.48027316392134,\n",
       "  74.11599074439901,\n",
       "  22.19199641799442,\n",
       "  7.296140969244048],\n",
       " 'MT-ND2': [2061.046507851216,\n",
       "  561.3441985744827,\n",
       "  198.42831610987542,\n",
       "  52.65899060751532,\n",
       "  13.521982054913158],\n",
       " 'MT-ND3': [1828.887738484485,\n",
       "  657.5964997003682,\n",
       "  281.0831354189035,\n",
       "  90.19958943126515,\n",
       "  23.179128274549925,\n",
       "  6.053908690243809],\n",
       " 'MT-ND4': [2371.98317438919,\n",
       "  392.42716531387407,\n",
       "  100.07257055237837,\n",
       "  22.51708779017274],\n",
       " 'MT-ND4L': [583.3386190264746,\n",
       "  649.9979803137463,\n",
       "  645.8115464069541,\n",
       "  481.71933550972136,\n",
       "  287.7432327571799,\n",
       "  143.37296324328614,\n",
       "  61.293515842158484,\n",
       "  22.950986025925864,\n",
       "  10.771820874553208],\n",
       " 'MT-ND5': [1950.9913675266835,\n",
       "  610.1797544250616,\n",
       "  236.90581552118542,\n",
       "  69.05388620453343,\n",
       "  19.8691628675315],\n",
       " 'MT-ND6': [2816.7386071053857, 64.77606015610934, 5.485332113494244],\n",
       " 'MT-CO1': [168.4507873973148,\n",
       "  313.9700175485071,\n",
       "  476.47165347084206,\n",
       "  542.8507404019198,\n",
       "  495.27518326172964,\n",
       "  376.9326893297202,\n",
       "  246.13091611131418,\n",
       "  140.76934054449836,\n",
       "  71.63553738038095,\n",
       "  32.84143412809915,\n",
       "  13.701030298805922,\n",
       "  7.970670126867778],\n",
       " 'MT-CO2': [10.457679122452593,\n",
       "  35.983076658196836,\n",
       "  93.270003359361,\n",
       "  181.50147788305276,\n",
       "  282.84018046310297,\n",
       "  367.66572769675935,\n",
       "  410.06275091697376,\n",
       "  400.5779465719332,\n",
       "  348.17877276059266,\n",
       "  272.6406998938891,\n",
       "  194.27486155153323,\n",
       "  127.02340468852788,\n",
       "  76.73935435934243,\n",
       "  43.092013001387045,\n",
       "  22.606884199084462,\n",
       "  11.129713908152864,\n",
       "  8.955452965657821],\n",
       " 'MT-CO3': [45.2871330640765,\n",
       "  118.69673679064454,\n",
       "  241.66613420624793,\n",
       "  369.39182966227844,\n",
       "  452.1489664808614,\n",
       "  461.66494863537616,\n",
       "  404.44306399985123,\n",
       "  310.3326172243324,\n",
       "  211.87318511556373,\n",
       "  130.31599080020194,\n",
       "  72.93852014440773,\n",
       "  37.45910578950561,\n",
       "  17.77563461918025,\n",
       "  7.840379293860678,\n",
       "  5.165754173611411],\n",
       " 'MT-ATP6': [2636.1783849449234, 211.6056129066334, 39.21599370422014],\n",
       " 'MT-ATP8': [190.9974576097357,\n",
       "  341.86687577749296,\n",
       "  501.3485648314044,\n",
       "  551.971944281799,\n",
       "  486.6503034571704,\n",
       "  357.9052723131885,\n",
       "  225.84179809522507,\n",
       "  124.81882575711118,\n",
       "  61.38106245307778,\n",
       "  27.193296236855048,\n",
       "  10.962934733055468,\n",
       "  6.0616644538844],\n",
       " 'MT-CYB': [138.88988042748534,\n",
       "  274.56689541529823,\n",
       "  438.046649750853,\n",
       "  524.6709611451448,\n",
       "  503.24151343135463,\n",
       "  402.64007136973044,\n",
       "  276.40294009279506,\n",
       "  166.19113930854317,\n",
       "  88.9102048790996,\n",
       "  42.85174387591772,\n",
       "  18.794159676696925,\n",
       "  11.79384062708097]}"
      ]
     },
     "execution_count": 219,
     "metadata": {},
     "output_type": "execute_result"
    }
   ],
   "source": [
    "ex_vals_nbi(p14_n2,intpro,uem14_list_n2,r=1000)"
   ]
  },
  {
   "cell_type": "code",
   "execution_count": 220,
   "metadata": {},
   "outputs": [
    {
     "data": {
      "text/plain": [
       "{'MT-ND1': [[0, 1], [1, 2], [2, 3], [3, 4], [4, 5], [5, 6], [6, 21]],\n",
       " 'MT-ND2': [[0, 1], [1, 2], [2, 3], [3, 4], [4, 11]],\n",
       " 'MT-ND3': [[0, 1], [1, 2], [2, 3], [3, 4], [4, 5], [5, 16]],\n",
       " 'MT-ND4': [[0, 1], [1, 2], [2, 3], [3, 10]],\n",
       " 'MT-ND4L': [[0, 1],\n",
       "  [1, 2],\n",
       "  [2, 3],\n",
       "  [3, 4],\n",
       "  [4, 5],\n",
       "  [5, 6],\n",
       "  [6, 7],\n",
       "  [7, 8],\n",
       "  [8, 29]],\n",
       " 'MT-ND5': [[0, 1], [1, 2], [2, 3], [3, 4], [4, 11]],\n",
       " 'MT-ND6': [[0, 1], [1, 2], [2, 7]],\n",
       " 'MT-CO1': [[0, 1],\n",
       "  [1, 2],\n",
       "  [2, 3],\n",
       "  [3, 4],\n",
       "  [4, 5],\n",
       "  [5, 6],\n",
       "  [6, 7],\n",
       "  [7, 8],\n",
       "  [8, 9],\n",
       "  [9, 10],\n",
       "  [10, 11],\n",
       "  [11, 55]],\n",
       " 'MT-CO2': [[0, 1],\n",
       "  [1, 2],\n",
       "  [2, 3],\n",
       "  [3, 4],\n",
       "  [4, 5],\n",
       "  [5, 6],\n",
       "  [6, 7],\n",
       "  [7, 8],\n",
       "  [8, 9],\n",
       "  [9, 10],\n",
       "  [10, 11],\n",
       "  [11, 12],\n",
       "  [12, 13],\n",
       "  [13, 14],\n",
       "  [14, 15],\n",
       "  [15, 16],\n",
       "  [16, 63]],\n",
       " 'MT-CO3': [[0, 1],\n",
       "  [1, 2],\n",
       "  [2, 3],\n",
       "  [3, 4],\n",
       "  [4, 5],\n",
       "  [5, 6],\n",
       "  [6, 7],\n",
       "  [7, 8],\n",
       "  [8, 9],\n",
       "  [9, 10],\n",
       "  [10, 11],\n",
       "  [11, 12],\n",
       "  [12, 13],\n",
       "  [13, 14],\n",
       "  [14, 65]],\n",
       " 'MT-ATP6': [[0, 1], [1, 2], [2, 8]],\n",
       " 'MT-ATP8': [[0, 1],\n",
       "  [1, 2],\n",
       "  [2, 3],\n",
       "  [3, 4],\n",
       "  [4, 5],\n",
       "  [5, 6],\n",
       "  [6, 7],\n",
       "  [7, 8],\n",
       "  [8, 9],\n",
       "  [9, 10],\n",
       "  [10, 11],\n",
       "  [11, 49]],\n",
       " 'MT-CYB': [[0, 1],\n",
       "  [1, 2],\n",
       "  [2, 3],\n",
       "  [3, 4],\n",
       "  [4, 5],\n",
       "  [5, 6],\n",
       "  [6, 7],\n",
       "  [7, 8],\n",
       "  [8, 9],\n",
       "  [9, 10],\n",
       "  [10, 11],\n",
       "  [11, 48]]}"
      ]
     },
     "execution_count": 220,
     "metadata": {},
     "output_type": "execute_result"
    }
   ],
   "source": [
    "ex_range_nbi(p14_n2,intpro,uem14_list_n2,r=1000)"
   ]
  },
  {
   "cell_type": "code",
   "execution_count": 222,
   "metadata": {},
   "outputs": [],
   "source": [
    "def obs_count_nbi(df,index_list, prob, r=100):\n",
    "    comp_ran=ex_range_nbi(df,index_list, prob, r)\n",
    "    obs_val=[]\n",
    "    for j in index_list:\n",
    "        li=[]\n",
    "        ran=comp_ran[j]\n",
    "        df_j=df[j]\n",
    "        l,h=ran[0][0],ran[0][1]\n",
    "        li.append(len(df_j[(df_j>=l) & (df_j<=h)]))\n",
    "        for i in range(1,len(ran),1):\n",
    "            l,h=ran[i][0],ran[i][1]\n",
    "            li.append(len(df_j[(df_j>l) & (df_j<=h)]))\n",
    "        obs_val.append(li)\n",
    "    return dict(zip(index_list,obs_val))\n",
    "    "
   ]
  },
  {
   "cell_type": "code",
   "execution_count": 223,
   "metadata": {},
   "outputs": [
    {
     "data": {
      "text/plain": [
       "{'MT-ND1': [646, 1317, 642, 180, 49, 17, 36],\n",
       " 'MT-ND2': [1642, 970, 193, 46, 36],\n",
       " 'MT-ND3': [1205, 1305, 277, 49, 25, 26],\n",
       " 'MT-ND4': [2120, 663, 76, 28],\n",
       " 'MT-ND4L': [128, 688, 953, 634, 262, 97, 49, 23, 53],\n",
       " 'MT-ND5': [1461, 1088, 255, 46, 37],\n",
       " 'MT-ND6': [2802, 72, 13],\n",
       " 'MT-CO1': [41, 258, 543, 653, 492, 368, 173, 137, 68, 49, 21, 84],\n",
       " 'MT-CO2': [3,\n",
       "  9,\n",
       "  56,\n",
       "  166,\n",
       "  332,\n",
       "  438,\n",
       "  438,\n",
       "  424,\n",
       "  330,\n",
       "  198,\n",
       "  143,\n",
       "  88,\n",
       "  58,\n",
       "  56,\n",
       "  22,\n",
       "  25,\n",
       "  101],\n",
       " 'MT-CO3': [5, 42, 158, 401, 557, 536, 440, 296, 156, 102, 52, 33, 18, 16, 75],\n",
       " 'MT-ATP6': [2579, 275, 33],\n",
       " 'MT-ATP8': [68, 274, 513, 621, 554, 373, 208, 113, 59, 19, 15, 70],\n",
       " 'MT-CYB': [16, 150, 399, 679, 616, 449, 227, 145, 70, 36, 28, 72]}"
      ]
     },
     "execution_count": 223,
     "metadata": {},
     "output_type": "execute_result"
    }
   ],
   "source": [
    "obs_count_nbi(p14_n2,intpro,uem14_list_n2,r=1000)"
   ]
  },
  {
   "cell_type": "code",
   "execution_count": 224,
   "metadata": {},
   "outputs": [],
   "source": [
    "def chi2_res(ex,obs,index_list,alp=0.99):\n",
    "    import scipy.stats as st\n",
    "    res=[]\n",
    "    for j in index_list:\n",
    "        deg=len(ex)-1\n",
    "        cv=st.chi2.ppf(alp,deg)\n",
    "        ele=[(a-b)**2/a for a,b in zip(ex[j],obs[j])]\n",
    "        ts=sum(ele)\n",
    "        res.append(ts-cv)\n",
    "    return res\n",
    "\n"
   ]
  },
  {
   "cell_type": "code",
   "execution_count": 225,
   "metadata": {},
   "outputs": [],
   "source": [
    "def chi2_res_nbi(df,index_list, prob, r=100, alp=0.99):\n",
    "    ex=ex_vals_nbi(df, index_list, prob,r)\n",
    "    obs=obs_count_nbi(df,index_list, prob, r)\n",
    "    import scipy.stats as st\n",
    "    res=[]\n",
    "    for j in index_list:\n",
    "        deg=len(ex)-1\n",
    "        cv=st.chi2.ppf(alp,deg)\n",
    "        ele=[(a-b)**2/a for a,b in zip(ex[j],obs[j])]\n",
    "        ts=sum(ele)\n",
    "        res.append(ts-cv)\n",
    "    return res\n",
    "\n"
   ]
  },
  {
   "cell_type": "code",
   "execution_count": 226,
   "metadata": {},
   "outputs": [
    {
     "data": {
      "text/plain": [
       "[131.42415990378902,\n",
       " 264.28918029644944,\n",
       " 253.73298897037077,\n",
       " 300.87656481239435,\n",
       " 113.8127750426811,\n",
       " 202.3106379413696,\n",
       " 383.1025710808856,\n",
       " 4469.486690122474,\n",
       " 650.206843607468,\n",
       " 246.8511095000923,\n",
       " 393.3525346192036,\n",
       " 1044.2737788051825,\n",
       " 203.63832541290665]"
      ]
     },
     "execution_count": 226,
     "metadata": {},
     "output_type": "execute_result"
    }
   ],
   "source": [
    "chi2_res_nbi(p14_n1,intpro,uem14_list_n1)"
   ]
  },
  {
   "cell_type": "code",
   "execution_count": 227,
   "metadata": {},
   "outputs": [
    {
     "data": {
      "text/plain": [
       "[919.9485026116721,\n",
       " 394.8383418477495,\n",
       " 908.7160970016083,\n",
       " 194.2338076156786,\n",
       " 710.9996961825096,\n",
       " 494.86485453621265,\n",
       " -15.03945080951946,\n",
       " 871.1324129257949,\n",
       " 1059.5118368218639,\n",
       " 1110.913245855189,\n",
       " -4.999336052113961,\n",
       " 766.3204942713035,\n",
       " 547.0130856548928]"
      ]
     },
     "execution_count": 227,
     "metadata": {},
     "output_type": "execute_result"
    }
   ],
   "source": [
    "chi2_res_nbi(p14_n2,intpro,uem14_list_n2,r=1000)"
   ]
  },
  {
   "cell_type": "code",
   "execution_count": null,
   "metadata": {},
   "outputs": [],
   "source": [
    "#df=dataframe, index_list=list of names of the 13 genes, lam = parameter for the poisson \n",
    "def expected_count_gam(df, index_list, r):\n",
    "    expected_vals=[] #frequency\n",
    "    expected_ranges=[] #corresponding ranges\n",
    "    n=len(df)\n",
    "    for j in index_list:\n",
    "        li=[]\n",
    "        ind=[]\n",
    "        p=uem14_list_n1[j]\n",
    "        m=floor(min(p14_n1[j]))\n",
    "        M=ceil(max(p14_n1[j]))\n",
    "        low=m\n",
    "        upp=m+1\n",
    "        if m==0:\n",
    "            coun=n*st.poisson.cdf(m+1,lam) \n",
    "        else: \n",
    "            coun=n*(st.poisson.cdf(m+1,lam)-st.nbinom.cdf(m-1,lam))\n",
    "        if coun>=5:\n",
    "            ind.append([low,upp])\n",
    "            li.append(coun)\n",
    "            low=upp\n",
    "            upp+=1\n",
    "            coun=0\n",
    "        else:\n",
    "            pass\n",
    "        for i in range(m+1,M-1,1):\n",
    "            coun+=n*(st.poisson.cdf(i+1,lam)-st.nbinom.cdf(i,lam))\n",
    "            if coun>=5: \n",
    "                upp=i+1\n",
    "                ind.append([low,upp])\n",
    "                li.append(coun)\n",
    "                coun=0\n",
    "                low=upp\n",
    "            else:\n",
    "                pass\n",
    "        upp=M\n",
    "        coun+=n*(st.poisson.cdf(M,lam)-st.nbinom.cdf(M-1,lam))\n",
    "        if coun>=5:\n",
    "            ind.append([low,upp])\n",
    "            li.append(coun)\n",
    "        else:\n",
    "            li[-1]=li[-1]+coun\n",
    "            ind[-1][1]=upp\n",
    "        expected_vals.append(li)\n",
    "        expected_ranges.append(ind)\n",
    "    expected_vals=dict(zip(intpro,expected_vals))\n",
    "    expected_ranges=dict(zip(intpro,expected_ranges))"
   ]
  },
  {
   "cell_type": "markdown",
   "metadata": {},
   "source": [
    "Now to tabulate expected table aka frequency of expected values corresponding to the ranges. "
   ]
  },
  {
   "cell_type": "code",
   "execution_count": null,
   "metadata": {},
   "outputs": [],
   "source": [
    "p14_n1_chi_ex=[]\n",
    "p14_n1_chi_ind=[]\n",
    "n=len(p14_n1)\n",
    "for j in intpro:\n",
    "    li=[]\n",
    "    ind=[]\n",
    "    p=uem14_list_n1[j]\n",
    "    m=floor(min(p14_n1[j]))\n",
    "    M=ceil(max(p14_n1[j]))\n",
    "    low=m\n",
    "    upp=m+1\n",
    "    if m==0:\n",
    "        coun=n*st.nbinom.cdf(m+1,100,p) \n",
    "    else: \n",
    "        coun=n*(st.nbinom.cdf(m+1,100,p)-st.nbinom.cdf(m-1,100,p))\n",
    "    if coun>=5:\n",
    "        ind.append([low,upp])\n",
    "        li.append(coun)\n",
    "        low=upp\n",
    "        upp+=1\n",
    "        coun=0\n",
    "    else:\n",
    "        pass\n",
    "    for i in range(m+1,M-1,1):\n",
    "        coun+=n*(st.nbinom.cdf(i+1,100,p)-st.nbinom.cdf(i,100,p))\n",
    "        if coun>=5: \n",
    "            upp=i+1\n",
    "            ind.append([low,upp])\n",
    "            li.append(coun)\n",
    "            coun=0\n",
    "            low=upp\n",
    "        else:\n",
    "            pass\n",
    "    upp=M\n",
    "    coun+=n*(st.nbinom.cdf(M,100,p)-st.nbinom.cdf(M-1,100,p))\n",
    "    if coun>=5:\n",
    "        ind.append([low,upp])\n",
    "        li.append(coun)\n",
    "    else:\n",
    "        li[-1]=li[-1]+coun\n",
    "        ind[-1][1]=upp\n",
    "    p14_n1_chi_ex.append(li)\n",
    "    p14_n1_chi_ind.append(ind)\n",
    "p14_n1_chi_ex=dict(zip(intpro,p14_n1_chi_ex))\n",
    "p14_n1_chi_ind=dict(zip(intpro,p14_n1_chi_ind))"
   ]
  },
  {
   "cell_type": "code",
   "execution_count": null,
   "metadata": {},
   "outputs": [],
   "source": [
    "p14_n1_chi_ex"
   ]
  },
  {
   "cell_type": "code",
   "execution_count": null,
   "metadata": {},
   "outputs": [],
   "source": [
    "p14_n1_chi_obs=[]\n",
    "p14_n1_chi_ind=[]\n",
    "for j in intpro:\n",
    "    li=[]\n",
    "    ind=[]\n",
    "    m=floor(min(p14_n1[j]))\n",
    "    M=ceil(max(p14_n1[j]))\n",
    "    d=M-m\n",
    "    df_data=p14_n1[j]\n",
    "    coun=len(df_data[(df_data>=m) & (df_data<=m+1)])\n",
    "    low=m\n",
    "    upp=m+1\n",
    "    if coun>=5:\n",
    "        ind.append([low,upp])\n",
    "        li.append(coun)\n",
    "        low=upp\n",
    "        upp+=1\n",
    "        coun=0\n",
    "    else:\n",
    "        pass\n",
    "    for i in range(m+1,M-1,1):\n",
    "        coun+=len(df_data[(df_data>i) & (df_data<=i+1)])\n",
    "        if coun>=5:\n",
    "            upp=i+1\n",
    "            ind.append([low,upp])\n",
    "            li.append(coun)\n",
    "            coun=0\n",
    "            low=upp\n",
    "        else:\n",
    "            pass\n",
    "    upp=M\n",
    "    coun+=len(df_data[(df_data>=M-1) & (df_data<=M)])\n",
    "    if coun>=5:\n",
    "        ind.append([low,upp])\n",
    "        li.append(coun)\n",
    "    else:\n",
    "        li[-1]=li[-1]+coun\n",
    "        ind[-1][1]=upp\n",
    "    p14_n1_chi_obs.append(li)\n",
    "    p14_n1_chi_ind.append(ind)\n",
    "p14_n1_chi_obs=dict(zip(intpro,p14_n1_chi_obs))\n",
    "p14_n1_chi_ind=dict(zip(intpro,p14_n1_chi_ind))\n",
    "p14_n1_chi_ind"
   ]
  },
  {
   "cell_type": "code",
   "execution_count": null,
   "metadata": {},
   "outputs": [],
   "source": [
    "p14_n1_chi_obs=[]\n",
    "p14_n1_chi_ind=[]\n",
    "for j in intpro:\n",
    "    li=[]\n",
    "    ind=[]\n",
    "    m=floor(min(p14_n1[j]))\n",
    "    M=ceil(max(p14_n1[j]))\n",
    "    d=M-m\n",
    "    df_data=p14_n1[j]\n",
    "    coun=len(df_data[(df_data>=m) & (df_data<=m+1)])\n",
    "    low=m\n",
    "    upp=m+1\n",
    "    if coun>=5:\n",
    "        ind.append([low,upp])\n",
    "        li.append(coun)\n",
    "        low=upp\n",
    "        upp+=1\n",
    "        coun=0\n",
    "    else:\n",
    "        pass\n",
    "    for i in range(m+1,M-1,1):\n",
    "        coun+=len(df_data[(df_data>i) & (df_data<=i+1)])\n",
    "        if coun>=5:\n",
    "            upp=i+1\n",
    "            ind.append([low,upp])\n",
    "            li.append(coun)\n",
    "            coun=0\n",
    "            low=upp\n",
    "        else:\n",
    "            pass\n",
    "    upp=M\n",
    "    coun+=len(df_data[(df_data>=M-1) & (df_data<=M)])\n",
    "    if coun>=5:\n",
    "        ind.append([low,upp])\n",
    "        li.append(coun)\n",
    "    else:\n",
    "        li[-1]=li[-1]+coun\n",
    "        ind[-1][1]=upp\n",
    "    p14_n1_chi_obs.append(li)\n",
    "    p14_n1_chi_ind.append(ind)\n",
    "p14_n1_chi_obs=dict(zip(intpro,p14_n1_chi_obs))\n",
    "p14_n1_chi_ind=dict(zip(intpro,p14_n1_chi_ind))\n",
    "p14_n1_chi_ind"
   ]
  },
  {
   "cell_type": "code",
   "execution_count": null,
   "metadata": {},
   "outputs": [],
   "source": [
    "p14_n1_chi_obs['MT-CO1']"
   ]
  },
  {
   "cell_type": "code",
   "execution_count": null,
   "metadata": {},
   "outputs": [],
   "source": [
    "p14_n1_chi_ind['MT-CO1']"
   ]
  },
  {
   "cell_type": "markdown",
   "metadata": {},
   "source": [
    "Expected value"
   ]
  },
  {
   "cell_type": "code",
   "execution_count": null,
   "metadata": {},
   "outputs": [],
   "source": [
    "r=100\n",
    "p14_n1_chi_exp=[]\n",
    "for j in intpro:\n",
    "    p=uem14_list_n1[j]\n",
    "    ra_list=p14_n1_chi_ind[j]\n",
    "    expe=[]\n",
    "    for i in range(len(p14_n1_chi_ind[j])):\n",
    "        a,b=ra_list[i][0],ra_list[i][1]\n",
    "        expe.append(2887*(st.nbinom.cdf(b,r,p)-st.nbinom.cdf(a,r,p)))\n",
    "    p14_n1_chi_exp.append(expe)\n",
    "p14_n1_chi_exp=dict(zip(intpro,p14_n1_chi_exp))\n",
    "p14_n1_chi_exp"
   ]
  },
  {
   "cell_type": "code",
   "execution_count": null,
   "metadata": {},
   "outputs": [],
   "source": [
    "len(p14_n1_chi_obs['MT-CO1'])"
   ]
  },
  {
   "cell_type": "markdown",
   "metadata": {},
   "source": [
    "Calculating test stat and critical value. Thereafter concluding:"
   ]
  },
  {
   "cell_type": "code",
   "execution_count": null,
   "metadata": {},
   "outputs": [],
   "source": [
    "p14_n1_chi_cv=[]\n",
    "p14_n1_chi_ts=[]\n",
    "p14_n1_chi_res=[]\n",
    "for j in intpro:\n",
    "    df=len(p14_n1_chi_obs[j])-1\n",
    "    cv=st.chi2.ppf(0.99,df)\n",
    "    p14_n1_chi_cv.append(cv)\n",
    "    ele=[(a-b)**2/a for a,b in zip(p14_n1_chi_exp[j],p14_n1_chi_obs[j])]\n",
    "    ts=sum(ele)\n",
    "    p14_n1_chi_ts.append(ts)\n",
    "    p14_n1_chi_res.append(ts-cv)\n",
    "p14_n1_chi_res"
   ]
  },
  {
   "cell_type": "code",
   "execution_count": null,
   "metadata": {},
   "outputs": [],
   "source": [
    "def obscount(index_list, df):\n",
    "    obs_val=[]\n",
    "    obs_ind=[]\n",
    "    for j in index_list:\n",
    "        li=[]\n",
    "        ind=[]\n",
    "        m=floor(min(df[j]))\n",
    "        M=ceil(max(df[j]))\n",
    "        d=M-m\n",
    "        df_data=df[j]\n",
    "        coun=len(df_data[(df_data>=m) & (df_data<=m+1)])\n",
    "        low=m\n",
    "        upp=m+1\n",
    "        if coun>=5:\n",
    "            ind.append([low,upp])\n",
    "            li.append(coun)\n",
    "            low=upp\n",
    "            upp+=1\n",
    "            coun=0\n",
    "        else:\n",
    "            pass\n",
    "        for i in range(m+1,M-1,1):\n",
    "            coun+=len(df_data[(df_data>i) & (df_data<=i+1)])\n",
    "            if coun>=5:\n",
    "                upp=i+1\n",
    "                ind.append([low,upp])\n",
    "                li.append(coun)\n",
    "                coun=0\n",
    "                low=upp\n",
    "            else:\n",
    "                pass\n",
    "        upp=M\n",
    "        coun+=len(df_data[(df_data>=M-1) & (df_data<=M)])\n",
    "        if coun>=5:\n",
    "            ind.append([low,upp])\n",
    "            li.append(coun)\n",
    "        else:\n",
    "            li[-1]=li[-1]+coun\n",
    "            ind[-1][1]=upp\n",
    "        obs_val.append(li)\n",
    "        obs_ind.append(ind)\n",
    "    obs_val=dict(zip(index_list,obs_val))\n",
    "    obs_ind=dict(zip(intpro,obs_ind))"
   ]
  }
 ],
 "metadata": {
  "kernelspec": {
   "display_name": "pymc_env",
   "language": "python",
   "name": "python3"
  },
  "language_info": {
   "codemirror_mode": {
    "name": "ipython",
    "version": 3
   },
   "file_extension": ".py",
   "mimetype": "text/x-python",
   "name": "python",
   "nbconvert_exporter": "python",
   "pygments_lexer": "ipython3",
   "version": "3.12.3"
  }
 },
 "nbformat": 4,
 "nbformat_minor": 2
}
