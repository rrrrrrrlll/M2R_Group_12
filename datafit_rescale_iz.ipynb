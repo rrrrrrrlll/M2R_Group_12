{
 "cells": [
  {
   "cell_type": "code",
   "execution_count": 1,
   "metadata": {},
   "outputs": [
    {
     "name": "stdout",
     "output_type": "stream",
     "text": [
      "Requirement already satisfied: seaborn in c:\\users\\ruizc\\anaconda3\\lib\\site-packages (0.12.2)\n",
      "Requirement already satisfied: numpy!=1.24.0,>=1.17 in c:\\users\\ruizc\\anaconda3\\lib\\site-packages (from seaborn) (1.24.3)\n",
      "Requirement already satisfied: pandas>=0.25 in c:\\users\\ruizc\\anaconda3\\lib\\site-packages (from seaborn) (2.0.3)\n",
      "Requirement already satisfied: matplotlib!=3.6.1,>=3.1 in c:\\users\\ruizc\\anaconda3\\lib\\site-packages (from seaborn) (3.7.2)\n",
      "Requirement already satisfied: contourpy>=1.0.1 in c:\\users\\ruizc\\anaconda3\\lib\\site-packages (from matplotlib!=3.6.1,>=3.1->seaborn) (1.0.5)\n",
      "Requirement already satisfied: cycler>=0.10 in c:\\users\\ruizc\\anaconda3\\lib\\site-packages (from matplotlib!=3.6.1,>=3.1->seaborn) (0.11.0)\n",
      "Requirement already satisfied: fonttools>=4.22.0 in c:\\users\\ruizc\\anaconda3\\lib\\site-packages (from matplotlib!=3.6.1,>=3.1->seaborn) (4.25.0)\n",
      "Requirement already satisfied: kiwisolver>=1.0.1 in c:\\users\\ruizc\\anaconda3\\lib\\site-packages (from matplotlib!=3.6.1,>=3.1->seaborn) (1.4.4)\n",
      "Requirement already satisfied: packaging>=20.0 in c:\\users\\ruizc\\anaconda3\\lib\\site-packages (from matplotlib!=3.6.1,>=3.1->seaborn) (23.1)\n",
      "Requirement already satisfied: pillow>=6.2.0 in c:\\users\\ruizc\\anaconda3\\lib\\site-packages (from matplotlib!=3.6.1,>=3.1->seaborn) (9.4.0)\n",
      "Requirement already satisfied: pyparsing<3.1,>=2.3.1 in c:\\users\\ruizc\\anaconda3\\lib\\site-packages (from matplotlib!=3.6.1,>=3.1->seaborn) (3.0.9)\n",
      "Requirement already satisfied: python-dateutil>=2.7 in c:\\users\\ruizc\\anaconda3\\lib\\site-packages (from matplotlib!=3.6.1,>=3.1->seaborn) (2.8.2)\n",
      "Requirement already satisfied: pytz>=2020.1 in c:\\users\\ruizc\\anaconda3\\lib\\site-packages (from pandas>=0.25->seaborn) (2023.3.post1)\n",
      "Requirement already satisfied: tzdata>=2022.1 in c:\\users\\ruizc\\anaconda3\\lib\\site-packages (from pandas>=0.25->seaborn) (2023.3)\n",
      "Requirement already satisfied: six>=1.5 in c:\\users\\ruizc\\anaconda3\\lib\\site-packages (from python-dateutil>=2.7->matplotlib!=3.6.1,>=3.1->seaborn) (1.16.0)\n"
     ]
    },
    {
     "name": "stderr",
     "output_type": "stream",
     "text": [
      "WARNING (pytensor.configdefaults): g++ not available, if using conda: `conda install m2w64-toolchain`\n",
      "WARNING (pytensor.configdefaults): g++ not detected!  PyTensor will be unable to compile C-implementations and will default to Python. Performance may be severely degraded. To remove this warning, set PyTensor flags cxx to an empty string.\n",
      "WARNING (pytensor.tensor.blas): Using NumPy C-API based implementation for BLAS functions.\n"
     ]
    },
    {
     "name": "stdout",
     "output_type": "stream",
     "text": [
      "5.15.0\n"
     ]
    }
   ],
   "source": [
    "!pip install seaborn\n",
    "try:\n",
    "    import pymc as pm # For MCMC\n",
    "except:\n",
    "    !pip install pymc\n",
    "    import pymc as pm\n",
    "try:\n",
    "    import arviz as az # For MCMC package\n",
    "except:\n",
    "    !pip install arviz\n",
    "    import arviz as az\n",
    "import numpy as np\n",
    "import matplotlib.pyplot as plt\n",
    "import seaborn as sns\n",
    "import pandas as pd\n",
    "try:\n",
    "    import corner\n",
    "except:\n",
    "    !pip install corner\n",
    "    import corner\n",
    "\n",
    "print(pm.__version__)"
   ]
  },
  {
   "cell_type": "markdown",
   "metadata": {},
   "source": [
    "## Importing data"
   ]
  },
  {
   "cell_type": "code",
   "execution_count": 57,
   "metadata": {},
   "outputs": [
    {
     "name": "stdout",
     "output_type": "stream",
     "text": [
      "           Unnamed: 0  MT-TF  MT-RNR1  MT-TV  MT-RNR2  MT-TL1  MT-ND1  MT-TI  \\\n",
      "0  AAACCTGCAAACTGTC.1      0        6      0       60       0      12      0   \n",
      "1  AAACCTGCACAGCGTC.1      0        2      0       21       0       8      0   \n",
      "2  AAACGGGAGACTGGGT.1      0       19      0       84       0       7      0   \n",
      "3  AAACGGGAGGTGTTAA.1      0       27      0      115       0       3      0   \n",
      "4  AAACGGGCATGGGACA.1      0       43      1      119       0       6      0   \n",
      "\n",
      "   MT-TQ  MT-TM  ...  MT-TH  MT-TS2  MT-TL2  MT-ND5  MT-ND6  MT-TE  MT-CYB  \\\n",
      "0      0      0  ...      0       0       0       7       7      0      20   \n",
      "1      0      0  ...      0       0       0       6       1      0      17   \n",
      "2      0      0  ...      0       0       0       7       0      0      15   \n",
      "3      0      0  ...      0       0       0       6       3      0      14   \n",
      "4      0      0  ...      0       0       0       2       0      0       7   \n",
      "\n",
      "   MT-TT  MT-TP  non-MT  \n",
      "0      0      0    1250  \n",
      "1      0      0    2389  \n",
      "2      0      0    2685  \n",
      "3      0      0    2456  \n",
      "4      0      0    4060  \n",
      "\n",
      "[5 rows x 39 columns]\n"
     ]
    }
   ],
   "source": [
    "import pandas as pd\n",
    "\n",
    "file_path = 'datasets/Donor1_CD4_Genes.csv'\n",
    "\n",
    "df1 = pd.read_csv(file_path)\n"
   ]
  },
  {
   "cell_type": "markdown",
   "metadata": {},
   "source": [
    "### I only need 13 proteins, df2 "
   ]
  },
  {
   "cell_type": "code",
   "execution_count": 68,
   "metadata": {},
   "outputs": [
    {
     "name": "stdout",
     "output_type": "stream",
     "text": [
      "<bound method NDFrame.head of       MT-ND1  MT-ND2  MT-CO1  MT-CO2  MT-ATP8  MT-ATP6  MT-CO3  MT-ND3  \\\n",
      "0         12       3      23      53       34        3      38       6   \n",
      "1          8       4      24      35       10        2      34       3   \n",
      "2          7       2      16      30        8        1      19       6   \n",
      "3          3       2      25      23       14        5      23       2   \n",
      "4          6       3       6      26       14        1      11       4   \n",
      "...      ...     ...     ...     ...      ...      ...     ...     ...   \n",
      "2883       4       0      20      15       11        3      11       2   \n",
      "2884       2       5      13      28       12        2      18       6   \n",
      "2885       5       0      10      22       13        1      14       4   \n",
      "2886       6      12      36      45       19        2      40       5   \n",
      "2887       7       1       9      24       11        0      22       1   \n",
      "\n",
      "      MT-ND4L  MT-ND4  MT-ND5  MT-ND6  MT-CYB  \n",
      "0          20       5       7       7      20  \n",
      "1          15       7       6       1      17  \n",
      "2          20       3       7       0      15  \n",
      "3          13       4       6       3      14  \n",
      "4          14       0       2       0       7  \n",
      "...       ...     ...     ...     ...     ...  \n",
      "2883        5       2       3       0       4  \n",
      "2884       14       2       2       1       8  \n",
      "2885        6       7       5       1      20  \n",
      "2886       20       8       7       0      37  \n",
      "2887        7       2       7       1      17  \n",
      "\n",
      "[2888 rows x 13 columns]>\n"
     ]
    }
   ],
   "source": [
    "file_path = 'datasets/mt_genes_metadata.csv'\n",
    "\n",
    "dfmeta = pd.read_csv(file_path)\n",
    "\n",
    "\n",
    "protein_coding_genes = dfmeta[dfmeta['gene_type'] == 'protein_coding']\n",
    "protein_names = protein_coding_genes['gene_name'].tolist()\n",
    "tRNA_coding_genes = dfmeta[dfmeta['gene_type']=='Mt_tRNA']\n",
    "tRNA_names = tRNA_coding_genes['gene_name'].tolist()\n",
    "rRNA_coding_genes = dfmeta[dfmeta['gene_type']=='Mt_rRNA']\n",
    "rRNA_names = rRNA_coding_genes['gene_name'].tolist()\n",
    "\n",
    "umi = df1[\"non-MT\"]\n",
    "df2 = pd.DataFrame([df1[i] for i in protein_names]).T\n",
    "\n",
    "print(df2.head)"
   ]
  },
  {
   "cell_type": "markdown",
   "metadata": {},
   "source": [
    "### ***A suggestion about the dataframe: genes are columns and cells are rows, rest of my code will strictly follow this way***"
   ]
  },
  {
   "cell_type": "markdown",
   "metadata": {},
   "source": [
    "---\n"
   ]
  },
  {
   "cell_type": "markdown",
   "metadata": {},
   "source": [
    "## Next step, normalisation"
   ]
  },
  {
   "cell_type": "markdown",
   "metadata": {},
   "source": [
    "### a function: normiz\n",
    "normally we would expect the normalization to be \\\n",
    "\n",
    " row(cells) / umi correponding * some number \\\n",
    " \\\n",
    "I *prefer* taking the some number to be norm of the umi \\\n",
    "so an optional parameter somenumber is there. "
   ]
  },
  {
   "cell_type": "code",
   "execution_count": 87,
   "metadata": {},
   "outputs": [],
   "source": [
    "def normiz(df,umi,somenumber = np.linalg.norm(umi)):\n",
    "    df1 = df.T\n",
    "    norm = np.linalg.norm(umi)\n",
    "    print(norm)\n",
    "    umi1 = umi/somenumber\n",
    "    for i in range(len(umi1)):\n",
    "        df1[i] = df1[i] / umi1[i]\n",
    "    return df1.T"
   ]
  },
  {
   "cell_type": "code",
   "execution_count": 97,
   "metadata": {},
   "outputs": [
    {
     "name": "stdout",
     "output_type": "stream",
     "text": [
      "250070.22420512204\n"
     ]
    },
    {
     "data": {
      "text/html": [
       "<div>\n",
       "<style scoped>\n",
       "    .dataframe tbody tr th:only-of-type {\n",
       "        vertical-align: middle;\n",
       "    }\n",
       "\n",
       "    .dataframe tbody tr th {\n",
       "        vertical-align: top;\n",
       "    }\n",
       "\n",
       "    .dataframe thead th {\n",
       "        text-align: right;\n",
       "    }\n",
       "</style>\n",
       "<table border=\"1\" class=\"dataframe\">\n",
       "  <thead>\n",
       "    <tr style=\"text-align: right;\">\n",
       "      <th></th>\n",
       "      <th>MT-ND1</th>\n",
       "      <th>MT-ND2</th>\n",
       "      <th>MT-CO1</th>\n",
       "      <th>MT-CO2</th>\n",
       "      <th>MT-ATP8</th>\n",
       "      <th>MT-ATP6</th>\n",
       "      <th>MT-CO3</th>\n",
       "      <th>MT-ND3</th>\n",
       "      <th>MT-ND4L</th>\n",
       "      <th>MT-ND4</th>\n",
       "      <th>MT-ND5</th>\n",
       "      <th>MT-ND6</th>\n",
       "      <th>MT-CYB</th>\n",
       "    </tr>\n",
       "  </thead>\n",
       "  <tbody>\n",
       "    <tr>\n",
       "      <th>0</th>\n",
       "      <td>2400.674152</td>\n",
       "      <td>600.168538</td>\n",
       "      <td>4601.292125</td>\n",
       "      <td>10602.977506</td>\n",
       "      <td>6801.910098</td>\n",
       "      <td>600.168538</td>\n",
       "      <td>7602.134816</td>\n",
       "      <td>1200.337076</td>\n",
       "      <td>4001.123587</td>\n",
       "      <td>1000.280897</td>\n",
       "      <td>1400.393256</td>\n",
       "      <td>1400.393256</td>\n",
       "      <td>4001.123587</td>\n",
       "    </tr>\n",
       "    <tr>\n",
       "      <th>1</th>\n",
       "      <td>837.405523</td>\n",
       "      <td>418.702761</td>\n",
       "      <td>2512.216568</td>\n",
       "      <td>3663.649162</td>\n",
       "      <td>1046.756903</td>\n",
       "      <td>209.351381</td>\n",
       "      <td>3558.973471</td>\n",
       "      <td>314.027071</td>\n",
       "      <td>1570.135355</td>\n",
       "      <td>732.729832</td>\n",
       "      <td>628.054142</td>\n",
       "      <td>104.675690</td>\n",
       "      <td>1779.486736</td>\n",
       "    </tr>\n",
       "    <tr>\n",
       "      <th>2</th>\n",
       "      <td>651.952167</td>\n",
       "      <td>186.272048</td>\n",
       "      <td>1490.176383</td>\n",
       "      <td>2794.080717</td>\n",
       "      <td>745.088191</td>\n",
       "      <td>93.136024</td>\n",
       "      <td>1769.584454</td>\n",
       "      <td>558.816143</td>\n",
       "      <td>1862.720478</td>\n",
       "      <td>279.408072</td>\n",
       "      <td>651.952167</td>\n",
       "      <td>0.000000</td>\n",
       "      <td>1397.040359</td>\n",
       "    </tr>\n",
       "    <tr>\n",
       "      <th>3</th>\n",
       "      <td>305.460372</td>\n",
       "      <td>203.640248</td>\n",
       "      <td>2545.503097</td>\n",
       "      <td>2341.862849</td>\n",
       "      <td>1425.481734</td>\n",
       "      <td>509.100619</td>\n",
       "      <td>2341.862849</td>\n",
       "      <td>203.640248</td>\n",
       "      <td>1323.661610</td>\n",
       "      <td>407.280495</td>\n",
       "      <td>610.920743</td>\n",
       "      <td>305.460372</td>\n",
       "      <td>1425.481734</td>\n",
       "    </tr>\n",
       "    <tr>\n",
       "      <th>4</th>\n",
       "      <td>369.561908</td>\n",
       "      <td>184.780954</td>\n",
       "      <td>369.561908</td>\n",
       "      <td>1601.434933</td>\n",
       "      <td>862.311118</td>\n",
       "      <td>61.593651</td>\n",
       "      <td>677.530164</td>\n",
       "      <td>246.374605</td>\n",
       "      <td>862.311118</td>\n",
       "      <td>0.000000</td>\n",
       "      <td>123.187303</td>\n",
       "      <td>0.000000</td>\n",
       "      <td>431.155559</td>\n",
       "    </tr>\n",
       "    <tr>\n",
       "      <th>...</th>\n",
       "      <td>...</td>\n",
       "      <td>...</td>\n",
       "      <td>...</td>\n",
       "      <td>...</td>\n",
       "      <td>...</td>\n",
       "      <td>...</td>\n",
       "      <td>...</td>\n",
       "      <td>...</td>\n",
       "      <td>...</td>\n",
       "      <td>...</td>\n",
       "      <td>...</td>\n",
       "      <td>...</td>\n",
       "      <td>...</td>\n",
       "    </tr>\n",
       "    <tr>\n",
       "      <th>2883</th>\n",
       "      <td>323.088145</td>\n",
       "      <td>0.000000</td>\n",
       "      <td>1615.440725</td>\n",
       "      <td>1211.580544</td>\n",
       "      <td>888.492399</td>\n",
       "      <td>242.316109</td>\n",
       "      <td>888.492399</td>\n",
       "      <td>161.544072</td>\n",
       "      <td>403.860181</td>\n",
       "      <td>161.544072</td>\n",
       "      <td>242.316109</td>\n",
       "      <td>0.000000</td>\n",
       "      <td>323.088145</td>\n",
       "    </tr>\n",
       "    <tr>\n",
       "      <th>2884</th>\n",
       "      <td>171.046665</td>\n",
       "      <td>427.616662</td>\n",
       "      <td>1111.803322</td>\n",
       "      <td>2394.653310</td>\n",
       "      <td>1026.279990</td>\n",
       "      <td>171.046665</td>\n",
       "      <td>1539.419985</td>\n",
       "      <td>513.139995</td>\n",
       "      <td>1197.326655</td>\n",
       "      <td>171.046665</td>\n",
       "      <td>171.046665</td>\n",
       "      <td>85.523332</td>\n",
       "      <td>684.186660</td>\n",
       "    </tr>\n",
       "    <tr>\n",
       "      <th>2885</th>\n",
       "      <td>278.103007</td>\n",
       "      <td>0.000000</td>\n",
       "      <td>556.206015</td>\n",
       "      <td>1223.653232</td>\n",
       "      <td>723.067819</td>\n",
       "      <td>55.620601</td>\n",
       "      <td>778.688421</td>\n",
       "      <td>222.482406</td>\n",
       "      <td>333.723609</td>\n",
       "      <td>389.344210</td>\n",
       "      <td>278.103007</td>\n",
       "      <td>55.620601</td>\n",
       "      <td>1112.412029</td>\n",
       "    </tr>\n",
       "    <tr>\n",
       "      <th>2886</th>\n",
       "      <td>282.671693</td>\n",
       "      <td>565.343386</td>\n",
       "      <td>1696.030157</td>\n",
       "      <td>2120.037696</td>\n",
       "      <td>895.127027</td>\n",
       "      <td>94.223898</td>\n",
       "      <td>1884.477952</td>\n",
       "      <td>235.559744</td>\n",
       "      <td>942.238976</td>\n",
       "      <td>376.895590</td>\n",
       "      <td>329.783642</td>\n",
       "      <td>0.000000</td>\n",
       "      <td>1743.142105</td>\n",
       "    </tr>\n",
       "    <tr>\n",
       "      <th>2887</th>\n",
       "      <td>412.365505</td>\n",
       "      <td>58.909358</td>\n",
       "      <td>530.184221</td>\n",
       "      <td>1413.824589</td>\n",
       "      <td>648.002937</td>\n",
       "      <td>0.000000</td>\n",
       "      <td>1296.005873</td>\n",
       "      <td>58.909358</td>\n",
       "      <td>412.365505</td>\n",
       "      <td>117.818716</td>\n",
       "      <td>412.365505</td>\n",
       "      <td>58.909358</td>\n",
       "      <td>1001.459084</td>\n",
       "    </tr>\n",
       "  </tbody>\n",
       "</table>\n",
       "<p>2888 rows × 13 columns</p>\n",
       "</div>"
      ],
      "text/plain": [
       "           MT-ND1      MT-ND2       MT-CO1        MT-CO2      MT-ATP8  \\\n",
       "0     2400.674152  600.168538  4601.292125  10602.977506  6801.910098   \n",
       "1      837.405523  418.702761  2512.216568   3663.649162  1046.756903   \n",
       "2      651.952167  186.272048  1490.176383   2794.080717   745.088191   \n",
       "3      305.460372  203.640248  2545.503097   2341.862849  1425.481734   \n",
       "4      369.561908  184.780954   369.561908   1601.434933   862.311118   \n",
       "...           ...         ...          ...           ...          ...   \n",
       "2883   323.088145    0.000000  1615.440725   1211.580544   888.492399   \n",
       "2884   171.046665  427.616662  1111.803322   2394.653310  1026.279990   \n",
       "2885   278.103007    0.000000   556.206015   1223.653232   723.067819   \n",
       "2886   282.671693  565.343386  1696.030157   2120.037696   895.127027   \n",
       "2887   412.365505   58.909358   530.184221   1413.824589   648.002937   \n",
       "\n",
       "         MT-ATP6       MT-CO3       MT-ND3      MT-ND4L       MT-ND4  \\\n",
       "0     600.168538  7602.134816  1200.337076  4001.123587  1000.280897   \n",
       "1     209.351381  3558.973471   314.027071  1570.135355   732.729832   \n",
       "2      93.136024  1769.584454   558.816143  1862.720478   279.408072   \n",
       "3     509.100619  2341.862849   203.640248  1323.661610   407.280495   \n",
       "4      61.593651   677.530164   246.374605   862.311118     0.000000   \n",
       "...          ...          ...          ...          ...          ...   \n",
       "2883  242.316109   888.492399   161.544072   403.860181   161.544072   \n",
       "2884  171.046665  1539.419985   513.139995  1197.326655   171.046665   \n",
       "2885   55.620601   778.688421   222.482406   333.723609   389.344210   \n",
       "2886   94.223898  1884.477952   235.559744   942.238976   376.895590   \n",
       "2887    0.000000  1296.005873    58.909358   412.365505   117.818716   \n",
       "\n",
       "           MT-ND5       MT-ND6       MT-CYB  \n",
       "0     1400.393256  1400.393256  4001.123587  \n",
       "1      628.054142   104.675690  1779.486736  \n",
       "2      651.952167     0.000000  1397.040359  \n",
       "3      610.920743   305.460372  1425.481734  \n",
       "4      123.187303     0.000000   431.155559  \n",
       "...           ...          ...          ...  \n",
       "2883   242.316109     0.000000   323.088145  \n",
       "2884   171.046665    85.523332   684.186660  \n",
       "2885   278.103007    55.620601  1112.412029  \n",
       "2886   329.783642     0.000000  1743.142105  \n",
       "2887   412.365505    58.909358  1001.459084  \n",
       "\n",
       "[2888 rows x 13 columns]"
      ]
     },
     "execution_count": 97,
     "metadata": {},
     "output_type": "execute_result"
    }
   ],
   "source": [
    "normiz(df2,umi)"
   ]
  },
  {
   "cell_type": "markdown",
   "metadata": {},
   "source": [
    "### Function of plotting the mean-var scatter"
   ]
  },
  {
   "cell_type": "code",
   "execution_count": 76,
   "metadata": {},
   "outputs": [],
   "source": [
    "def meanvarplot(seq1):\n",
    "    seq = seq1.T\n",
    "    list_mean = [np.mean(seq.iloc[i]) for i in range(13)]\n",
    "    list_var = [np.var(seq.iloc[i]) for i in range(13)]\n",
    "    x = np.linspace(0,min(max(list_mean),max(list_var)),num = 1000)\n",
    "    plt.plot(x,x)\n",
    "    plt.scatter(list_mean, list_var)\n",
    "    plt.show()\n",
    "    print(list_var)\n",
    "    print(list_mean)"
   ]
  },
  {
   "cell_type": "code",
   "execution_count": 96,
   "metadata": {},
   "outputs": [
    {
     "name": "stdout",
     "output_type": "stream",
     "text": [
      "250070.22420512204\n"
     ]
    },
    {
     "data": {
      "image/png": "[encoded data removed]",
      "text/plain": [
       "<Figure size 640x480 with 1 Axes>"
      ]
     },
     "metadata": {},
     "output_type": "display_data"
    },
    {
     "name": "stdout",
     "output_type": "stream",
     "text": [
      "[197516.81753114882, 82218.14966938939, 1221408.3269125617, 2560068.8128141835, 1152600.1028193296, 20077.98207445609, 1732083.4918172525, 89939.2350333792, 471527.07319675357, 42848.96457824826, 81226.92123084699, 11699.042495722777, 977378.9237283919]\n",
      "[488.7334062974924, 289.5180470360056, 1244.2397266879382, 2119.8521536797325, 1202.526820278621, 132.84329662468247, 1665.6717197338446, 349.19131182141916, 814.0877795718288, 208.09735318701775, 317.4216246808961, 65.28457339684515, 1302.940113074823]\n"
     ]
    }
   ],
   "source": [
    "meanvarplot(normiz(df2,umi))"
   ]
  },
  {
   "cell_type": "code",
   "execution_count": 82,
   "metadata": {},
   "outputs": [
    {
     "data": {
      "text/plain": [
       "<matplotlib.collections.PathCollection at 0x24abafc0550>"
      ]
     },
     "execution_count": 82,
     "metadata": {},
     "output_type": "execute_result"
    },
    {
     "data": {
      "image/png": "[encoded data removed]",
      "text/plain": [
       "<Figure size 640x480 with 1 Axes>"
      ]
     },
     "metadata": {},
     "output_type": "display_data"
    }
   ],
   "source": [
    "y = [39405502178.874176, 14270050297.713615, 215355647899.84335, 539331414712.78564, 239734538779.75415, 2747234578.422771, 394348531643.9634, 14472016525.325699, 91730867514.77098, 5754079977.802822, 12961089066.25124, 1596013212.4993975, 204012584253.58527]\n",
    "x = [47630.013913849674, 29529.369527593317, 126661.54897436462, 215709.66710226206, 118022.10441414938, 12465.609550242913, 165462.9110493637, 34138.95923555267, 82932.81850558078, 20593.452077464488, 30539.072451652246, 6644.006650370145, 129042.84368275816]\n",
    "plt.scatter(np.log(x),np.log(y))"
   ]
  },
  {
   "cell_type": "code",
   "execution_count": 102,
   "metadata": {},
   "outputs": [
    {
     "name": "stdout",
     "output_type": "stream",
     "text": [
      "250070.22420512204\n"
     ]
    },
    {
     "data": {
      "text/plain": [
       "<matplotlib.collections.PathCollection at 0x24ab8c07150>"
      ]
     },
     "execution_count": 102,
     "metadata": {},
     "output_type": "execute_result"
    },
    {
     "data": {
      "image/png": "[encoded data removed]",
      "text/plain": [
       "<Figure size 640x480 with 1 Axes>"
      ]
     },
     "metadata": {},
     "output_type": "display_data"
    }
   ],
   "source": [
    "df3 = normiz(df2,umi)\n",
    "df4 = df3.T\n",
    "tri_mean = [np.mean(df4.iloc[i]) for i in range(13)]\n",
    "tri_var = [np.var(df4.iloc[i]) for i in range(13)]\n",
    "x = tri_mean\n",
    "y = tri_var\n",
    "plt.scatter(np.log(x),np.log(y))"
   ]
  },
  {
   "cell_type": "code",
   "execution_count": null,
   "metadata": {},
   "outputs": [],
   "source": []
  }
 ],
 "metadata": {
  "kernelspec": {
   "display_name": "base",
   "language": "python",
   "name": "python3"
  },
  "language_info": {
   "codemirror_mode": {
    "name": "ipython",
    "version": 3
   },
   "file_extension": ".py",
   "mimetype": "text/x-python",
   "name": "python",
   "nbconvert_exporter": "python",
   "pygments_lexer": "ipython3",
   "version": "3.11.5"
  }
 },
 "nbformat": 4,
 "nbformat_minor": 2
}
