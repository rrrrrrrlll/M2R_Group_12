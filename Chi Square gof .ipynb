{
 "cells": [
  {
   "cell_type": "code",
   "execution_count": 1,
   "metadata": {},
   "outputs": [],
   "source": [
    "import numpy as np\n",
    "import matplotlib.pyplot as plt\n",
    "import seaborn as sns\n",
    "import pandas as pd\n",
    "import arviz as az\n",
    "import pymc as pm\n",
    "import corner\n",
    "import scipy.stats as st\n",
    "from statistics import mean\n",
    "from collections import Counter"
   ]
  },
  {
   "cell_type": "code",
   "execution_count": 2,
   "metadata": {},
   "outputs": [
    {
     "data": {
      "text/plain": [
       "['MT-ND1',\n",
       " 'MT-ND2',\n",
       " 'MT-ND3',\n",
       " 'MT-ND4',\n",
       " 'MT-ND4L',\n",
       " 'MT-ND5',\n",
       " 'MT-ND6',\n",
       " 'MT-CO1',\n",
       " 'MT-CO2',\n",
       " 'MT-CO3',\n",
       " 'MT-ATP6',\n",
       " 'MT-ATP8',\n",
       " 'MT-CYB']"
      ]
     },
     "execution_count": 2,
     "metadata": {},
     "output_type": "execute_result"
    }
   ],
   "source": [
    "file_path = 'Datasets/mt_genes_metadata.csv'\n",
    "\n",
    "met = pd.read_csv(file_path)\n",
    "\n",
    "pro_code=met[met['gene_type']=='protein_coding']\n",
    "intpro=pro_code['gene_name'].tolist()\n",
    "intpro=['MT-ND1','MT-ND2','MT-ND3','MT-ND4','MT-ND4L','MT-ND5','MT-ND6', 'MT-CO1', 'MT-CO2','MT-CO3', 'MT-ATP6', 'MT-ATP8', 'MT-CYB']\n",
    "intpro"
   ]
  },
  {
   "cell_type": "code",
   "execution_count": 3,
   "metadata": {},
   "outputs": [],
   "source": [
    "file_path = 'Datasets/Donor1_CD4_Genes.csv'\n",
    "\n",
    "p14 = pd.read_csv(file_path)\n",
    "\n",
    "p14.drop(columns=p14.columns[0], axis=1, inplace=True)\n",
    "\n",
    "pat1_4int=pd.DataFrame([p14[i] for i in intpro]).T\n",
    "\n",
    "file_path = 'Datasets/Donor1_CD8_Genes.csv'\n",
    "\n",
    "p18 = pd.read_csv(file_path)\n",
    "\n",
    "p18.drop(columns=p18.columns[0], axis=1, inplace=True)\n",
    "\n",
    "pat1_8int=pd.DataFrame([p18[i] for i in intpro]).T\n",
    "\n",
    "file_path = 'Datasets/Donor2_CD4_Genes.csv'\n",
    "\n",
    "p24 = pd.read_csv(file_path)\n",
    "\n",
    "p24.drop(columns=p24.columns[0], axis=1, inplace=True)\n",
    "\n",
    "pat2_4int=pd.DataFrame([p24[i] for i in intpro]).T\n",
    "\n",
    "file_path = 'Datasets/Donor2_CD8_Genes.csv'\n",
    "\n",
    "p28 = pd.read_csv(file_path)\n",
    "\n",
    "p28.drop(columns=p28.columns[0], axis=1, inplace=True)\n",
    "\n",
    "pat2_8int=pd.DataFrame([p28[i] for i in intpro]).T\n",
    "\n",
    "total=pd.concat([p14,p18,p24,p28])\n",
    "\n",
    "total_int=pd.concat([pat1_4int,pat1_8int, pat2_4int,pat2_8int])\n",
    "\n",
    "totaln=len(total_int)\n"
   ]
  },
  {
   "cell_type": "code",
   "execution_count": 4,
   "metadata": {},
   "outputs": [],
   "source": [
    "total_sampto=total.sum() #total number of each gene\n",
    "totalgene=total_sampto.sum() #total number of genes"
   ]
  },
  {
   "cell_type": "code",
   "execution_count": 5,
   "metadata": {},
   "outputs": [],
   "source": [
    "#number of DNA strands in each file\n",
    "p14n=len(pat1_4int)\n",
    "p18n=len(pat1_8int)\n",
    "p24n=len(pat2_4int)\n",
    "p28n=len(pat2_8int)"
   ]
  },
  {
   "cell_type": "code",
   "execution_count": 6,
   "metadata": {},
   "outputs": [],
   "source": [
    "#Calculates the number of genes for each DNA\n",
    "p14_allsampto=p14.sum(axis=1)\n",
    "p18_allsampto=p18.sum(axis=1)\n",
    "p24_allsampto=p24.sum(axis=1)\n",
    "p28_allsampto=p28.sum(axis=1)"
   ]
  },
  {
   "cell_type": "markdown",
   "metadata": {},
   "source": [
    "Normalising data and then computing Unbiased estimate of neg binom proportion"
   ]
  },
  {
   "cell_type": "code",
   "execution_count": 43,
   "metadata": {},
   "outputs": [
    {
     "data": {
      "text/plain": [
       "{'MT-ND1': 0.9973631963764747,\n",
       " 'MT-ND2': 0.9988064883326756,\n",
       " 'MT-ND3': 0.997476549325719,\n",
       " 'MT-ND4': 0.9986610119965768,\n",
       " 'MT-ND4L': 0.9968742389123535,\n",
       " 'MT-ND5': 0.9981162122324965,\n",
       " 'MT-ND6': 0.9994244858081606,\n",
       " 'MT-CO1': 0.9941385071004302,\n",
       " 'MT-CO2': 0.9929643507462625,\n",
       " 'MT-CO3': 0.9947905945989968,\n",
       " 'MT-ATP6': 0.9991827989556595,\n",
       " 'MT-ATP8': 0.9958575966868964,\n",
       " 'MT-CYB': 0.9949783189737844}"
      ]
     },
     "execution_count": 43,
     "metadata": {},
     "output_type": "execute_result"
    }
   ],
   "source": [
    "r=1000\n",
    "uem14_list=[]\n",
    "for j in intpro:\n",
    "    uem_sample_list=[]\n",
    "    for i in range(p14n):   \n",
    "        norm_cons=(p14_allsampto[i]-p14[j][i])/r #inidividual normalisation constant\n",
    "        x=p14[j][i]/norm_cons\n",
    "        uem=(r-1)/(x+r-1)\n",
    "        uem_sample_list.append(uem)\n",
    "    uem14_list.append(mean(uem_sample_list))\n",
    "uem14_list=dict(zip(intpro,uem14_list))\n",
    "\n",
    "uem18_list=[]\n",
    "for j in intpro:\n",
    "    uem_sample_list=[]\n",
    "    for i in range(p18n):   \n",
    "        norm_cons=(p18_allsampto[i]-p18[j][i])/r #inidividual normalisation constant\n",
    "        x=p18[j][i]/norm_cons\n",
    "        uem=(r-1)/(x+r-1)\n",
    "        uem_sample_list.append(uem)\n",
    "    uem18_list.append(mean(uem_sample_list))\n",
    "uem18_list=dict(zip(intpro,uem18_list))\n",
    "\n",
    "uem24_list=[]\n",
    "for j in intpro:\n",
    "    uem_sample_list=[]\n",
    "    for i in range(p24n):   \n",
    "        norm_cons=(p24_allsampto[i]-p24[j][i])/r #inidividual normalisation constant\n",
    "        x=p24[j][i]/norm_cons\n",
    "        uem=(r-1)/(x+r-1)\n",
    "        uem_sample_list.append(uem)\n",
    "    uem24_list.append(mean(uem_sample_list))\n",
    "uem24_list=dict(zip(intpro,uem24_list))\n",
    "\n",
    "uem28_list=[]\n",
    "for j in intpro:\n",
    "    uem_sample_list=[]\n",
    "    for i in range(p28n):   \n",
    "        norm_cons=(p28_allsampto[i]-p28[j][i])/r #inidividual normalisation constant\n",
    "        x=p28[j][i]/norm_cons\n",
    "        uem=(r-1)/(x+r-1)\n",
    "        uem_sample_list.append(uem)\n",
    "    uem28_list.append(mean(uem_sample_list))\n",
    "uem28_list=dict(zip(intpro,uem28_list))\n",
    "uem28_list"
   ]
  },
  {
   "cell_type": "markdown",
   "metadata": {},
   "source": [
    "χ² test: H0: Follows nbin, H1: Doesn't Follow"
   ]
  },
  {
   "cell_type": "code",
   "execution_count": 60,
   "metadata": {},
   "outputs": [
    {
     "data": {
      "text/plain": [
       "{'MT-ND1': -259.1006299814303,\n",
       " 'MT-ND2': -994.5354100216814,\n",
       " 'MT-ND3': -1110.4332543286637,\n",
       " 'MT-ND4': -1385.0219285706173,\n",
       " 'MT-ND4L': 851.3411864570539,\n",
       " 'MT-ND5': -1156.954331634691,\n",
       " 'MT-ND6': -1561.9014019043182,\n",
       " 'MT-CO1': 3559.863627739884,\n",
       " 'MT-CO2': 4969.570977377631,\n",
       " 'MT-CO3': 3287.834732136768,\n",
       " 'MT-ATP6': -1839.3653492497158,\n",
       " 'MT-ATP8': 3207.6709603345557,\n",
       " 'MT-CYB': 1849.5343145344264}"
      ]
     },
     "execution_count": 60,
     "metadata": {},
     "output_type": "execute_result"
    }
   ],
   "source": [
    "#p1_4\n",
    "df14=p14n-1\n",
    "cv=st.chi2.ppf(0.99,df14)\n",
    "chi1_p14_ts=[]\n",
    "chi1_p14_res=[]\n",
    "for j in intpro:\n",
    "    ts=0\n",
    "    p=uem14_list[j]\n",
    "    for i in range(p14n):\n",
    "        r=1000\n",
    "        norm_cons=(p14_allsampto[i]-p14[j][i])/r #inidividual normalisation constant\n",
    "        o=p14[j][i]/norm_cons\n",
    "        e=r*(1-p)/p\n",
    "        ts+=(e-o)**2/e\n",
    "    chi1_p14_ts.append(ts)\n",
    "    chi1_p14_res.append(ts-cv)\n",
    "chi_p14_res=dict(zip(intpro,chi1_p14_res))\n",
    "chi_p14_res"
   ]
  },
  {
   "cell_type": "code",
   "execution_count": 61,
   "metadata": {},
   "outputs": [
    {
     "data": {
      "text/plain": [
       "{'MT-ND1': -1086.2564879612235,\n",
       " 'MT-ND2': -1227.267873724294,\n",
       " 'MT-ND3': -1285.5864712820774,\n",
       " 'MT-ND4': -1399.139664297534,\n",
       " 'MT-ND4L': -462.6046495251087,\n",
       " 'MT-ND5': -927.546691428279,\n",
       " 'MT-ND6': -1259.37664232384,\n",
       " 'MT-CO1': 960.0339049903091,\n",
       " 'MT-CO2': 823.0536060287031,\n",
       " 'MT-CO3': -51.17586855621357,\n",
       " 'MT-ATP6': -1433.6842835822417,\n",
       " 'MT-ATP8': 470.0422335468329,\n",
       " 'MT-CYB': -36.365668770027696}"
      ]
     },
     "execution_count": 61,
     "metadata": {},
     "output_type": "execute_result"
    }
   ],
   "source": [
    "#p1_8\n",
    "df18=p18n-1\n",
    "cv=st.chi2.ppf(0.99,df18)\n",
    "chi1_p18_ts=[]\n",
    "chi1_p18_res=[]\n",
    "for j in intpro:\n",
    "    ts=0\n",
    "    p=uem18_list[j]\n",
    "    for i in range(p18n):\n",
    "        r=1000\n",
    "        norm_cons=(p18_allsampto[i]-p18[j][i])/r #inidividual normalisation constant\n",
    "        o=p18[j][i]/norm_cons\n",
    "        e=r*(1-p)/p\n",
    "        ts+=(e-o)**2/e\n",
    "    chi1_p18_ts.append(ts)\n",
    "    chi1_p18_res.append(ts-cv)\n",
    "chi_p18_res=dict(zip(intpro,chi1_p18_res))\n",
    "chi_p18_res"
   ]
  },
  {
   "cell_type": "code",
   "execution_count": 62,
   "metadata": {},
   "outputs": [
    {
     "data": {
      "text/plain": [
       "{'MT-ND1': -1705.0639372465807,\n",
       " 'MT-ND2': -2278.378735221855,\n",
       " 'MT-ND3': -1845.2322835038221,\n",
       " 'MT-ND4': -2501.2593313618245,\n",
       " 'MT-ND4L': -1602.5596948634711,\n",
       " 'MT-ND5': -2206.707468257585,\n",
       " 'MT-ND6': -1875.4958358095714,\n",
       " 'MT-CO1': 1955.0110015023083,\n",
       " 'MT-CO2': 626.2349330615343,\n",
       " 'MT-CO3': -583.5652924087162,\n",
       " 'MT-ATP6': -2515.9541966190227,\n",
       " 'MT-ATP8': -338.7471345521785,\n",
       " 'MT-CYB': -213.1905640435939}"
      ]
     },
     "execution_count": 62,
     "metadata": {},
     "output_type": "execute_result"
    }
   ],
   "source": [
    "#p2_4\n",
    "df24=p24n-1\n",
    "cv=st.chi2.ppf(0.99,df24)\n",
    "chi1_p24_ts=[]\n",
    "chi1_p24_res=[]\n",
    "for j in intpro:\n",
    "    ts=0\n",
    "    p=uem24_list[j]\n",
    "    for i in range(p24n):\n",
    "        r=1000\n",
    "        norm_cons=(p24_allsampto[i]-p24[j][i])/r #inidividual normalisation constant\n",
    "        o=p24[j][i]/norm_cons\n",
    "        e=r*(1-p)/p\n",
    "        ts+=(e-o)**2/e\n",
    "    chi1_p24_ts.append(ts)\n",
    "    chi1_p24_res.append(ts-cv)\n",
    "chi_p24_res=dict(zip(intpro,chi1_p24_res))\n",
    "chi_p24_res"
   ]
  },
  {
   "cell_type": "code",
   "execution_count": 63,
   "metadata": {},
   "outputs": [
    {
     "data": {
      "text/plain": [
       "{'MT-ND1': -476.8398241138193,\n",
       " 'MT-ND2': -760.0681305097527,\n",
       " 'MT-ND3': -583.9310585132043,\n",
       " 'MT-ND4': -743.3713364365121,\n",
       " 'MT-ND4L': -470.84439198819655,\n",
       " 'MT-ND5': -655.6376203431214,\n",
       " 'MT-ND6': -252.0406293457654,\n",
       " 'MT-CO1': 709.0037794292825,\n",
       " 'MT-CO2': 278.1469399556938,\n",
       " 'MT-CO3': -89.20066488222665,\n",
       " 'MT-ATP6': -961.1270513844944,\n",
       " 'MT-ATP8': -101.73688722536463,\n",
       " 'MT-CYB': 225.3741148597535}"
      ]
     },
     "execution_count": 63,
     "metadata": {},
     "output_type": "execute_result"
    }
   ],
   "source": [
    "#p2_8\n",
    "df28=p28n-1\n",
    "cv=st.chi2.ppf(0.99,df28)\n",
    "chi1_p28_ts=[]\n",
    "chi1_p28_res=[]\n",
    "for j in intpro:\n",
    "    ts=0\n",
    "    p=uem28_list[j]\n",
    "    for i in range(p28n):\n",
    "        r=1000\n",
    "        norm_cons=(p28_allsampto[i]-p28[j][i])/r #inidividual normalisation constant\n",
    "        o=p28[j][i]/norm_cons\n",
    "        e=r*(1-p)/p\n",
    "        ts+=(e-o)**2/e\n",
    "    chi1_p28_ts.append(ts)\n",
    "    chi1_p28_res.append(ts-cv)\n",
    "chi_p28_res=dict(zip(intpro,chi1_p28_res))\n",
    "chi_p28_res"
   ]
  },
  {
   "cell_type": "code",
   "execution_count": 64,
   "metadata": {},
   "outputs": [],
   "source": [
    "chi_p14_resdf=pd.Series(chi_p14_res)\n",
    "chi_p14_resdf=pd.DataFrame(chi_p14_resdf,columns=['P1_4'])\n",
    "chi_p18_resdf=pd.Series(chi_p18_res)\n",
    "chi_p18_resdf=pd.DataFrame(chi_p18_resdf,columns=['P1_8'])\n",
    "chi_p24_resdf=pd.Series(chi_p24_res)\n",
    "chi_p24_resdf=pd.DataFrame(chi_p24_resdf,columns=['P2_4'])\n",
    "chi_p28_resdf=pd.Series(chi_p28_res)\n",
    "chi_p28_resdf=pd.DataFrame(chi_p28_resdf,columns=['P2_8'])\n",
    "overall_chi_res=pd.concat([chi_p14_resdf,chi_p18_resdf,chi_p24_resdf, chi_p28_resdf], axis=1)"
   ]
  },
  {
   "cell_type": "code",
   "execution_count": 65,
   "metadata": {},
   "outputs": [
    {
     "data": {
      "text/html": [
       "<div>\n",
       "<style scoped>\n",
       "    .dataframe tbody tr th:only-of-type {\n",
       "        vertical-align: middle;\n",
       "    }\n",
       "\n",
       "    .dataframe tbody tr th {\n",
       "        vertical-align: top;\n",
       "    }\n",
       "\n",
       "    .dataframe thead th {\n",
       "        text-align: right;\n",
       "    }\n",
       "</style>\n",
       "<table border=\"1\" class=\"dataframe\">\n",
       "  <thead>\n",
       "    <tr style=\"text-align: right;\">\n",
       "      <th></th>\n",
       "      <th>P1_4</th>\n",
       "      <th>P1_8</th>\n",
       "      <th>P2_4</th>\n",
       "      <th>P2_8</th>\n",
       "    </tr>\n",
       "  </thead>\n",
       "  <tbody>\n",
       "    <tr>\n",
       "      <th>MT-ND1</th>\n",
       "      <td>-259.100630</td>\n",
       "      <td>-1086.256488</td>\n",
       "      <td>-1705.063937</td>\n",
       "      <td>-476.839824</td>\n",
       "    </tr>\n",
       "    <tr>\n",
       "      <th>MT-ND2</th>\n",
       "      <td>-994.535410</td>\n",
       "      <td>-1227.267874</td>\n",
       "      <td>-2278.378735</td>\n",
       "      <td>-760.068131</td>\n",
       "    </tr>\n",
       "    <tr>\n",
       "      <th>MT-ND3</th>\n",
       "      <td>-1110.433254</td>\n",
       "      <td>-1285.586471</td>\n",
       "      <td>-1845.232284</td>\n",
       "      <td>-583.931059</td>\n",
       "    </tr>\n",
       "    <tr>\n",
       "      <th>MT-ND4</th>\n",
       "      <td>-1385.021929</td>\n",
       "      <td>-1399.139664</td>\n",
       "      <td>-2501.259331</td>\n",
       "      <td>-743.371336</td>\n",
       "    </tr>\n",
       "    <tr>\n",
       "      <th>MT-ND4L</th>\n",
       "      <td>851.341186</td>\n",
       "      <td>-462.604650</td>\n",
       "      <td>-1602.559695</td>\n",
       "      <td>-470.844392</td>\n",
       "    </tr>\n",
       "    <tr>\n",
       "      <th>MT-ND5</th>\n",
       "      <td>-1156.954332</td>\n",
       "      <td>-927.546691</td>\n",
       "      <td>-2206.707468</td>\n",
       "      <td>-655.637620</td>\n",
       "    </tr>\n",
       "    <tr>\n",
       "      <th>MT-ND6</th>\n",
       "      <td>-1561.901402</td>\n",
       "      <td>-1259.376642</td>\n",
       "      <td>-1875.495836</td>\n",
       "      <td>-252.040629</td>\n",
       "    </tr>\n",
       "    <tr>\n",
       "      <th>MT-CO1</th>\n",
       "      <td>3559.863628</td>\n",
       "      <td>960.033905</td>\n",
       "      <td>1955.011002</td>\n",
       "      <td>709.003779</td>\n",
       "    </tr>\n",
       "    <tr>\n",
       "      <th>MT-CO2</th>\n",
       "      <td>4969.570977</td>\n",
       "      <td>823.053606</td>\n",
       "      <td>626.234933</td>\n",
       "      <td>278.146940</td>\n",
       "    </tr>\n",
       "    <tr>\n",
       "      <th>MT-CO3</th>\n",
       "      <td>3287.834732</td>\n",
       "      <td>-51.175869</td>\n",
       "      <td>-583.565292</td>\n",
       "      <td>-89.200665</td>\n",
       "    </tr>\n",
       "    <tr>\n",
       "      <th>MT-ATP6</th>\n",
       "      <td>-1839.365349</td>\n",
       "      <td>-1433.684284</td>\n",
       "      <td>-2515.954197</td>\n",
       "      <td>-961.127051</td>\n",
       "    </tr>\n",
       "    <tr>\n",
       "      <th>MT-ATP8</th>\n",
       "      <td>3207.670960</td>\n",
       "      <td>470.042234</td>\n",
       "      <td>-338.747135</td>\n",
       "      <td>-101.736887</td>\n",
       "    </tr>\n",
       "    <tr>\n",
       "      <th>MT-CYB</th>\n",
       "      <td>1849.534315</td>\n",
       "      <td>-36.365669</td>\n",
       "      <td>-213.190564</td>\n",
       "      <td>225.374115</td>\n",
       "    </tr>\n",
       "  </tbody>\n",
       "</table>\n",
       "</div>"
      ],
      "text/plain": [
       "                P1_4         P1_8         P2_4        P2_8\n",
       "MT-ND1   -259.100630 -1086.256488 -1705.063937 -476.839824\n",
       "MT-ND2   -994.535410 -1227.267874 -2278.378735 -760.068131\n",
       "MT-ND3  -1110.433254 -1285.586471 -1845.232284 -583.931059\n",
       "MT-ND4  -1385.021929 -1399.139664 -2501.259331 -743.371336\n",
       "MT-ND4L   851.341186  -462.604650 -1602.559695 -470.844392\n",
       "MT-ND5  -1156.954332  -927.546691 -2206.707468 -655.637620\n",
       "MT-ND6  -1561.901402 -1259.376642 -1875.495836 -252.040629\n",
       "MT-CO1   3559.863628   960.033905  1955.011002  709.003779\n",
       "MT-CO2   4969.570977   823.053606   626.234933  278.146940\n",
       "MT-CO3   3287.834732   -51.175869  -583.565292  -89.200665\n",
       "MT-ATP6 -1839.365349 -1433.684284 -2515.954197 -961.127051\n",
       "MT-ATP8  3207.670960   470.042234  -338.747135 -101.736887\n",
       "MT-CYB   1849.534315   -36.365669  -213.190564  225.374115"
      ]
     },
     "execution_count": 65,
     "metadata": {},
     "output_type": "execute_result"
    }
   ],
   "source": [
    "overall_chi_res"
   ]
  },
  {
   "cell_type": "markdown",
   "metadata": {},
   "source": [
    "Below is unrefined stuff"
   ]
  },
  {
   "cell_type": "code",
   "execution_count": 71,
   "metadata": {},
   "outputs": [
    {
     "data": {
      "text/plain": [
       "[4111.197925329632,\n",
       " 3043.734773332208,\n",
       " 2419.2040819217004,\n",
       " 1987.8232946176636,\n",
       " 6403.878663851136,\n",
       " 2852.984004617039,\n",
       " 1548.3527769126326,\n",
       " 13955.610254847617,\n",
       " 15100.751960680309,\n",
       " 11456.024761625824,\n",
       " 984.9264501561092,\n",
       " 11442.159314060757,\n",
       " 9233.692961764658]"
      ]
     },
     "execution_count": 71,
     "metadata": {},
     "output_type": "execute_result"
    }
   ],
   "source": [
    "#p1_4\n",
    "df14=p14n-2\n",
    "cv=st.chi2.ppf(0.95,df14)\n",
    "chi2_p14_ts=[]\n",
    "chi2_p14_res=[]\n",
    "for j in intpro:\n",
    "    ts=0\n",
    "    p=uem14t_list[j]\n",
    "    for i in range(p14n):\n",
    "        if p14_allsampto[i]==0:\n",
    "            ts+=0\n",
    "        else:\n",
    "            r=p14_allsampto[i]-pat1_4int[j][i]\n",
    "            o=pat1_4int[j][i]\n",
    "            e=r*(1-p)/p\n",
    "            ts+=(e-o)**2/e\n",
    "    chi2_p14_ts.append(ts)\n",
    "    chi2_p14_res.append(ts-cv)\n",
    "chi2_p14_res"
   ]
  },
  {
   "cell_type": "code",
   "execution_count": null,
   "metadata": {},
   "outputs": [],
   "source": []
  }
 ],
 "metadata": {
  "kernelspec": {
   "display_name": "pymc_env",
   "language": "python",
   "name": "python3"
  },
  "language_info": {
   "codemirror_mode": {
    "name": "ipython",
    "version": 3
   },
   "file_extension": ".py",
   "mimetype": "text/x-python",
   "name": "python",
   "nbconvert_exporter": "python",
   "pygments_lexer": "ipython3",
   "version": "3.12.3"
  }
 },
 "nbformat": 4,
 "nbformat_minor": 2
}
